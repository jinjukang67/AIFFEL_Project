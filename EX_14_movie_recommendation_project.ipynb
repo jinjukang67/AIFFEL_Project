{
 "cells": [
  {
   "cell_type": "markdown",
   "id": "3b888078",
   "metadata": {},
   "source": [
    "# 프로젝트 - Movielens 영화 추천 실습\n",
    "\n",
    "- 별점을 시청횟수로 해석해서 생각\n",
    "- 사용자가 3점 미만으로 준 데이터는 선호하지 않는다고 가정하고 제외"
   ]
  },
  {
   "cell_type": "markdown",
   "id": "229834fb",
   "metadata": {},
   "source": [
    "# 1. 데이터 준비와 전처리"
   ]
  },
  {
   "cell_type": "code",
   "execution_count": 1,
   "id": "64f2e31e",
   "metadata": {
    "scrolled": true
   },
   "outputs": [
    {
     "data": {
      "text/html": [
       "<div>\n",
       "<style scoped>\n",
       "    .dataframe tbody tr th:only-of-type {\n",
       "        vertical-align: middle;\n",
       "    }\n",
       "\n",
       "    .dataframe tbody tr th {\n",
       "        vertical-align: top;\n",
       "    }\n",
       "\n",
       "    .dataframe thead th {\n",
       "        text-align: right;\n",
       "    }\n",
       "</style>\n",
       "<table border=\"1\" class=\"dataframe\">\n",
       "  <thead>\n",
       "    <tr style=\"text-align: right;\">\n",
       "      <th></th>\n",
       "      <th>user_id</th>\n",
       "      <th>movie_id</th>\n",
       "      <th>ratings</th>\n",
       "      <th>timestamp</th>\n",
       "    </tr>\n",
       "  </thead>\n",
       "  <tbody>\n",
       "    <tr>\n",
       "      <th>0</th>\n",
       "      <td>1</td>\n",
       "      <td>1193</td>\n",
       "      <td>5</td>\n",
       "      <td>978300760</td>\n",
       "    </tr>\n",
       "    <tr>\n",
       "      <th>1</th>\n",
       "      <td>1</td>\n",
       "      <td>661</td>\n",
       "      <td>3</td>\n",
       "      <td>978302109</td>\n",
       "    </tr>\n",
       "    <tr>\n",
       "      <th>2</th>\n",
       "      <td>1</td>\n",
       "      <td>914</td>\n",
       "      <td>3</td>\n",
       "      <td>978301968</td>\n",
       "    </tr>\n",
       "    <tr>\n",
       "      <th>3</th>\n",
       "      <td>1</td>\n",
       "      <td>3408</td>\n",
       "      <td>4</td>\n",
       "      <td>978300275</td>\n",
       "    </tr>\n",
       "    <tr>\n",
       "      <th>4</th>\n",
       "      <td>1</td>\n",
       "      <td>2355</td>\n",
       "      <td>5</td>\n",
       "      <td>978824291</td>\n",
       "    </tr>\n",
       "  </tbody>\n",
       "</table>\n",
       "</div>"
      ],
      "text/plain": [
       "   user_id  movie_id  ratings  timestamp\n",
       "0        1      1193        5  978300760\n",
       "1        1       661        3  978302109\n",
       "2        1       914        3  978301968\n",
       "3        1      3408        4  978300275\n",
       "4        1      2355        5  978824291"
      ]
     },
     "execution_count": 1,
     "metadata": {},
     "output_type": "execute_result"
    }
   ],
   "source": [
    "import pandas as pd\n",
    "import os\n",
    "\n",
    "rating_file_path=os.getenv('HOME') + '/aiffel/recommendata_iu/data/ml-1m/ratings.dat'\n",
    "ratings_cols = ['user_id', 'movie_id', 'ratings', 'timestamp']\n",
    "ratings = pd.read_csv(rating_file_path, sep='::', names=ratings_cols, engine='python', encoding = \"ISO-8859-1\")\n",
    "orginal_data_size = len(ratings)\n",
    "ratings.head()"
   ]
  },
  {
   "cell_type": "markdown",
   "id": "096353b7",
   "metadata": {},
   "source": [
    "평점 3점 이상의 비율은?"
   ]
  },
  {
   "cell_type": "code",
   "execution_count": 2,
   "id": "a46e9cc1",
   "metadata": {},
   "outputs": [
    {
     "name": "stdout",
     "output_type": "stream",
     "text": [
      "orginal_data_size: 1000209, filtered_data_size: 836478\n",
      "Ratio of Remaining Data is 83.63%\n"
     ]
    }
   ],
   "source": [
    "# 3점 이상만 남깁니다.\n",
    "ratings = ratings[ratings['ratings']>=3]\n",
    "filtered_data_size = len(ratings)\n",
    "\n",
    "print(f'orginal_data_size: {orginal_data_size}, filtered_data_size: {filtered_data_size}')\n",
    "print(f'Ratio of Remaining Data is {filtered_data_size / orginal_data_size:.2%}')"
   ]
  },
  {
   "cell_type": "code",
   "execution_count": 3,
   "id": "5bc9b146",
   "metadata": {},
   "outputs": [],
   "source": [
    "# ratings 컬럼의 이름을 counts로 바꿉니다.\n",
    "ratings.rename(columns={'ratings':'counts'}, inplace=True)"
   ]
  },
  {
   "cell_type": "code",
   "execution_count": 4,
   "id": "4b2e155b",
   "metadata": {},
   "outputs": [
    {
     "data": {
      "text/plain": [
       "0          5\n",
       "1          3\n",
       "2          3\n",
       "3          4\n",
       "4          5\n",
       "          ..\n",
       "1000203    3\n",
       "1000205    5\n",
       "1000206    5\n",
       "1000207    4\n",
       "1000208    4\n",
       "Name: counts, Length: 836478, dtype: int64"
      ]
     },
     "execution_count": 4,
     "metadata": {},
     "output_type": "execute_result"
    }
   ],
   "source": [
    "ratings['counts']"
   ]
  },
  {
   "cell_type": "code",
   "execution_count": 5,
   "id": "057d3e1d",
   "metadata": {},
   "outputs": [
    {
     "data": {
      "text/html": [
       "<div>\n",
       "<style scoped>\n",
       "    .dataframe tbody tr th:only-of-type {\n",
       "        vertical-align: middle;\n",
       "    }\n",
       "\n",
       "    .dataframe tbody tr th {\n",
       "        vertical-align: top;\n",
       "    }\n",
       "\n",
       "    .dataframe thead th {\n",
       "        text-align: right;\n",
       "    }\n",
       "</style>\n",
       "<table border=\"1\" class=\"dataframe\">\n",
       "  <thead>\n",
       "    <tr style=\"text-align: right;\">\n",
       "      <th></th>\n",
       "      <th>movie_id</th>\n",
       "      <th>title</th>\n",
       "      <th>genre</th>\n",
       "    </tr>\n",
       "  </thead>\n",
       "  <tbody>\n",
       "    <tr>\n",
       "      <th>0</th>\n",
       "      <td>1</td>\n",
       "      <td>Toy Story (1995)</td>\n",
       "      <td>Animation|Children's|Comedy</td>\n",
       "    </tr>\n",
       "    <tr>\n",
       "      <th>1</th>\n",
       "      <td>2</td>\n",
       "      <td>Jumanji (1995)</td>\n",
       "      <td>Adventure|Children's|Fantasy</td>\n",
       "    </tr>\n",
       "    <tr>\n",
       "      <th>2</th>\n",
       "      <td>3</td>\n",
       "      <td>Grumpier Old Men (1995)</td>\n",
       "      <td>Comedy|Romance</td>\n",
       "    </tr>\n",
       "    <tr>\n",
       "      <th>3</th>\n",
       "      <td>4</td>\n",
       "      <td>Waiting to Exhale (1995)</td>\n",
       "      <td>Comedy|Drama</td>\n",
       "    </tr>\n",
       "    <tr>\n",
       "      <th>4</th>\n",
       "      <td>5</td>\n",
       "      <td>Father of the Bride Part II (1995)</td>\n",
       "      <td>Comedy</td>\n",
       "    </tr>\n",
       "  </tbody>\n",
       "</table>\n",
       "</div>"
      ],
      "text/plain": [
       "   movie_id                               title                         genre\n",
       "0         1                    Toy Story (1995)   Animation|Children's|Comedy\n",
       "1         2                      Jumanji (1995)  Adventure|Children's|Fantasy\n",
       "2         3             Grumpier Old Men (1995)                Comedy|Romance\n",
       "3         4            Waiting to Exhale (1995)                  Comedy|Drama\n",
       "4         5  Father of the Bride Part II (1995)                        Comedy"
      ]
     },
     "execution_count": 5,
     "metadata": {},
     "output_type": "execute_result"
    }
   ],
   "source": [
    "# 영화 제목을 보기 위해 메타 데이터를 읽어옵니다.\n",
    "movie_file_path=os.getenv('HOME') + '/aiffel/recommendata_iu/data/ml-1m/movies.dat'\n",
    "cols = ['movie_id', 'title', 'genre'] \n",
    "movies = pd.read_csv(movie_file_path, sep='::', names=cols, engine='python', encoding='ISO-8859-1')\n",
    "movies.head()"
   ]
  },
  {
   "cell_type": "code",
   "execution_count": 6,
   "id": "128819e4",
   "metadata": {},
   "outputs": [
    {
     "name": "stdout",
     "output_type": "stream",
     "text": [
      "len(user) : 6039\n",
      "len(movies) : 3628\n"
     ]
    }
   ],
   "source": [
    "print('len(user) :',ratings['user_id'].nunique())\n",
    "print('len(movies) :',ratings['movie_id'].nunique())"
   ]
  },
  {
   "cell_type": "markdown",
   "id": "bbf50fac",
   "metadata": {},
   "source": [
    "# 2. 데이터 분석"
   ]
  },
  {
   "cell_type": "markdown",
   "id": "d90fc11a",
   "metadata": {},
   "source": [
    "### 2.1 ratings Dataframe 정보 확인"
   ]
  },
  {
   "cell_type": "code",
   "execution_count": 7,
   "id": "754b5fcb",
   "metadata": {},
   "outputs": [
    {
     "data": {
      "text/html": [
       "<div>\n",
       "<style scoped>\n",
       "    .dataframe tbody tr th:only-of-type {\n",
       "        vertical-align: middle;\n",
       "    }\n",
       "\n",
       "    .dataframe tbody tr th {\n",
       "        vertical-align: top;\n",
       "    }\n",
       "\n",
       "    .dataframe thead th {\n",
       "        text-align: right;\n",
       "    }\n",
       "</style>\n",
       "<table border=\"1\" class=\"dataframe\">\n",
       "  <thead>\n",
       "    <tr style=\"text-align: right;\">\n",
       "      <th></th>\n",
       "      <th>user_id</th>\n",
       "      <th>movie_id</th>\n",
       "      <th>counts</th>\n",
       "      <th>timestamp</th>\n",
       "    </tr>\n",
       "  </thead>\n",
       "  <tbody>\n",
       "    <tr>\n",
       "      <th>0</th>\n",
       "      <td>1</td>\n",
       "      <td>1193</td>\n",
       "      <td>5</td>\n",
       "      <td>978300760</td>\n",
       "    </tr>\n",
       "    <tr>\n",
       "      <th>1</th>\n",
       "      <td>1</td>\n",
       "      <td>661</td>\n",
       "      <td>3</td>\n",
       "      <td>978302109</td>\n",
       "    </tr>\n",
       "    <tr>\n",
       "      <th>2</th>\n",
       "      <td>1</td>\n",
       "      <td>914</td>\n",
       "      <td>3</td>\n",
       "      <td>978301968</td>\n",
       "    </tr>\n",
       "    <tr>\n",
       "      <th>3</th>\n",
       "      <td>1</td>\n",
       "      <td>3408</td>\n",
       "      <td>4</td>\n",
       "      <td>978300275</td>\n",
       "    </tr>\n",
       "    <tr>\n",
       "      <th>4</th>\n",
       "      <td>1</td>\n",
       "      <td>2355</td>\n",
       "      <td>5</td>\n",
       "      <td>978824291</td>\n",
       "    </tr>\n",
       "  </tbody>\n",
       "</table>\n",
       "</div>"
      ],
      "text/plain": [
       "   user_id  movie_id  counts  timestamp\n",
       "0        1      1193       5  978300760\n",
       "1        1       661       3  978302109\n",
       "2        1       914       3  978301968\n",
       "3        1      3408       4  978300275\n",
       "4        1      2355       5  978824291"
      ]
     },
     "execution_count": 7,
     "metadata": {},
     "output_type": "execute_result"
    }
   ],
   "source": [
    "ratings.head()"
   ]
  },
  {
   "cell_type": "code",
   "execution_count": 8,
   "id": "fbea567a",
   "metadata": {
    "scrolled": true
   },
   "outputs": [
    {
     "name": "stdout",
     "output_type": "stream",
     "text": [
      "<class 'pandas.core.frame.DataFrame'>\n",
      "Int64Index: 836478 entries, 0 to 1000208\n",
      "Data columns (total 4 columns):\n",
      " #   Column     Non-Null Count   Dtype\n",
      "---  ------     --------------   -----\n",
      " 0   user_id    836478 non-null  int64\n",
      " 1   movie_id   836478 non-null  int64\n",
      " 2   counts     836478 non-null  int64\n",
      " 3   timestamp  836478 non-null  int64\n",
      "dtypes: int64(4)\n",
      "memory usage: 31.9 MB\n"
     ]
    }
   ],
   "source": [
    "ratings.info()"
   ]
  },
  {
   "cell_type": "code",
   "execution_count": 9,
   "id": "baa7b652",
   "metadata": {
    "scrolled": true
   },
   "outputs": [
    {
     "data": {
      "text/html": [
       "<div>\n",
       "<style scoped>\n",
       "    .dataframe tbody tr th:only-of-type {\n",
       "        vertical-align: middle;\n",
       "    }\n",
       "\n",
       "    .dataframe tbody tr th {\n",
       "        vertical-align: top;\n",
       "    }\n",
       "\n",
       "    .dataframe thead th {\n",
       "        text-align: right;\n",
       "    }\n",
       "</style>\n",
       "<table border=\"1\" class=\"dataframe\">\n",
       "  <thead>\n",
       "    <tr style=\"text-align: right;\">\n",
       "      <th></th>\n",
       "      <th>user_id</th>\n",
       "      <th>movie_id</th>\n",
       "      <th>counts</th>\n",
       "      <th>timestamp</th>\n",
       "    </tr>\n",
       "  </thead>\n",
       "  <tbody>\n",
       "    <tr>\n",
       "      <th>count</th>\n",
       "      <td>836478.000000</td>\n",
       "      <td>836478.000000</td>\n",
       "      <td>836478.000000</td>\n",
       "      <td>8.364780e+05</td>\n",
       "    </tr>\n",
       "    <tr>\n",
       "      <th>mean</th>\n",
       "      <td>3033.120626</td>\n",
       "      <td>1849.099114</td>\n",
       "      <td>3.958293</td>\n",
       "      <td>9.721628e+08</td>\n",
       "    </tr>\n",
       "    <tr>\n",
       "      <th>std</th>\n",
       "      <td>1729.255651</td>\n",
       "      <td>1091.870094</td>\n",
       "      <td>0.762280</td>\n",
       "      <td>1.206216e+07</td>\n",
       "    </tr>\n",
       "    <tr>\n",
       "      <th>min</th>\n",
       "      <td>1.000000</td>\n",
       "      <td>1.000000</td>\n",
       "      <td>3.000000</td>\n",
       "      <td>9.567039e+08</td>\n",
       "    </tr>\n",
       "    <tr>\n",
       "      <th>25%</th>\n",
       "      <td>1531.000000</td>\n",
       "      <td>1029.000000</td>\n",
       "      <td>3.000000</td>\n",
       "      <td>9.652795e+08</td>\n",
       "    </tr>\n",
       "    <tr>\n",
       "      <th>50%</th>\n",
       "      <td>3080.000000</td>\n",
       "      <td>1747.000000</td>\n",
       "      <td>4.000000</td>\n",
       "      <td>9.728388e+08</td>\n",
       "    </tr>\n",
       "    <tr>\n",
       "      <th>75%</th>\n",
       "      <td>4485.000000</td>\n",
       "      <td>2763.000000</td>\n",
       "      <td>5.000000</td>\n",
       "      <td>9.752064e+08</td>\n",
       "    </tr>\n",
       "    <tr>\n",
       "      <th>max</th>\n",
       "      <td>6040.000000</td>\n",
       "      <td>3952.000000</td>\n",
       "      <td>5.000000</td>\n",
       "      <td>1.046455e+09</td>\n",
       "    </tr>\n",
       "  </tbody>\n",
       "</table>\n",
       "</div>"
      ],
      "text/plain": [
       "             user_id       movie_id         counts     timestamp\n",
       "count  836478.000000  836478.000000  836478.000000  8.364780e+05\n",
       "mean     3033.120626    1849.099114       3.958293  9.721628e+08\n",
       "std      1729.255651    1091.870094       0.762280  1.206216e+07\n",
       "min         1.000000       1.000000       3.000000  9.567039e+08\n",
       "25%      1531.000000    1029.000000       3.000000  9.652795e+08\n",
       "50%      3080.000000    1747.000000       4.000000  9.728388e+08\n",
       "75%      4485.000000    2763.000000       5.000000  9.752064e+08\n",
       "max      6040.000000    3952.000000       5.000000  1.046455e+09"
      ]
     },
     "execution_count": 9,
     "metadata": {},
     "output_type": "execute_result"
    }
   ],
   "source": [
    "ratings.describe()"
   ]
  },
  {
   "cell_type": "code",
   "execution_count": 10,
   "id": "b802b663",
   "metadata": {},
   "outputs": [
    {
     "data": {
      "text/plain": [
       "user_id      0\n",
       "movie_id     0\n",
       "counts       0\n",
       "timestamp    0\n",
       "dtype: int64"
      ]
     },
     "execution_count": 10,
     "metadata": {},
     "output_type": "execute_result"
    }
   ],
   "source": [
    "# ratings 결측치 유무 확인\n",
    "ratings.isnull().sum()"
   ]
  },
  {
   "cell_type": "markdown",
   "id": "87e716bc",
   "metadata": {},
   "source": [
    "### 2.2 movies Dataframe 정보 확인"
   ]
  },
  {
   "cell_type": "code",
   "execution_count": 11,
   "id": "3acb7e3b",
   "metadata": {},
   "outputs": [
    {
     "data": {
      "text/html": [
       "<div>\n",
       "<style scoped>\n",
       "    .dataframe tbody tr th:only-of-type {\n",
       "        vertical-align: middle;\n",
       "    }\n",
       "\n",
       "    .dataframe tbody tr th {\n",
       "        vertical-align: top;\n",
       "    }\n",
       "\n",
       "    .dataframe thead th {\n",
       "        text-align: right;\n",
       "    }\n",
       "</style>\n",
       "<table border=\"1\" class=\"dataframe\">\n",
       "  <thead>\n",
       "    <tr style=\"text-align: right;\">\n",
       "      <th></th>\n",
       "      <th>movie_id</th>\n",
       "      <th>title</th>\n",
       "      <th>genre</th>\n",
       "    </tr>\n",
       "  </thead>\n",
       "  <tbody>\n",
       "    <tr>\n",
       "      <th>0</th>\n",
       "      <td>1</td>\n",
       "      <td>Toy Story (1995)</td>\n",
       "      <td>Animation|Children's|Comedy</td>\n",
       "    </tr>\n",
       "    <tr>\n",
       "      <th>1</th>\n",
       "      <td>2</td>\n",
       "      <td>Jumanji (1995)</td>\n",
       "      <td>Adventure|Children's|Fantasy</td>\n",
       "    </tr>\n",
       "    <tr>\n",
       "      <th>2</th>\n",
       "      <td>3</td>\n",
       "      <td>Grumpier Old Men (1995)</td>\n",
       "      <td>Comedy|Romance</td>\n",
       "    </tr>\n",
       "    <tr>\n",
       "      <th>3</th>\n",
       "      <td>4</td>\n",
       "      <td>Waiting to Exhale (1995)</td>\n",
       "      <td>Comedy|Drama</td>\n",
       "    </tr>\n",
       "    <tr>\n",
       "      <th>4</th>\n",
       "      <td>5</td>\n",
       "      <td>Father of the Bride Part II (1995)</td>\n",
       "      <td>Comedy</td>\n",
       "    </tr>\n",
       "  </tbody>\n",
       "</table>\n",
       "</div>"
      ],
      "text/plain": [
       "   movie_id                               title                         genre\n",
       "0         1                    Toy Story (1995)   Animation|Children's|Comedy\n",
       "1         2                      Jumanji (1995)  Adventure|Children's|Fantasy\n",
       "2         3             Grumpier Old Men (1995)                Comedy|Romance\n",
       "3         4            Waiting to Exhale (1995)                  Comedy|Drama\n",
       "4         5  Father of the Bride Part II (1995)                        Comedy"
      ]
     },
     "execution_count": 11,
     "metadata": {},
     "output_type": "execute_result"
    }
   ],
   "source": [
    "movies.head()"
   ]
  },
  {
   "cell_type": "code",
   "execution_count": 12,
   "id": "64fa10b0",
   "metadata": {
    "scrolled": true
   },
   "outputs": [
    {
     "name": "stdout",
     "output_type": "stream",
     "text": [
      "<class 'pandas.core.frame.DataFrame'>\n",
      "RangeIndex: 3883 entries, 0 to 3882\n",
      "Data columns (total 3 columns):\n",
      " #   Column    Non-Null Count  Dtype \n",
      "---  ------    --------------  ----- \n",
      " 0   movie_id  3883 non-null   int64 \n",
      " 1   title     3883 non-null   object\n",
      " 2   genre     3883 non-null   object\n",
      "dtypes: int64(1), object(2)\n",
      "memory usage: 91.1+ KB\n"
     ]
    }
   ],
   "source": [
    "movies.info() # 텍스트 정보 담고있음"
   ]
  },
  {
   "cell_type": "code",
   "execution_count": 13,
   "id": "ee7bec05",
   "metadata": {
    "scrolled": true
   },
   "outputs": [
    {
     "data": {
      "text/html": [
       "<div>\n",
       "<style scoped>\n",
       "    .dataframe tbody tr th:only-of-type {\n",
       "        vertical-align: middle;\n",
       "    }\n",
       "\n",
       "    .dataframe tbody tr th {\n",
       "        vertical-align: top;\n",
       "    }\n",
       "\n",
       "    .dataframe thead th {\n",
       "        text-align: right;\n",
       "    }\n",
       "</style>\n",
       "<table border=\"1\" class=\"dataframe\">\n",
       "  <thead>\n",
       "    <tr style=\"text-align: right;\">\n",
       "      <th></th>\n",
       "      <th>movie_id</th>\n",
       "    </tr>\n",
       "  </thead>\n",
       "  <tbody>\n",
       "    <tr>\n",
       "      <th>count</th>\n",
       "      <td>3883.000000</td>\n",
       "    </tr>\n",
       "    <tr>\n",
       "      <th>mean</th>\n",
       "      <td>1986.049446</td>\n",
       "    </tr>\n",
       "    <tr>\n",
       "      <th>std</th>\n",
       "      <td>1146.778349</td>\n",
       "    </tr>\n",
       "    <tr>\n",
       "      <th>min</th>\n",
       "      <td>1.000000</td>\n",
       "    </tr>\n",
       "    <tr>\n",
       "      <th>25%</th>\n",
       "      <td>982.500000</td>\n",
       "    </tr>\n",
       "    <tr>\n",
       "      <th>50%</th>\n",
       "      <td>2010.000000</td>\n",
       "    </tr>\n",
       "    <tr>\n",
       "      <th>75%</th>\n",
       "      <td>2980.500000</td>\n",
       "    </tr>\n",
       "    <tr>\n",
       "      <th>max</th>\n",
       "      <td>3952.000000</td>\n",
       "    </tr>\n",
       "  </tbody>\n",
       "</table>\n",
       "</div>"
      ],
      "text/plain": [
       "          movie_id\n",
       "count  3883.000000\n",
       "mean   1986.049446\n",
       "std    1146.778349\n",
       "min       1.000000\n",
       "25%     982.500000\n",
       "50%    2010.000000\n",
       "75%    2980.500000\n",
       "max    3952.000000"
      ]
     },
     "execution_count": 13,
     "metadata": {},
     "output_type": "execute_result"
    }
   ],
   "source": [
    "movies.describe()"
   ]
  },
  {
   "cell_type": "code",
   "execution_count": 14,
   "id": "555afd77",
   "metadata": {},
   "outputs": [
    {
     "data": {
      "text/plain": [
       "movie_id    0\n",
       "title       0\n",
       "genre       0\n",
       "dtype: int64"
      ]
     },
     "execution_count": 14,
     "metadata": {},
     "output_type": "execute_result"
    }
   ],
   "source": [
    "# movies 결측치 유무 확인\n",
    "movies.isnull().sum()"
   ]
  },
  {
   "cell_type": "code",
   "execution_count": 15,
   "id": "7ffd623c",
   "metadata": {},
   "outputs": [
    {
     "name": "stdout",
     "output_type": "stream",
     "text": [
      "ratings에 있는 유니크한 영화 개수 : 6039\n",
      "ratings에 있는 유니크한 사용자 수: 3628\n"
     ]
    }
   ],
   "source": [
    "# 위에서 이미 실행한 코드\n",
    "print('ratings에 있는 유니크한 영화 개수 :',ratings['user_id'].nunique())\n",
    "print('ratings에 있는 유니크한 사용자 수:',ratings['movie_id'].nunique())"
   ]
  },
  {
   "cell_type": "markdown",
   "id": "bccf4a87",
   "metadata": {},
   "source": [
    "### 2.3 아래 3가지 항목 확인\n",
    "- ratings에 있는 유니크한 영화 개수\n",
    "- ratings에 있는 유니크한 사용자 수\n",
    "- 가장 인기 있는 영화 30개(인기순)"
   ]
  },
  {
   "cell_type": "code",
   "execution_count": 16,
   "id": "538e0fe2",
   "metadata": {},
   "outputs": [
    {
     "name": "stdout",
     "output_type": "stream",
     "text": [
      "movie_id\n",
      "1     2000\n",
      "2      551\n",
      "3      339\n",
      "4      102\n",
      "5      214\n",
      "6      868\n",
      "7      391\n",
      "8       49\n",
      "9       57\n",
      "10     786\n",
      "Name: user_id, dtype: int64\n",
      "3211\n"
     ]
    }
   ],
   "source": [
    "# 영화를 본 사용자의 수 \n",
    "users_per_movie = ratings.groupby('movie_id')['user_id'].count()\n",
    "print(users_per_movie.head(10))\n",
    "print(users_per_movie[2858])"
   ]
  },
  {
   "cell_type": "code",
   "execution_count": 17,
   "id": "aa70d70a",
   "metadata": {},
   "outputs": [
    {
     "name": "stdout",
     "output_type": "stream",
     "text": [
      "ratings에 있는 유니크한 영화 개수 : 6039\n"
     ]
    }
   ],
   "source": [
    "# ratings에 있는 unique 영화 개수\n",
    "print('ratings에 있는 유니크한 영화 개수 :',ratings['user_id'].nunique())"
   ]
  },
  {
   "cell_type": "code",
   "execution_count": 18,
   "id": "b02bb3b8",
   "metadata": {},
   "outputs": [
    {
     "name": "stdout",
     "output_type": "stream",
     "text": [
      "ratings에 있는 유니크한 사용자 수: 3628\n"
     ]
    }
   ],
   "source": [
    "# ratings에 있는 unique 사용자 수\n",
    "print('ratings에 있는 유니크한 사용자 수:',ratings['movie_id'].nunique())"
   ]
  },
  {
   "cell_type": "markdown",
   "id": "76a7fd22",
   "metadata": {},
   "source": [
    "#### 인기 있다는 기준을 평점의 합계로 해야할까 아니면 평점의 평균으로 해야할까?"
   ]
  },
  {
   "cell_type": "code",
   "execution_count": 19,
   "id": "98f10875",
   "metadata": {
    "scrolled": true
   },
   "outputs": [
    {
     "data": {
      "text/plain": [
       "movie_id\n",
       "2858    14449\n",
       "260     13178\n",
       "1196    12648\n",
       "2028    11348\n",
       "1210    11303\n",
       "1198    11179\n",
       "593     11096\n",
       "2571    10903\n",
       "2762    10703\n",
       "589     10513\n",
       "608     10465\n",
       "527     10317\n",
       "110     10125\n",
       "318     10085\n",
       "1270    10081\n",
       "858      9965\n",
       "1197     9866\n",
       "480      9601\n",
       "1617     9515\n",
       "2396     9503\n",
       "1580     9057\n",
       "296      9053\n",
       "2997     8964\n",
       "1265     8727\n",
       "1097     8696\n",
       "356      8679\n",
       "1240     8571\n",
       "1        8475\n",
       "2716     8282\n",
       "1214     8244\n",
       "Name: counts, dtype: int64"
      ]
     },
     "execution_count": 19,
     "metadata": {},
     "output_type": "execute_result"
    }
   ],
   "source": [
    "# 가장 인기 있는 영화 30개(인기순) - 1.평점 합계로\n",
    "best30_count = ratings.groupby('movie_id')['counts'].sum().sort_values(ascending=False).head(30)\n",
    "best30_count"
   ]
  },
  {
   "cell_type": "code",
   "execution_count": 20,
   "id": "2e16cb04",
   "metadata": {
    "scrolled": true
   },
   "outputs": [
    {
     "data": {
      "text/plain": [
       "movie_id\n",
       "1830    5.000000\n",
       "3607    5.000000\n",
       "3800    5.000000\n",
       "3280    5.000000\n",
       "989     5.000000\n",
       "1360    5.000000\n",
       "3656    5.000000\n",
       "687     5.000000\n",
       "3881    5.000000\n",
       "787     5.000000\n",
       "1420    5.000000\n",
       "1787    5.000000\n",
       "1553    5.000000\n",
       "3382    5.000000\n",
       "3205    5.000000\n",
       "3236    5.000000\n",
       "572     5.000000\n",
       "3172    5.000000\n",
       "3233    5.000000\n",
       "3245    4.800000\n",
       "53      4.750000\n",
       "3232    4.750000\n",
       "2503    4.666667\n",
       "2197    4.666667\n",
       "3866    4.666667\n",
       "2905    4.647059\n",
       "2019    4.629690\n",
       "670     4.603774\n",
       "858     4.598523\n",
       "318     4.596627\n",
       "Name: counts, dtype: float64"
      ]
     },
     "execution_count": 20,
     "metadata": {},
     "output_type": "execute_result"
    }
   ],
   "source": [
    "# 가장 인기 있는 영화 30개(인기순) - 2. 평점의 평균으로 \n",
    "best30_count_m = ratings.groupby('movie_id')['counts'].mean().sort_values(ascending=False).head(30)\n",
    "best30_count_m"
   ]
  },
  {
   "cell_type": "code",
   "execution_count": 21,
   "id": "21044c01",
   "metadata": {
    "scrolled": true
   },
   "outputs": [
    {
     "data": {
      "text/html": [
       "<div>\n",
       "<style scoped>\n",
       "    .dataframe tbody tr th:only-of-type {\n",
       "        vertical-align: middle;\n",
       "    }\n",
       "\n",
       "    .dataframe tbody tr th {\n",
       "        vertical-align: top;\n",
       "    }\n",
       "\n",
       "    .dataframe thead th {\n",
       "        text-align: right;\n",
       "    }\n",
       "</style>\n",
       "<table border=\"1\" class=\"dataframe\">\n",
       "  <thead>\n",
       "    <tr style=\"text-align: right;\">\n",
       "      <th></th>\n",
       "      <th>user_id</th>\n",
       "      <th>movie_id</th>\n",
       "      <th>counts</th>\n",
       "      <th>timestamp</th>\n",
       "    </tr>\n",
       "  </thead>\n",
       "  <tbody>\n",
       "    <tr>\n",
       "      <th>465274</th>\n",
       "      <td>2869</td>\n",
       "      <td>1830</td>\n",
       "      <td>5</td>\n",
       "      <td>972439040</td>\n",
       "    </tr>\n",
       "  </tbody>\n",
       "</table>\n",
       "</div>"
      ],
      "text/plain": [
       "        user_id  movie_id  counts  timestamp\n",
       "465274     2869      1830       5  972439040"
      ]
     },
     "execution_count": 21,
     "metadata": {},
     "output_type": "execute_result"
    }
   ],
   "source": [
    "ratings[ratings['movie_id'] == 1830]"
   ]
  },
  {
   "cell_type": "code",
   "execution_count": 22,
   "id": "d15c50c7",
   "metadata": {
    "scrolled": true
   },
   "outputs": [
    {
     "data": {
      "text/html": [
       "<div>\n",
       "<style scoped>\n",
       "    .dataframe tbody tr th:only-of-type {\n",
       "        vertical-align: middle;\n",
       "    }\n",
       "\n",
       "    .dataframe tbody tr th {\n",
       "        vertical-align: top;\n",
       "    }\n",
       "\n",
       "    .dataframe thead th {\n",
       "        text-align: right;\n",
       "    }\n",
       "</style>\n",
       "<table border=\"1\" class=\"dataframe\">\n",
       "  <thead>\n",
       "    <tr style=\"text-align: right;\">\n",
       "      <th></th>\n",
       "      <th>user_id</th>\n",
       "      <th>movie_id</th>\n",
       "      <th>counts</th>\n",
       "      <th>timestamp</th>\n",
       "    </tr>\n",
       "  </thead>\n",
       "  <tbody>\n",
       "    <tr>\n",
       "      <th>970914</th>\n",
       "      <td>5851</td>\n",
       "      <td>3607</td>\n",
       "      <td>5</td>\n",
       "      <td>957756608</td>\n",
       "    </tr>\n",
       "  </tbody>\n",
       "</table>\n",
       "</div>"
      ],
      "text/plain": [
       "        user_id  movie_id  counts  timestamp\n",
       "970914     5851      3607       5  957756608"
      ]
     },
     "execution_count": 22,
     "metadata": {},
     "output_type": "execute_result"
    }
   ],
   "source": [
    "ratings[ratings['movie_id'] == 3607]"
   ]
  },
  {
   "cell_type": "markdown",
   "id": "45a397c2",
   "metadata": {},
   "source": [
    "> 평점의 평균으로 한다면 그 영화를 본 단 1명의 사용자만이  5점으로 평가해도 평점이 5점으로 좋기 때문에 평점의 합계로 인기의 정도를 평가하도록 하자! -> best30_count 사용할 것"
   ]
  },
  {
   "cell_type": "code",
   "execution_count": 23,
   "id": "4205f78c",
   "metadata": {},
   "outputs": [
    {
     "data": {
      "text/html": [
       "<div>\n",
       "<style scoped>\n",
       "    .dataframe tbody tr th:only-of-type {\n",
       "        vertical-align: middle;\n",
       "    }\n",
       "\n",
       "    .dataframe tbody tr th {\n",
       "        vertical-align: top;\n",
       "    }\n",
       "\n",
       "    .dataframe thead th {\n",
       "        text-align: right;\n",
       "    }\n",
       "</style>\n",
       "<table border=\"1\" class=\"dataframe\">\n",
       "  <thead>\n",
       "    <tr style=\"text-align: right;\">\n",
       "      <th></th>\n",
       "      <th>movie_id</th>\n",
       "      <th>counts</th>\n",
       "      <th>title</th>\n",
       "      <th>genre</th>\n",
       "    </tr>\n",
       "  </thead>\n",
       "  <tbody>\n",
       "    <tr>\n",
       "      <th>0</th>\n",
       "      <td>2858</td>\n",
       "      <td>14449</td>\n",
       "      <td>American Beauty (1999)</td>\n",
       "      <td>Comedy|Drama</td>\n",
       "    </tr>\n",
       "    <tr>\n",
       "      <th>1</th>\n",
       "      <td>260</td>\n",
       "      <td>13178</td>\n",
       "      <td>Star Wars: Episode IV - A New Hope (1977)</td>\n",
       "      <td>Action|Adventure|Fantasy|Sci-Fi</td>\n",
       "    </tr>\n",
       "    <tr>\n",
       "      <th>2</th>\n",
       "      <td>1196</td>\n",
       "      <td>12648</td>\n",
       "      <td>Star Wars: Episode V - The Empire Strikes Back...</td>\n",
       "      <td>Action|Adventure|Drama|Sci-Fi|War</td>\n",
       "    </tr>\n",
       "    <tr>\n",
       "      <th>3</th>\n",
       "      <td>2028</td>\n",
       "      <td>11348</td>\n",
       "      <td>Saving Private Ryan (1998)</td>\n",
       "      <td>Action|Drama|War</td>\n",
       "    </tr>\n",
       "    <tr>\n",
       "      <th>4</th>\n",
       "      <td>1210</td>\n",
       "      <td>11303</td>\n",
       "      <td>Star Wars: Episode VI - Return of the Jedi (1983)</td>\n",
       "      <td>Action|Adventure|Romance|Sci-Fi|War</td>\n",
       "    </tr>\n",
       "    <tr>\n",
       "      <th>5</th>\n",
       "      <td>1198</td>\n",
       "      <td>11179</td>\n",
       "      <td>Raiders of the Lost Ark (1981)</td>\n",
       "      <td>Action|Adventure</td>\n",
       "    </tr>\n",
       "    <tr>\n",
       "      <th>6</th>\n",
       "      <td>593</td>\n",
       "      <td>11096</td>\n",
       "      <td>Silence of the Lambs, The (1991)</td>\n",
       "      <td>Drama|Thriller</td>\n",
       "    </tr>\n",
       "    <tr>\n",
       "      <th>7</th>\n",
       "      <td>2571</td>\n",
       "      <td>10903</td>\n",
       "      <td>Matrix, The (1999)</td>\n",
       "      <td>Action|Sci-Fi|Thriller</td>\n",
       "    </tr>\n",
       "    <tr>\n",
       "      <th>8</th>\n",
       "      <td>2762</td>\n",
       "      <td>10703</td>\n",
       "      <td>Sixth Sense, The (1999)</td>\n",
       "      <td>Thriller</td>\n",
       "    </tr>\n",
       "    <tr>\n",
       "      <th>9</th>\n",
       "      <td>589</td>\n",
       "      <td>10513</td>\n",
       "      <td>Terminator 2: Judgment Day (1991)</td>\n",
       "      <td>Action|Sci-Fi|Thriller</td>\n",
       "    </tr>\n",
       "    <tr>\n",
       "      <th>10</th>\n",
       "      <td>608</td>\n",
       "      <td>10465</td>\n",
       "      <td>Fargo (1996)</td>\n",
       "      <td>Crime|Drama|Thriller</td>\n",
       "    </tr>\n",
       "    <tr>\n",
       "      <th>11</th>\n",
       "      <td>527</td>\n",
       "      <td>10317</td>\n",
       "      <td>Schindler's List (1993)</td>\n",
       "      <td>Drama|War</td>\n",
       "    </tr>\n",
       "    <tr>\n",
       "      <th>12</th>\n",
       "      <td>110</td>\n",
       "      <td>10125</td>\n",
       "      <td>Braveheart (1995)</td>\n",
       "      <td>Action|Drama|War</td>\n",
       "    </tr>\n",
       "    <tr>\n",
       "      <th>13</th>\n",
       "      <td>318</td>\n",
       "      <td>10085</td>\n",
       "      <td>Shawshank Redemption, The (1994)</td>\n",
       "      <td>Drama</td>\n",
       "    </tr>\n",
       "    <tr>\n",
       "      <th>14</th>\n",
       "      <td>1270</td>\n",
       "      <td>10081</td>\n",
       "      <td>Back to the Future (1985)</td>\n",
       "      <td>Comedy|Sci-Fi</td>\n",
       "    </tr>\n",
       "    <tr>\n",
       "      <th>15</th>\n",
       "      <td>858</td>\n",
       "      <td>9965</td>\n",
       "      <td>Godfather, The (1972)</td>\n",
       "      <td>Action|Crime|Drama</td>\n",
       "    </tr>\n",
       "    <tr>\n",
       "      <th>16</th>\n",
       "      <td>1197</td>\n",
       "      <td>9866</td>\n",
       "      <td>Princess Bride, The (1987)</td>\n",
       "      <td>Action|Adventure|Comedy|Romance</td>\n",
       "    </tr>\n",
       "    <tr>\n",
       "      <th>17</th>\n",
       "      <td>480</td>\n",
       "      <td>9601</td>\n",
       "      <td>Jurassic Park (1993)</td>\n",
       "      <td>Action|Adventure|Sci-Fi</td>\n",
       "    </tr>\n",
       "    <tr>\n",
       "      <th>18</th>\n",
       "      <td>1617</td>\n",
       "      <td>9515</td>\n",
       "      <td>L.A. Confidential (1997)</td>\n",
       "      <td>Crime|Film-Noir|Mystery|Thriller</td>\n",
       "    </tr>\n",
       "    <tr>\n",
       "      <th>19</th>\n",
       "      <td>2396</td>\n",
       "      <td>9503</td>\n",
       "      <td>Shakespeare in Love (1998)</td>\n",
       "      <td>Comedy|Romance</td>\n",
       "    </tr>\n",
       "    <tr>\n",
       "      <th>20</th>\n",
       "      <td>1580</td>\n",
       "      <td>9057</td>\n",
       "      <td>Men in Black (1997)</td>\n",
       "      <td>Action|Adventure|Comedy|Sci-Fi</td>\n",
       "    </tr>\n",
       "    <tr>\n",
       "      <th>21</th>\n",
       "      <td>296</td>\n",
       "      <td>9053</td>\n",
       "      <td>Pulp Fiction (1994)</td>\n",
       "      <td>Crime|Drama</td>\n",
       "    </tr>\n",
       "    <tr>\n",
       "      <th>22</th>\n",
       "      <td>2997</td>\n",
       "      <td>8964</td>\n",
       "      <td>Being John Malkovich (1999)</td>\n",
       "      <td>Comedy</td>\n",
       "    </tr>\n",
       "    <tr>\n",
       "      <th>23</th>\n",
       "      <td>1265</td>\n",
       "      <td>8727</td>\n",
       "      <td>Groundhog Day (1993)</td>\n",
       "      <td>Comedy|Romance</td>\n",
       "    </tr>\n",
       "    <tr>\n",
       "      <th>24</th>\n",
       "      <td>1097</td>\n",
       "      <td>8696</td>\n",
       "      <td>E.T. the Extra-Terrestrial (1982)</td>\n",
       "      <td>Children's|Drama|Fantasy|Sci-Fi</td>\n",
       "    </tr>\n",
       "    <tr>\n",
       "      <th>25</th>\n",
       "      <td>356</td>\n",
       "      <td>8679</td>\n",
       "      <td>Forrest Gump (1994)</td>\n",
       "      <td>Comedy|Romance|War</td>\n",
       "    </tr>\n",
       "    <tr>\n",
       "      <th>26</th>\n",
       "      <td>1240</td>\n",
       "      <td>8571</td>\n",
       "      <td>Terminator, The (1984)</td>\n",
       "      <td>Action|Sci-Fi|Thriller</td>\n",
       "    </tr>\n",
       "    <tr>\n",
       "      <th>27</th>\n",
       "      <td>1</td>\n",
       "      <td>8475</td>\n",
       "      <td>Toy Story (1995)</td>\n",
       "      <td>Animation|Children's|Comedy</td>\n",
       "    </tr>\n",
       "    <tr>\n",
       "      <th>28</th>\n",
       "      <td>2716</td>\n",
       "      <td>8282</td>\n",
       "      <td>Ghostbusters (1984)</td>\n",
       "      <td>Comedy|Horror</td>\n",
       "    </tr>\n",
       "    <tr>\n",
       "      <th>29</th>\n",
       "      <td>1214</td>\n",
       "      <td>8244</td>\n",
       "      <td>Alien (1979)</td>\n",
       "      <td>Action|Horror|Sci-Fi|Thriller</td>\n",
       "    </tr>\n",
       "  </tbody>\n",
       "</table>\n",
       "</div>"
      ],
      "text/plain": [
       "    movie_id  counts                                              title  \\\n",
       "0       2858   14449                             American Beauty (1999)   \n",
       "1        260   13178          Star Wars: Episode IV - A New Hope (1977)   \n",
       "2       1196   12648  Star Wars: Episode V - The Empire Strikes Back...   \n",
       "3       2028   11348                         Saving Private Ryan (1998)   \n",
       "4       1210   11303  Star Wars: Episode VI - Return of the Jedi (1983)   \n",
       "5       1198   11179                     Raiders of the Lost Ark (1981)   \n",
       "6        593   11096                   Silence of the Lambs, The (1991)   \n",
       "7       2571   10903                                 Matrix, The (1999)   \n",
       "8       2762   10703                            Sixth Sense, The (1999)   \n",
       "9        589   10513                  Terminator 2: Judgment Day (1991)   \n",
       "10       608   10465                                       Fargo (1996)   \n",
       "11       527   10317                            Schindler's List (1993)   \n",
       "12       110   10125                                  Braveheart (1995)   \n",
       "13       318   10085                   Shawshank Redemption, The (1994)   \n",
       "14      1270   10081                          Back to the Future (1985)   \n",
       "15       858    9965                              Godfather, The (1972)   \n",
       "16      1197    9866                         Princess Bride, The (1987)   \n",
       "17       480    9601                               Jurassic Park (1993)   \n",
       "18      1617    9515                           L.A. Confidential (1997)   \n",
       "19      2396    9503                         Shakespeare in Love (1998)   \n",
       "20      1580    9057                                Men in Black (1997)   \n",
       "21       296    9053                                Pulp Fiction (1994)   \n",
       "22      2997    8964                        Being John Malkovich (1999)   \n",
       "23      1265    8727                               Groundhog Day (1993)   \n",
       "24      1097    8696                  E.T. the Extra-Terrestrial (1982)   \n",
       "25       356    8679                                Forrest Gump (1994)   \n",
       "26      1240    8571                             Terminator, The (1984)   \n",
       "27         1    8475                                   Toy Story (1995)   \n",
       "28      2716    8282                                Ghostbusters (1984)   \n",
       "29      1214    8244                                       Alien (1979)   \n",
       "\n",
       "                                  genre  \n",
       "0                          Comedy|Drama  \n",
       "1       Action|Adventure|Fantasy|Sci-Fi  \n",
       "2     Action|Adventure|Drama|Sci-Fi|War  \n",
       "3                      Action|Drama|War  \n",
       "4   Action|Adventure|Romance|Sci-Fi|War  \n",
       "5                      Action|Adventure  \n",
       "6                        Drama|Thriller  \n",
       "7                Action|Sci-Fi|Thriller  \n",
       "8                              Thriller  \n",
       "9                Action|Sci-Fi|Thriller  \n",
       "10                 Crime|Drama|Thriller  \n",
       "11                            Drama|War  \n",
       "12                     Action|Drama|War  \n",
       "13                                Drama  \n",
       "14                        Comedy|Sci-Fi  \n",
       "15                   Action|Crime|Drama  \n",
       "16      Action|Adventure|Comedy|Romance  \n",
       "17              Action|Adventure|Sci-Fi  \n",
       "18     Crime|Film-Noir|Mystery|Thriller  \n",
       "19                       Comedy|Romance  \n",
       "20       Action|Adventure|Comedy|Sci-Fi  \n",
       "21                          Crime|Drama  \n",
       "22                               Comedy  \n",
       "23                       Comedy|Romance  \n",
       "24      Children's|Drama|Fantasy|Sci-Fi  \n",
       "25                   Comedy|Romance|War  \n",
       "26               Action|Sci-Fi|Thriller  \n",
       "27          Animation|Children's|Comedy  \n",
       "28                        Comedy|Horror  \n",
       "29        Action|Horror|Sci-Fi|Thriller  "
      ]
     },
     "execution_count": 23,
     "metadata": {},
     "output_type": "execute_result"
    }
   ],
   "source": [
    "# movie title과 함께 확인해보기\n",
    "best30_df = pd.merge(best30_count,movies, on='movie_id')\n",
    "best30_df"
   ]
  },
  {
   "cell_type": "code",
   "execution_count": 24,
   "id": "e1c9f020",
   "metadata": {},
   "outputs": [
    {
     "data": {
      "text/plain": [
       "count    6039.000000\n",
       "mean      138.512668\n",
       "std       156.241599\n",
       "min         1.000000\n",
       "25%        38.000000\n",
       "50%        81.000000\n",
       "75%       177.000000\n",
       "max      1968.000000\n",
       "Name: movie_id, dtype: float64"
      ]
     },
     "execution_count": 24,
     "metadata": {},
     "output_type": "execute_result"
    }
   ],
   "source": [
    "# 사용자별 몇 개의 영화를 봤을지에 대한 통계\n",
    "user_count = ratings.groupby('user_id')['movie_id'].count()\n",
    "user_count.describe()"
   ]
  },
  {
   "cell_type": "code",
   "execution_count": 25,
   "id": "52649b25",
   "metadata": {},
   "outputs": [
    {
     "data": {
      "text/plain": [
       "count    6039.000000\n",
       "mean        4.055970\n",
       "std         0.432143\n",
       "min         3.000000\n",
       "25%         4.000000\n",
       "50%         4.000000\n",
       "75%         4.000000\n",
       "max         5.000000\n",
       "Name: counts, dtype: float64"
      ]
     },
     "execution_count": 25,
     "metadata": {},
     "output_type": "execute_result"
    }
   ],
   "source": [
    "# 사용자별 평점 중앙값에 대한 통계\n",
    "user_median = ratings.groupby('user_id')['counts'].median()\n",
    "user_median.describe()"
   ]
  },
  {
   "cell_type": "code",
   "execution_count": 26,
   "id": "5c1d03b2",
   "metadata": {
    "scrolled": true
   },
   "outputs": [
    {
     "data": {
      "text/plain": [
       "genre\n",
       "Action|Sci-Fi|Thriller                 3\n",
       "Action|Drama|War                       2\n",
       "Comedy|Romance                         2\n",
       "Action|Adventure                       1\n",
       "Comedy|Drama                           1\n",
       "Drama|War                              1\n",
       "Drama|Thriller                         1\n",
       "Drama                                  1\n",
       "Crime|Film-Noir|Mystery|Thriller       1\n",
       "Crime|Drama|Thriller                   1\n",
       "Crime|Drama                            1\n",
       "Comedy|Sci-Fi                          1\n",
       "Comedy|Romance|War                     1\n",
       "Comedy|Horror                          1\n",
       "Comedy                                 1\n",
       "Action|Adventure|Comedy|Romance        1\n",
       "Children's|Drama|Fantasy|Sci-Fi        1\n",
       "Animation|Children's|Comedy            1\n",
       "Action|Horror|Sci-Fi|Thriller          1\n",
       "Action|Crime|Drama                     1\n",
       "Action|Adventure|Sci-Fi                1\n",
       "Action|Adventure|Romance|Sci-Fi|War    1\n",
       "Action|Adventure|Fantasy|Sci-Fi        1\n",
       "Action|Adventure|Drama|Sci-Fi|War      1\n",
       "Action|Adventure|Comedy|Sci-Fi         1\n",
       "Thriller                               1\n",
       "Name: counts, dtype: int64"
      ]
     },
     "execution_count": 26,
     "metadata": {},
     "output_type": "execute_result"
    }
   ],
   "source": [
    "# best30_df 에서 있기있는 영화 장르 보기\n",
    "best30_df.groupby('genre')['counts'].count().sort_values(ascending=False)"
   ]
  },
  {
   "cell_type": "code",
   "execution_count": 27,
   "id": "dc2f35ef",
   "metadata": {},
   "outputs": [
    {
     "data": {
      "text/plain": [
       "[('Action', 14),\n",
       " ('Drama', 11),\n",
       " ('Sci-Fi', 11),\n",
       " ('Comedy', 10),\n",
       " ('Thriller', 8),\n",
       " ('Adventure', 7),\n",
       " ('War', 6),\n",
       " ('Romance', 5),\n",
       " ('Crime', 4),\n",
       " ('Fantasy', 2),\n",
       " (\"Children's\", 2),\n",
       " ('Horror', 2),\n",
       " ('Film-Noir', 1),\n",
       " ('Mystery', 1),\n",
       " ('Animation', 1)]"
      ]
     },
     "execution_count": 27,
     "metadata": {},
     "output_type": "execute_result"
    }
   ],
   "source": [
    "# |로 분리해야 장르별 수 파악 가능하다\n",
    "from collections import Counter\n",
    "best30_genres = []\n",
    "for genre in best30_df['genre'].values:\n",
    "    best30_genres.extend(genre.split('|'))\n",
    "\n",
    "genre_count = Counter(best30_genres)\n",
    "genre_count.most_common()"
   ]
  },
  {
   "cell_type": "markdown",
   "id": "017ea678",
   "metadata": {},
   "source": [
    "> **Action, Drama, Sci-Fi** 장르의 영화 선호도가 높다고 파악 가능하다."
   ]
  },
  {
   "cell_type": "markdown",
   "id": "093d42c6",
   "metadata": {},
   "source": [
    "# 3. 모델 검증을 위한 사용자 초기 정보 세팅\n",
    "추천시스템은 처음에 유저의 취향인 아티스트 5개 입력 받는 과정을 거침. <br>\n",
    "우리도 추천 시스템의 추후 검증 과정을 위해 동일한 과정이 필요하다. <br>\n",
    "내가 좋아하는 영화 5가지를 기존 데이터에 추가해보자! \n",
    "\n",
    "> 난 개인적으로 Action|Adventure 장르가 좋기 때문에 이 장르의 영화중 인기 있는 영화를 택할 것이다."
   ]
  },
  {
   "cell_type": "code",
   "execution_count": 28,
   "id": "d27a4a4e",
   "metadata": {
    "scrolled": true
   },
   "outputs": [
    {
     "data": {
      "text/plain": [
       "title\n",
       "Raiders of the Lost Ark (1981)                        11179\n",
       "Indiana Jones and the Last Crusade (1989)              6622\n",
       "Indiana Jones and the Temple of Doom (1984)            3894\n",
       "Highlander (1986)                                      2730\n",
       "Poseidon Adventure, The (1972)                         1989\n",
       "Conan the Barbarian (1982)                             1787\n",
       "Adventures of Robin Hood, The (1938)                   1474\n",
       "Ghost and the Darkness, The (1996)                     1349\n",
       "Waterworld (1995)                                      1260\n",
       "Mortal Kombat (1995)                                    674\n",
       "Golden Voyage of Sinbad, The (1974)                     478\n",
       "Sanjuro (1962)                                          316\n",
       "Sinbad and the Eye of the Tiger (1977)                  313\n",
       "Red Sonja (1985)                                        311\n",
       "Avengers, The (1998)                                    284\n",
       "Fled (1996)                                             198\n",
       "Mortal Kombat: Annihilation (1997)                      172\n",
       "Kull the Conqueror (1997)                               165\n",
       "Allan Quartermain and the Lost City of Gold (1987)      144\n",
       "Let's Get Harry (1986)                                   83\n",
       "Quest, The (1996)                                        65\n",
       "Tarzan and the Lost City (1998)                          64\n",
       "Good Man in Africa, A (1994)                             52\n",
       "Tarzan the Fearless (1933)                               48\n",
       "Name: counts, dtype: int64"
      ]
     },
     "execution_count": 28,
     "metadata": {},
     "output_type": "execute_result"
    }
   ],
   "source": [
    "movies[movies['genre'].isin(['Action|Adventure'])].merge(ratings,on='movie_id').groupby('title')['counts'].sum().sort_values(ascending=False)[:30]"
   ]
  },
  {
   "cell_type": "markdown",
   "id": "af83f620",
   "metadata": {},
   "source": [
    "> 아니 2000년도 이전 옛날영화가 대부분이네,,? <br>\n",
    "> Action|Adventure 영화는 다 내가 모르는 영화다..<br>\n",
    "> 그냥 내가 아는 영화가 가장 많은 장르의 인기 영화를 가져와보자"
   ]
  },
  {
   "cell_type": "code",
   "execution_count": 29,
   "id": "9e70a488",
   "metadata": {
    "scrolled": true
   },
   "outputs": [
    {
     "data": {
      "text/plain": [
       "title\n",
       "Shakespeare in Love (1998)             9503\n",
       "Groundhog Day (1993)                   8727\n",
       "When Harry Met Sally... (1989)         6237\n",
       "Annie Hall (1977)                      5386\n",
       "Clueless (1995)                        4670\n",
       "Four Weddings and a Funeral (1994)     4429\n",
       "Pretty Woman (1990)                    3572\n",
       "Dave (1993)                            3540\n",
       "Sleepless in Seattle (1993)            3537\n",
       "Office Space (1999)                    3184\n",
       "Wedding Singer, The (1998)             2943\n",
       "L.A. Story (1991)                      2920\n",
       "Notting Hill (1999)                    2703\n",
       "Much Ado About Nothing (1993)          2611\n",
       "My Best Friend's Wedding (1997)        2598\n",
       "Strictly Ballroom (1992)               2576\n",
       "You've Got Mail (1998)                 2572\n",
       "Philadelphia Story, The (1940)         2460\n",
       "10 Things I Hate About You (1999)      2210\n",
       "While You Were Sleeping (1995)         2189\n",
       "Truth About Cats & Dogs, The (1996)    2155\n",
       "Desperately Seeking Susan (1985)       2038\n",
       "Hudsucker Proxy, The (1994)            2008\n",
       "Muriel's Wedding (1994)                1813\n",
       "Tin Cup (1996)                         1777\n",
       "Runaway Bride (1999)                   1770\n",
       "Keeping the Faith (2000)               1762\n",
       "Roman Holiday (1953)                   1762\n",
       "Never Been Kissed (1999)               1731\n",
       "Arthur (1981)                          1667\n",
       "Name: counts, dtype: int64"
      ]
     },
     "execution_count": 29,
     "metadata": {},
     "output_type": "execute_result"
    }
   ],
   "source": [
    "movies[movies['genre'].isin(['Comedy|Romance'])].merge(ratings,on='movie_id').groupby('title')['counts'].sum().sort_values(ascending=False)[:30]"
   ]
  },
  {
   "cell_type": "markdown",
   "id": "c53e4083",
   "metadata": {},
   "source": [
    "이 5가지 영화를 추가할 것이다\n",
    ">- When Harry Met Sally... (1989)         6237\n",
    ">- Clueless (1995)                        4670\n",
    ">- Pretty Woman (1990)                    3572\n",
    ">- Notting Hill (1999)                    2703\n",
    ">- 10 Things I Hate About You (1999)      2210"
   ]
  },
  {
   "cell_type": "code",
   "execution_count": 30,
   "id": "b339cd87",
   "metadata": {},
   "outputs": [
    {
     "data": {
      "text/html": [
       "<div>\n",
       "<style scoped>\n",
       "    .dataframe tbody tr th:only-of-type {\n",
       "        vertical-align: middle;\n",
       "    }\n",
       "\n",
       "    .dataframe tbody tr th {\n",
       "        vertical-align: top;\n",
       "    }\n",
       "\n",
       "    .dataframe thead th {\n",
       "        text-align: right;\n",
       "    }\n",
       "</style>\n",
       "<table border=\"1\" class=\"dataframe\">\n",
       "  <thead>\n",
       "    <tr style=\"text-align: right;\">\n",
       "      <th></th>\n",
       "      <th>user_id</th>\n",
       "      <th>movie_id</th>\n",
       "      <th>counts</th>\n",
       "      <th>timestamp</th>\n",
       "    </tr>\n",
       "  </thead>\n",
       "  <tbody>\n",
       "    <tr>\n",
       "      <th>0</th>\n",
       "      <td>1</td>\n",
       "      <td>1193</td>\n",
       "      <td>5</td>\n",
       "      <td>978300760</td>\n",
       "    </tr>\n",
       "    <tr>\n",
       "      <th>1</th>\n",
       "      <td>1</td>\n",
       "      <td>661</td>\n",
       "      <td>3</td>\n",
       "      <td>978302109</td>\n",
       "    </tr>\n",
       "    <tr>\n",
       "      <th>2</th>\n",
       "      <td>1</td>\n",
       "      <td>914</td>\n",
       "      <td>3</td>\n",
       "      <td>978301968</td>\n",
       "    </tr>\n",
       "    <tr>\n",
       "      <th>3</th>\n",
       "      <td>1</td>\n",
       "      <td>3408</td>\n",
       "      <td>4</td>\n",
       "      <td>978300275</td>\n",
       "    </tr>\n",
       "    <tr>\n",
       "      <th>4</th>\n",
       "      <td>1</td>\n",
       "      <td>2355</td>\n",
       "      <td>5</td>\n",
       "      <td>978824291</td>\n",
       "    </tr>\n",
       "  </tbody>\n",
       "</table>\n",
       "</div>"
      ],
      "text/plain": [
       "   user_id  movie_id  counts  timestamp\n",
       "0        1      1193       5  978300760\n",
       "1        1       661       3  978302109\n",
       "2        1       914       3  978301968\n",
       "3        1      3408       4  978300275\n",
       "4        1      2355       5  978824291"
      ]
     },
     "execution_count": 30,
     "metadata": {},
     "output_type": "execute_result"
    }
   ],
   "source": [
    "# ratings 형식 확인\n",
    "ratings.head()"
   ]
  },
  {
   "cell_type": "code",
   "execution_count": 31,
   "id": "5ad7ec34",
   "metadata": {},
   "outputs": [
    {
     "data": {
      "text/html": [
       "<div>\n",
       "<style scoped>\n",
       "    .dataframe tbody tr th:only-of-type {\n",
       "        vertical-align: middle;\n",
       "    }\n",
       "\n",
       "    .dataframe tbody tr th {\n",
       "        vertical-align: top;\n",
       "    }\n",
       "\n",
       "    .dataframe thead th {\n",
       "        text-align: right;\n",
       "    }\n",
       "</style>\n",
       "<table border=\"1\" class=\"dataframe\">\n",
       "  <thead>\n",
       "    <tr style=\"text-align: right;\">\n",
       "      <th></th>\n",
       "      <th>user_id</th>\n",
       "      <th>movie_id</th>\n",
       "      <th>counts</th>\n",
       "      <th>timestamp</th>\n",
       "    </tr>\n",
       "  </thead>\n",
       "  <tbody>\n",
       "    <tr>\n",
       "      <th>1000203</th>\n",
       "      <td>6040</td>\n",
       "      <td>1090</td>\n",
       "      <td>3</td>\n",
       "      <td>956715518</td>\n",
       "    </tr>\n",
       "    <tr>\n",
       "      <th>1000205</th>\n",
       "      <td>6040</td>\n",
       "      <td>1094</td>\n",
       "      <td>5</td>\n",
       "      <td>956704887</td>\n",
       "    </tr>\n",
       "    <tr>\n",
       "      <th>1000206</th>\n",
       "      <td>6040</td>\n",
       "      <td>562</td>\n",
       "      <td>5</td>\n",
       "      <td>956704746</td>\n",
       "    </tr>\n",
       "    <tr>\n",
       "      <th>1000207</th>\n",
       "      <td>6040</td>\n",
       "      <td>1096</td>\n",
       "      <td>4</td>\n",
       "      <td>956715648</td>\n",
       "    </tr>\n",
       "    <tr>\n",
       "      <th>1000208</th>\n",
       "      <td>6040</td>\n",
       "      <td>1097</td>\n",
       "      <td>4</td>\n",
       "      <td>956715569</td>\n",
       "    </tr>\n",
       "    <tr>\n",
       "      <th>0</th>\n",
       "      <td>minyeong</td>\n",
       "      <td>6237</td>\n",
       "      <td>4</td>\n",
       "      <td>978300275</td>\n",
       "    </tr>\n",
       "    <tr>\n",
       "      <th>1</th>\n",
       "      <td>minyeong</td>\n",
       "      <td>4670</td>\n",
       "      <td>4</td>\n",
       "      <td>978300275</td>\n",
       "    </tr>\n",
       "    <tr>\n",
       "      <th>2</th>\n",
       "      <td>minyeong</td>\n",
       "      <td>3572</td>\n",
       "      <td>4</td>\n",
       "      <td>978300275</td>\n",
       "    </tr>\n",
       "    <tr>\n",
       "      <th>3</th>\n",
       "      <td>minyeong</td>\n",
       "      <td>2703</td>\n",
       "      <td>4</td>\n",
       "      <td>978300275</td>\n",
       "    </tr>\n",
       "    <tr>\n",
       "      <th>4</th>\n",
       "      <td>minyeong</td>\n",
       "      <td>2210</td>\n",
       "      <td>4</td>\n",
       "      <td>978300275</td>\n",
       "    </tr>\n",
       "  </tbody>\n",
       "</table>\n",
       "</div>"
      ],
      "text/plain": [
       "          user_id  movie_id  counts  timestamp\n",
       "1000203      6040      1090       3  956715518\n",
       "1000205      6040      1094       5  956704887\n",
       "1000206      6040       562       5  956704746\n",
       "1000207      6040      1096       4  956715648\n",
       "1000208      6040      1097       4  956715569\n",
       "0        minyeong      6237       4  978300275\n",
       "1        minyeong      4670       4  978300275\n",
       "2        minyeong      3572       4  978300275\n",
       "3        minyeong      2703       4  978300275\n",
       "4        minyeong      2210       4  978300275"
      ]
     },
     "execution_count": 31,
     "metadata": {},
     "output_type": "execute_result"
    }
   ],
   "source": [
    "my_favorite = [6237,4670,3572,2703,2210]\n",
    "\n",
    "# 'minyeong'이라는 user_id가 위 영화의 평점을 다 4점을 줬다고 가정\n",
    "my_movielist = pd.DataFrame({'user_id': ['minyeong']*5, 'movie_id': my_favorite, 'counts':[4]*5,'timestamp':[978300275]*5})\n",
    "\n",
    "if not ratings.isin({'user_id':['minyeong']})['user_id'].any():  # user_id에 'minyeong'이라는 데이터가 없다면\n",
    "    ratings = ratings.append(my_movielist)                           # 위에 임의로 만든 my_favorite 데이터를 추가\n",
    "\n",
    "ratings.tail(10)       # 잘 추가되었는지 확인"
   ]
  },
  {
   "cell_type": "markdown",
   "id": "be02d90e",
   "metadata": {},
   "source": [
    "### 3.1 모델 활용하기 위한 전처리\n",
    "\n",
    "- user_id에 indexing 작업하기"
   ]
  },
  {
   "cell_type": "code",
   "execution_count": 32,
   "id": "3dcefbf1",
   "metadata": {},
   "outputs": [
    {
     "data": {
      "text/plain": [
       "array([1, 2, 3, ..., 6039, 6040, 'minyeong'], dtype=object)"
      ]
     },
     "execution_count": 32,
     "metadata": {},
     "output_type": "execute_result"
    }
   ],
   "source": [
    "user_unique = ratings['user_id'].unique()\n",
    "user_unique "
   ]
  },
  {
   "cell_type": "markdown",
   "id": "d904d49d",
   "metadata": {},
   "source": [
    "> ratings에 6041이 없는지 확인 한번하고 없으면 내 user_id를 6041로 인덱싱하자"
   ]
  },
  {
   "cell_type": "code",
   "execution_count": 33,
   "id": "761ce38b",
   "metadata": {},
   "outputs": [
    {
     "data": {
      "text/html": [
       "<div>\n",
       "<style scoped>\n",
       "    .dataframe tbody tr th:only-of-type {\n",
       "        vertical-align: middle;\n",
       "    }\n",
       "\n",
       "    .dataframe tbody tr th {\n",
       "        vertical-align: top;\n",
       "    }\n",
       "\n",
       "    .dataframe thead th {\n",
       "        text-align: right;\n",
       "    }\n",
       "</style>\n",
       "<table border=\"1\" class=\"dataframe\">\n",
       "  <thead>\n",
       "    <tr style=\"text-align: right;\">\n",
       "      <th></th>\n",
       "      <th>user_id</th>\n",
       "      <th>movie_id</th>\n",
       "      <th>counts</th>\n",
       "      <th>timestamp</th>\n",
       "    </tr>\n",
       "  </thead>\n",
       "  <tbody>\n",
       "  </tbody>\n",
       "</table>\n",
       "</div>"
      ],
      "text/plain": [
       "Empty DataFrame\n",
       "Columns: [user_id, movie_id, counts, timestamp]\n",
       "Index: []"
      ]
     },
     "execution_count": 33,
     "metadata": {},
     "output_type": "execute_result"
    }
   ],
   "source": [
    "ratings[ratings['user_id']==6041]"
   ]
  },
  {
   "cell_type": "code",
   "execution_count": 34,
   "id": "e0e48b06",
   "metadata": {},
   "outputs": [
    {
     "data": {
      "text/html": [
       "<div>\n",
       "<style scoped>\n",
       "    .dataframe tbody tr th:only-of-type {\n",
       "        vertical-align: middle;\n",
       "    }\n",
       "\n",
       "    .dataframe tbody tr th {\n",
       "        vertical-align: top;\n",
       "    }\n",
       "\n",
       "    .dataframe thead th {\n",
       "        text-align: right;\n",
       "    }\n",
       "</style>\n",
       "<table border=\"1\" class=\"dataframe\">\n",
       "  <thead>\n",
       "    <tr style=\"text-align: right;\">\n",
       "      <th></th>\n",
       "      <th>user_id</th>\n",
       "      <th>movie_id</th>\n",
       "      <th>counts</th>\n",
       "      <th>timestamp</th>\n",
       "    </tr>\n",
       "  </thead>\n",
       "  <tbody>\n",
       "    <tr>\n",
       "      <th>0</th>\n",
       "      <td>6041</td>\n",
       "      <td>6237</td>\n",
       "      <td>4</td>\n",
       "      <td>978300275</td>\n",
       "    </tr>\n",
       "    <tr>\n",
       "      <th>1</th>\n",
       "      <td>6041</td>\n",
       "      <td>4670</td>\n",
       "      <td>4</td>\n",
       "      <td>978300275</td>\n",
       "    </tr>\n",
       "    <tr>\n",
       "      <th>2</th>\n",
       "      <td>6041</td>\n",
       "      <td>3572</td>\n",
       "      <td>4</td>\n",
       "      <td>978300275</td>\n",
       "    </tr>\n",
       "    <tr>\n",
       "      <th>3</th>\n",
       "      <td>6041</td>\n",
       "      <td>2703</td>\n",
       "      <td>4</td>\n",
       "      <td>978300275</td>\n",
       "    </tr>\n",
       "    <tr>\n",
       "      <th>4</th>\n",
       "      <td>6041</td>\n",
       "      <td>2210</td>\n",
       "      <td>4</td>\n",
       "      <td>978300275</td>\n",
       "    </tr>\n",
       "  </tbody>\n",
       "</table>\n",
       "</div>"
      ],
      "text/plain": [
       "  user_id  movie_id  counts  timestamp\n",
       "0    6041      6237       4  978300275\n",
       "1    6041      4670       4  978300275\n",
       "2    6041      3572       4  978300275\n",
       "3    6041      2703       4  978300275\n",
       "4    6041      2210       4  978300275"
      ]
     },
     "execution_count": 34,
     "metadata": {},
     "output_type": "execute_result"
    }
   ],
   "source": [
    "ratings.loc[(ratings.user_id == 'minyeong'),'user_id']=6041\n",
    "ratings.tail()"
   ]
  },
  {
   "cell_type": "code",
   "execution_count": 35,
   "id": "0966aca6",
   "metadata": {
    "scrolled": false
   },
   "outputs": [
    {
     "data": {
      "text/html": [
       "<div>\n",
       "<style scoped>\n",
       "    .dataframe tbody tr th:only-of-type {\n",
       "        vertical-align: middle;\n",
       "    }\n",
       "\n",
       "    .dataframe tbody tr th {\n",
       "        vertical-align: top;\n",
       "    }\n",
       "\n",
       "    .dataframe thead th {\n",
       "        text-align: right;\n",
       "    }\n",
       "</style>\n",
       "<table border=\"1\" class=\"dataframe\">\n",
       "  <thead>\n",
       "    <tr style=\"text-align: right;\">\n",
       "      <th></th>\n",
       "      <th>user_id</th>\n",
       "      <th>movie_id</th>\n",
       "      <th>counts</th>\n",
       "      <th>timestamp</th>\n",
       "    </tr>\n",
       "  </thead>\n",
       "  <tbody>\n",
       "    <tr>\n",
       "      <th>1000203</th>\n",
       "      <td>6040</td>\n",
       "      <td>1090</td>\n",
       "      <td>3</td>\n",
       "      <td>956715518</td>\n",
       "    </tr>\n",
       "    <tr>\n",
       "      <th>1000205</th>\n",
       "      <td>6040</td>\n",
       "      <td>1094</td>\n",
       "      <td>5</td>\n",
       "      <td>956704887</td>\n",
       "    </tr>\n",
       "    <tr>\n",
       "      <th>1000206</th>\n",
       "      <td>6040</td>\n",
       "      <td>562</td>\n",
       "      <td>5</td>\n",
       "      <td>956704746</td>\n",
       "    </tr>\n",
       "    <tr>\n",
       "      <th>1000207</th>\n",
       "      <td>6040</td>\n",
       "      <td>1096</td>\n",
       "      <td>4</td>\n",
       "      <td>956715648</td>\n",
       "    </tr>\n",
       "    <tr>\n",
       "      <th>1000208</th>\n",
       "      <td>6040</td>\n",
       "      <td>1097</td>\n",
       "      <td>4</td>\n",
       "      <td>956715569</td>\n",
       "    </tr>\n",
       "    <tr>\n",
       "      <th>0</th>\n",
       "      <td>6041</td>\n",
       "      <td>6237</td>\n",
       "      <td>4</td>\n",
       "      <td>978300275</td>\n",
       "    </tr>\n",
       "    <tr>\n",
       "      <th>1</th>\n",
       "      <td>6041</td>\n",
       "      <td>4670</td>\n",
       "      <td>4</td>\n",
       "      <td>978300275</td>\n",
       "    </tr>\n",
       "    <tr>\n",
       "      <th>2</th>\n",
       "      <td>6041</td>\n",
       "      <td>3572</td>\n",
       "      <td>4</td>\n",
       "      <td>978300275</td>\n",
       "    </tr>\n",
       "    <tr>\n",
       "      <th>3</th>\n",
       "      <td>6041</td>\n",
       "      <td>2703</td>\n",
       "      <td>4</td>\n",
       "      <td>978300275</td>\n",
       "    </tr>\n",
       "    <tr>\n",
       "      <th>4</th>\n",
       "      <td>6041</td>\n",
       "      <td>2210</td>\n",
       "      <td>4</td>\n",
       "      <td>978300275</td>\n",
       "    </tr>\n",
       "  </tbody>\n",
       "</table>\n",
       "</div>"
      ],
      "text/plain": [
       "        user_id  movie_id  counts  timestamp\n",
       "1000203    6040      1090       3  956715518\n",
       "1000205    6040      1094       5  956704887\n",
       "1000206    6040       562       5  956704746\n",
       "1000207    6040      1096       4  956715648\n",
       "1000208    6040      1097       4  956715569\n",
       "0          6041      6237       4  978300275\n",
       "1          6041      4670       4  978300275\n",
       "2          6041      3572       4  978300275\n",
       "3          6041      2703       4  978300275\n",
       "4          6041      2210       4  978300275"
      ]
     },
     "execution_count": 35,
     "metadata": {},
     "output_type": "execute_result"
    }
   ],
   "source": [
    "ratings.tail(10)"
   ]
  },
  {
   "cell_type": "markdown",
   "id": "a0fe830b",
   "metadata": {},
   "source": [
    "### 3.2 CSR matrix만들기 전 unique값들 전처리 -> 기존 실습따라서"
   ]
  },
  {
   "cell_type": "code",
   "execution_count": 36,
   "id": "0489a9f9",
   "metadata": {},
   "outputs": [],
   "source": [
    "# 고유한 유저, 영화를 찾아내는 코드\n",
    "user_unique = ratings['user_id'].unique()\n",
    "movie_unique = ratings['movie_id'].unique()\n",
    "\n",
    "# 유저, 영화 indexing 하는 코드 idx는 index의 약자입니다.\n",
    "user_to_idx = {v:k for k,v in enumerate(user_unique)}\n",
    "movie_to_idx = {v:k for k,v in enumerate(movie_unique)}"
   ]
  },
  {
   "cell_type": "code",
   "execution_count": 37,
   "id": "7c09960d",
   "metadata": {},
   "outputs": [
    {
     "name": "stdout",
     "output_type": "stream",
     "text": [
      "user_id column indexing OK!!\n",
      "movie_id column indexing OK!!\n"
     ]
    },
    {
     "data": {
      "text/html": [
       "<div>\n",
       "<style scoped>\n",
       "    .dataframe tbody tr th:only-of-type {\n",
       "        vertical-align: middle;\n",
       "    }\n",
       "\n",
       "    .dataframe tbody tr th {\n",
       "        vertical-align: top;\n",
       "    }\n",
       "\n",
       "    .dataframe thead th {\n",
       "        text-align: right;\n",
       "    }\n",
       "</style>\n",
       "<table border=\"1\" class=\"dataframe\">\n",
       "  <thead>\n",
       "    <tr style=\"text-align: right;\">\n",
       "      <th></th>\n",
       "      <th>user_id</th>\n",
       "      <th>movie_id</th>\n",
       "      <th>counts</th>\n",
       "      <th>timestamp</th>\n",
       "    </tr>\n",
       "  </thead>\n",
       "  <tbody>\n",
       "    <tr>\n",
       "      <th>0</th>\n",
       "      <td>0</td>\n",
       "      <td>0</td>\n",
       "      <td>5</td>\n",
       "      <td>978300760</td>\n",
       "    </tr>\n",
       "    <tr>\n",
       "      <th>1</th>\n",
       "      <td>0</td>\n",
       "      <td>1</td>\n",
       "      <td>3</td>\n",
       "      <td>978302109</td>\n",
       "    </tr>\n",
       "    <tr>\n",
       "      <th>2</th>\n",
       "      <td>0</td>\n",
       "      <td>2</td>\n",
       "      <td>3</td>\n",
       "      <td>978301968</td>\n",
       "    </tr>\n",
       "    <tr>\n",
       "      <th>3</th>\n",
       "      <td>0</td>\n",
       "      <td>3</td>\n",
       "      <td>4</td>\n",
       "      <td>978300275</td>\n",
       "    </tr>\n",
       "    <tr>\n",
       "      <th>4</th>\n",
       "      <td>0</td>\n",
       "      <td>4</td>\n",
       "      <td>5</td>\n",
       "      <td>978824291</td>\n",
       "    </tr>\n",
       "    <tr>\n",
       "      <th>...</th>\n",
       "      <td>...</td>\n",
       "      <td>...</td>\n",
       "      <td>...</td>\n",
       "      <td>...</td>\n",
       "    </tr>\n",
       "    <tr>\n",
       "      <th>0</th>\n",
       "      <td>6039</td>\n",
       "      <td>3628</td>\n",
       "      <td>4</td>\n",
       "      <td>978300275</td>\n",
       "    </tr>\n",
       "    <tr>\n",
       "      <th>1</th>\n",
       "      <td>6039</td>\n",
       "      <td>3629</td>\n",
       "      <td>4</td>\n",
       "      <td>978300275</td>\n",
       "    </tr>\n",
       "    <tr>\n",
       "      <th>2</th>\n",
       "      <td>6039</td>\n",
       "      <td>2807</td>\n",
       "      <td>4</td>\n",
       "      <td>978300275</td>\n",
       "    </tr>\n",
       "    <tr>\n",
       "      <th>3</th>\n",
       "      <td>6039</td>\n",
       "      <td>3621</td>\n",
       "      <td>4</td>\n",
       "      <td>978300275</td>\n",
       "    </tr>\n",
       "    <tr>\n",
       "      <th>4</th>\n",
       "      <td>6039</td>\n",
       "      <td>2088</td>\n",
       "      <td>4</td>\n",
       "      <td>978300275</td>\n",
       "    </tr>\n",
       "  </tbody>\n",
       "</table>\n",
       "<p>836483 rows × 4 columns</p>\n",
       "</div>"
      ],
      "text/plain": [
       "    user_id  movie_id  counts  timestamp\n",
       "0         0         0       5  978300760\n",
       "1         0         1       3  978302109\n",
       "2         0         2       3  978301968\n",
       "3         0         3       4  978300275\n",
       "4         0         4       5  978824291\n",
       "..      ...       ...     ...        ...\n",
       "0      6039      3628       4  978300275\n",
       "1      6039      3629       4  978300275\n",
       "2      6039      2807       4  978300275\n",
       "3      6039      3621       4  978300275\n",
       "4      6039      2088       4  978300275\n",
       "\n",
       "[836483 rows x 4 columns]"
      ]
     },
     "execution_count": 37,
     "metadata": {},
     "output_type": "execute_result"
    }
   ],
   "source": [
    "# indexing을 통해 데이터 컬럼 내 값을 바꾸는 코드\n",
    "# dictionary 자료형의 get 함수는 https://wikidocs.net/16 을 참고하세요.\n",
    "ratings_copy = ratings.copy()\n",
    "\n",
    "# user_to_idx.get을 통해 user_id 컬럼의 모든 값을 인덱싱한 Series를 구해 봅시다. \n",
    "# 혹시 정상적으로 인덱싱되지 않은 row가 있다면 인덱스가 NaN이 될 테니 dropna()로 제거합니다. \n",
    "temp_user_data = ratings['user_id'].map(user_to_idx.get).dropna()\n",
    "if len(temp_user_data) == len(ratings):   # 모든 row가 정상적으로 인덱싱되었다면\n",
    "    print('user_id column indexing OK!!')\n",
    "    ratings['user_id'] = temp_user_data\n",
    "else:\n",
    "    print('user_id column indexing Fail!!')\n",
    "\n",
    "# movie_to_idx을 통해 movie_id 컬럼도 동일한 방식으로 인덱싱해 줍니다. \n",
    "temp_movie_data = ratings['movie_id'].map(movie_to_idx.get).dropna()\n",
    "if len(temp_movie_data) == len(ratings):\n",
    "    print('movie_id column indexing OK!!')\n",
    "    ratings['movie_id'] = temp_movie_data\n",
    "else:\n",
    "    print('movie_id column indexing Fail!!')\n",
    "\n",
    "ratings"
   ]
  },
  {
   "cell_type": "markdown",
   "id": "17437a96",
   "metadata": {},
   "source": [
    "# 4. MF 모델 학습하기"
   ]
  },
  {
   "attachments": {
    "image.png": {
     "image/png": "[encoded data removed]"
    }
   },
   "cell_type": "markdown",
   "id": "3c71f04e",
   "metadata": {},
   "source": [
    "## Matrix Factorization(MF)\n",
    "\n",
    "- **6,039명의 사용자들이 3,628개의 영화에 대해 평가한 데이터를 포함한 (6039,3628) 사이즈의 평가 행렬(Rating Matrix)을 만들자**\n",
    "- 이 평가 행렬을 전제로 하는게 바로 **협업 필터링(Collaborative Filtering)**이다.\n",
    "- 여러 추천 시스템 모델 중 ``Matrix Factorization(MF, 행렬 분해)`` 모델을 사용해서 실습 진행해보자.\n",
    "\n",
    "![image.png](attachment:image.png)\n",
    "\n",
    "**MF의 아이디어**\n",
    ">(m,n) 사이즈의 행렬 R을 (m,k) 사이즈의 행렬 P와 (k,n) 사이즈의 행렬 Q로 분해한다면 R이란 그저 P와 Q의 행렬곱으로 표현 가능하다!"
   ]
  },
  {
   "attachments": {
    "image.png": {
     "image/png": "[encoded data removed]"
    }
   },
   "cell_type": "markdown",
   "id": "a2d7c849",
   "metadata": {},
   "source": [
    "#### - MF모델 사용 예시\n",
    "![image.png](attachment:image.png)\n",
    "\n",
    "위 그림은 m = 4, n = 5, k = 2인 MF 모델.\n",
    "\n",
    "$P_0=(1, 0.1)$은 빨간모자쓴 **사용자의 특성(Feature)벡터** <br>\n",
    "\n",
    "$Q_0=(0.9, -0.2)$은 해리포터 **영화의 특성(Feature)벡터** <br>\n",
    "\n",
    "이 두 벡터를 내적해서 얻어지는 0.88은 $R_{0,0}$로 정의되는 **사용자의 영화 선호도**"
   ]
  },
  {
   "cell_type": "markdown",
   "id": "238920a5",
   "metadata": {},
   "source": [
    "#### MF 모델의 목표는?\n",
    "> - 모든 유저와 아이템에 대해 **k-dimension의 벡터를 잘 만드는 것**\n",
    "> - 벡터를 잘 만드는 기준은 유저 i의 벡터($U_i$)와 아이템 j의 벡터($I_j$)를 내적했을 때 유저 i가 아이템 j에 대해 평가한 수치($M_{ij}$)와 비슷한지 <br>\n",
    "> $U_i * I_j = M_{ij}$"
   ]
  },
  {
   "attachments": {
    "image.png": {
     "image/png": "[encoded data removed]"
    }
   },
   "cell_type": "markdown",
   "id": "d407766b",
   "metadata": {},
   "source": [
    "### 4.1 MF 모델 학습전에 CSR matrix 만들기\n",
    "\n",
    "![image.png](attachment:image.png)\n",
    "\n",
    "> - data[k]와 a[row_ind[k], col_ind[k]]가 같아야한다!"
   ]
  },
  {
   "cell_type": "code",
   "execution_count": 38,
   "id": "7ee12440",
   "metadata": {
    "scrolled": true
   },
   "outputs": [
    {
     "name": "stdout",
     "output_type": "stream",
     "text": [
      "6040\n",
      "3630\n",
      "(836483,)\n",
      "(836483,)\n",
      "(836483,)\n"
     ]
    }
   ],
   "source": [
    "from scipy.sparse import csr_matrix\n",
    "\n",
    "num_user = ratings['user_id'].nunique() \n",
    "num_movie = ratings['movie_id'].nunique()\n",
    "\n",
    "print(num_user)\n",
    "print(num_movie)\n",
    "print(ratings['counts'].shape)\n",
    "print(ratings['user_id'].shape)\n",
    "print(ratings['movie_id'].shape)\n",
    "\n",
    "# csr_data = csr_matrix((ratings.counts, (ratings.user_id, ratings.movie_id)), shape= (num_user, num_movie))\n",
    "# csr_data"
   ]
  },
  {
   "cell_type": "markdown",
   "id": "83e57679",
   "metadata": {},
   "source": [
    "> 위에 코드를 주석 없이 실행시키면 **ValueError: row index exceeds matrix dimensions** 에러 발생\n",
    "\n",
    "#### 왜이런 오류가 발생할까?"
   ]
  },
  {
   "cell_type": "markdown",
   "id": "ea3ac21d",
   "metadata": {},
   "source": [
    "> - num_user = ratings['user_id'].nunique() 실제 데이터 인덱스와 다르게 들어간다. <br>\n",
    "> - num_movie = ratings['movie_id'].nunique()와 다르게 실제 인덱스가 뒤죽박죽으로 매겨져있는듯하다\n",
    "> - 모델 활용 전 전처리를 내맘대로해서 인덱싱이 제대로 안됐던거같다.<br>\n",
    "> - 기존 실습 바탕으로 위에서 다시 indexing 해주자! -> 3.2 부분"
   ]
  },
  {
   "cell_type": "code",
   "execution_count": 44,
   "id": "9ed6ab6a",
   "metadata": {},
   "outputs": [
    {
     "data": {
      "text/plain": [
       "<6040x3630 sparse matrix of type '<class 'numpy.int64'>'\n",
       "\twith 836483 stored elements in Compressed Sparse Row format>"
      ]
     },
     "execution_count": 44,
     "metadata": {},
     "output_type": "execute_result"
    }
   ],
   "source": [
    "from scipy.sparse import csr_matrix\n",
    "\n",
    "num_user = ratings['user_id'].nunique()\n",
    "num_movie = ratings['movie_id'].nunique()\n",
    "\n",
    "csr_data = csr_matrix((ratings.counts, (ratings.user_id, ratings.movie_id)), shape= (num_user, num_movie))\n",
    "csr_data"
   ]
  },
  {
   "cell_type": "markdown",
   "id": "ab1aafa6",
   "metadata": {},
   "source": [
    "> #### 기존 실습대로 인덱싱 해주고 나니까 CSR matrix 만들 때 오류가 안난다!"
   ]
  },
  {
   "cell_type": "markdown",
   "id": "fdc6a6a0",
   "metadata": {},
   "source": [
    "### 4.2 모델 학습시키기\n",
    "\n",
    "``implicit`` 패키지에 구현된 ``AlternatingLeastSquares`` 사용\n",
    "- factors : 유저와 아이템의 벡터를 몇 차원으로 할 것인지\n",
    "- regularization : 과적합을 방지하기 위해 정규화 값을 얼마나 사용할 것인지\n",
    "- use_gpu : GPU를 사용할 것인지\n",
    "- iterations : epochs와 같은 의미. 데이터를 몇 번 반복해서 학습할 것인지"
   ]
  },
  {
   "cell_type": "code",
   "execution_count": 45,
   "id": "a5676fc3",
   "metadata": {},
   "outputs": [
    {
     "name": "stdout",
     "output_type": "stream",
     "text": [
      "Requirement already satisfied: implicit in /opt/conda/lib/python3.9/site-packages (0.4.8)\n",
      "Requirement already satisfied: tqdm>=4.27 in /opt/conda/lib/python3.9/site-packages (from implicit) (4.62.3)\n",
      "Requirement already satisfied: numpy in /opt/conda/lib/python3.9/site-packages (from implicit) (1.21.4)\n",
      "Requirement already satisfied: scipy>=0.16 in /opt/conda/lib/python3.9/site-packages (from implicit) (1.7.1)\n",
      "\u001b[33mWARNING: Running pip as the 'root' user can result in broken permissions and conflicting behaviour with the system package manager. It is recommended to use a virtual environment instead: https://pip.pypa.io/warnings/venv\u001b[0m\n"
     ]
    }
   ],
   "source": [
    "!pip install implicit"
   ]
  },
  {
   "cell_type": "code",
   "execution_count": 46,
   "id": "02f70434",
   "metadata": {},
   "outputs": [],
   "source": [
    "from implicit.als import AlternatingLeastSquares\n",
    "import os\n",
    "import numpy as np\n",
    "\n",
    "# implicit 라이브러리에서 권장하고 있는 부분입니다. 학습 내용과는 무관합니다.\n",
    "os.environ['OPENBLAS_NUM_THREADS']='1'\n",
    "os.environ['KMP_DUPLICATE_LIB_OK']='True'\n",
    "os.environ['MKL_NUM_THREADS']='1'"
   ]
  },
  {
   "cell_type": "code",
   "execution_count": 47,
   "id": "36cfd8ce",
   "metadata": {},
   "outputs": [],
   "source": [
    "# Implicit AlternatingLeastSquares 모델의 선언\n",
    "als_model = AlternatingLeastSquares(factors=100, regularization=0.01, use_gpu=False, iterations=15, dtype=np.float32)"
   ]
  },
  {
   "cell_type": "code",
   "execution_count": 48,
   "id": "f3a3aef5",
   "metadata": {},
   "outputs": [
    {
     "data": {
      "text/plain": [
       "<3630x6040 sparse matrix of type '<class 'numpy.int64'>'\n",
       "\twith 836483 stored elements in Compressed Sparse Column format>"
      ]
     },
     "execution_count": 48,
     "metadata": {},
     "output_type": "execute_result"
    }
   ],
   "source": [
    "# als 모델은 input으로 (item X user 꼴의 matrix를 받기 때문에 Transpose해줍니다.)\n",
    "csr_data_transpose = csr_data.T\n",
    "csr_data_transpose"
   ]
  },
  {
   "cell_type": "code",
   "execution_count": 49,
   "id": "e5d9069f",
   "metadata": {},
   "outputs": [
    {
     "data": {
      "application/vnd.jupyter.widget-view+json": {
       "model_id": "e043551585d94312b654f7243635fc26",
       "version_major": 2,
       "version_minor": 0
      },
      "text/plain": [
       "  0%|          | 0/15 [00:00<?, ?it/s]"
      ]
     },
     "metadata": {},
     "output_type": "display_data"
    }
   ],
   "source": [
    "# 모델 훈련\n",
    "als_model.fit(csr_data_transpose)"
   ]
  },
  {
   "cell_type": "markdown",
   "id": "645e9b7f",
   "metadata": {},
   "source": [
    "# 5. 결과 분석\n",
    "- 내가 선호하는 5가지 영화 중 하나와 그 외의 영화 하나를 골라 훈련된 모델이 예측한 나의 선호도를 파악해 보세요."
   ]
  },
  {
   "cell_type": "markdown",
   "id": "c74f9c94",
   "metadata": {},
   "source": [
    ">- When Harry Met Sally... (1989)         6237\n",
    ">- Clueless (1995)                        4670\n",
    ">- Pretty Woman (1990)                    3572\n",
    ">- Notting Hill (1999)                    2703\n",
    ">- 10 Things I Hate About You (1999)      2210"
   ]
  },
  {
   "cell_type": "code",
   "execution_count": 50,
   "id": "09043bf0",
   "metadata": {
    "scrolled": true
   },
   "outputs": [
    {
     "data": {
      "text/plain": [
       "[6237, 4670, 3572, 2703, 2210]"
      ]
     },
     "execution_count": 50,
     "metadata": {},
     "output_type": "execute_result"
    }
   ],
   "source": [
    "my_favorite"
   ]
  },
  {
   "cell_type": "markdown",
   "id": "97d4509d",
   "metadata": {},
   "source": [
    "### my_favorite 인덱싱 전 후 비교\n",
    "    Before After\n",
    "- 0\t 6237  3628\t\n",
    "- 1\t 4670  3629\t\n",
    "- 2\t 3572  2807\t\n",
    "- 3\t 2703  3621\t\n",
    "- 4\t 2210  2088"
   ]
  },
  {
   "cell_type": "code",
   "execution_count": 55,
   "id": "f039b1bf",
   "metadata": {},
   "outputs": [],
   "source": [
    "minyeong, clueless = user_to_idx[6041],movie_to_idx[4670]\n",
    "minyeong_vector, clueless_vector = als_model.user_factors[minyeong],als_model.item_factors[clueless]"
   ]
  },
  {
   "cell_type": "code",
   "execution_count": 56,
   "id": "837bf970",
   "metadata": {},
   "outputs": [
    {
     "data": {
      "text/plain": [
       "0.0017248255"
      ]
     },
     "execution_count": 56,
     "metadata": {},
     "output_type": "execute_result"
    }
   ],
   "source": [
    "np.dot(minyeong_vector,clueless_vector)"
   ]
  },
  {
   "cell_type": "code",
   "execution_count": 58,
   "id": "4ab65a0f",
   "metadata": {},
   "outputs": [
    {
     "ename": "AttributeError",
     "evalue": "'numpy.float32' object has no attribute 'extend'",
     "output_type": "error",
     "traceback": [
      "\u001b[0;31m---------------------------------------------------------------------------\u001b[0m",
      "\u001b[0;31mAttributeError\u001b[0m                            Traceback (most recent call last)",
      "\u001b[0;32m/tmp/ipykernel_31/1191297398.py\u001b[0m in \u001b[0;36m<module>\u001b[0;34m\u001b[0m\n\u001b[1;32m      3\u001b[0m     \u001b[0mtemp\u001b[0m \u001b[0;34m=\u001b[0m \u001b[0mmovie_to_idx\u001b[0m\u001b[0;34m[\u001b[0m\u001b[0mi\u001b[0m\u001b[0;34m]\u001b[0m\u001b[0;34m\u001b[0m\u001b[0;34m\u001b[0m\u001b[0m\n\u001b[1;32m      4\u001b[0m     \u001b[0mpref_movies\u001b[0m \u001b[0;34m=\u001b[0m \u001b[0mnp\u001b[0m\u001b[0;34m.\u001b[0m\u001b[0mdot\u001b[0m\u001b[0;34m(\u001b[0m\u001b[0mminyeong_vector\u001b[0m\u001b[0;34m,\u001b[0m \u001b[0mals_model\u001b[0m\u001b[0;34m.\u001b[0m\u001b[0mitem_factors\u001b[0m\u001b[0;34m[\u001b[0m\u001b[0mtemp\u001b[0m\u001b[0;34m]\u001b[0m\u001b[0;34m)\u001b[0m\u001b[0;34m\u001b[0m\u001b[0;34m\u001b[0m\u001b[0m\n\u001b[0;32m----> 5\u001b[0;31m     \u001b[0mpref_movies\u001b[0m\u001b[0;34m.\u001b[0m\u001b[0mextend\u001b[0m\u001b[0;34m(\u001b[0m\u001b[0;34m(\u001b[0m\u001b[0mi\u001b[0m\u001b[0;34m,\u001b[0m\u001b[0mpref_movies\u001b[0m\u001b[0;34m)\u001b[0m\u001b[0;34m)\u001b[0m\u001b[0;34m\u001b[0m\u001b[0;34m\u001b[0m\u001b[0m\n\u001b[0m\u001b[1;32m      6\u001b[0m \u001b[0;34m\u001b[0m\u001b[0m\n\u001b[1;32m      7\u001b[0m \u001b[0mpref_movies\u001b[0m\u001b[0;34m\u001b[0m\u001b[0;34m\u001b[0m\u001b[0m\n",
      "\u001b[0;31mAttributeError\u001b[0m: 'numpy.float32' object has no attribute 'extend'"
     ]
    }
   ],
   "source": [
    "pref_movies=[]\n",
    "for i in my_favorite:\n",
    "    temp = movie_to_idx[i]\n",
    "    pref_movies = np.dot(minyeong_vector, als_model.item_factors[temp])\n",
    "    pref_movies.append((i,pref_movies))\n",
    "    \n",
    "pref_movies"
   ]
  },
  {
   "cell_type": "markdown",
   "id": "6965937a",
   "metadata": {},
   "source": [
    "# 회고\n",
    "- 제대로 완성을 못했다..\n",
    "- 익스 미루지 말고 제때 하자 제발~!"
   ]
  }
 ],
 "metadata": {
  "kernelspec": {
   "display_name": "Python 3 (ipykernel)",
   "language": "python",
   "name": "python3"
  },
  "language_info": {
   "codemirror_mode": {
    "name": "ipython",
    "version": 3
   },
   "file_extension": ".py",
   "mimetype": "text/x-python",
   "name": "python",
   "nbconvert_exporter": "python",
   "pygments_lexer": "ipython3",
   "version": "3.9.7"
  }
 },
 "nbformat": 4,
 "nbformat_minor": 5
}
