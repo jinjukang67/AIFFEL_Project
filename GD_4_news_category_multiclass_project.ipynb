{
  "nbformat": 4,
  "nbformat_minor": 0,
  "metadata": {
    "colab": {
      "name": "GD_4_news_category_multiclass_project.ipynb",
      "provenance": [],
      "collapsed_sections": [
        "ckvWTMuGqdnf",
        "-GBXrkjWrGO8",
        "vbnY-4Rpsu9w",
        "fXfLu9XGtTva",
        "1s7m6fiEtng0",
        "jZJZIWoht-IO"
      ],
      "authorship_tag": "ABX9TyNaWU66mHgPQj1InGwW8a4h",
      "include_colab_link": true
    },
    "kernelspec": {
      "name": "python3",
      "display_name": "Python 3"
    },
    "language_info": {
      "name": "python"
    }
  },
  "cells": [
    {
      "cell_type": "markdown",
      "metadata": {
        "id": "view-in-github",
        "colab_type": "text"
      },
      "source": [
        "<a href=\"https://colab.research.google.com/github/jinjukang67/AIFFEL_Project/blob/master/GD_4_news_category_multiclass_project.ipynb\" target=\"_parent\"><img src=\"https://colab.research.google.com/assets/colab-badge.svg\" alt=\"Open In Colab\"/></a>"
      ]
    },
    {
      "cell_type": "markdown",
      "source": [
        "# 프로젝트: Vocabulary Size를 변경해서 시도해보기\n",
        "\n",
        "> 단어의 수에 따라서 모델의 성능이 어떻게 변하는지 테스트해보자!\n",
        "\n"
      ],
      "metadata": {
        "id": "V6Y-x1c1ksNo"
      }
    },
    {
      "cell_type": "code",
      "source": [
        "import tensorflow\n",
        "import matplotlib\n",
        "import seaborn as sns\n",
        "import numpy as np\n",
        "import pandas as pd\n",
        "import sklearn\n",
        "from tensorflow.keras.datasets import reuters\n",
        "import matplotlib.pyplot as plt\n",
        "\n",
        "print(tensorflow.__version__)\n",
        "print(matplotlib.__version__)\n",
        "print(sns.__version__)\n",
        "print(np.__version__)\n",
        "print(pd.__version__)\n",
        "print(sklearn.__version__)"
      ],
      "metadata": {
        "colab": {
          "base_uri": "https://localhost:8080/"
        },
        "id": "WzTtvLSxk2HR",
        "outputId": "11e2ba09-8dc2-431a-ea90-e0d6c4ed5dca"
      },
      "execution_count": null,
      "outputs": [
        {
          "output_type": "stream",
          "name": "stdout",
          "text": [
            "2.8.0\n",
            "3.2.2\n",
            "0.11.2\n",
            "1.21.5\n",
            "1.3.5\n",
            "1.0.2\n"
          ]
        }
      ]
    },
    {
      "cell_type": "markdown",
      "source": [
        "# 1. 모든 단어 사용"
      ],
      "metadata": {
        "id": "0boGIORflaBO"
      }
    },
    {
      "cell_type": "code",
      "source": [
        "# 텐서프로우 데이터셋에서 가져온다.\n",
        "# 이때 num_words는 데이터 빈도수 기준 상위 몇 번째 단어까지 사용할 건가 말함\n",
        "(x_train, y_train), (x_test, y_test) = reuters.load_data(num_words=None, test_split=0.2)\n",
        "\n",
        "print('훈련 샘플의 수: {}'.format(len(x_train)))\n",
        "print('테스트 샘플의 수: {}'.format(len(x_test)))"
      ],
      "metadata": {
        "colab": {
          "base_uri": "https://localhost:8080/"
        },
        "id": "AvMQLEEXlM2c",
        "outputId": "70c69cf2-236b-4d1b-e4bf-8ed964fd69c2"
      },
      "execution_count": null,
      "outputs": [
        {
          "output_type": "stream",
          "name": "stdout",
          "text": [
            "훈련 샘플의 수: 8982\n",
            "테스트 샘플의 수: 2246\n"
          ]
        }
      ]
    },
    {
      "cell_type": "code",
      "source": [
        "# 단어집합 가져오기\n",
        "word_index = reuters.get_word_index(path=\"reuters_word_index.json\")\n",
        "index_to_word = { index+3 : word for word, index in word_index.items() }\n",
        "\n",
        "# index_to_word 앞에도 pad, sos, unk 토큰 넣어주자\n",
        "for index, token in enumerate((\"<pad>\", \"<sos>\", \"<unk>\")):\n",
        "    index_to_word[index] = token\n",
        "\n",
        "# train 텍스트 데이터로 변환하기\n",
        "decoded = []\n",
        "for i in range(len(x_train)):\n",
        "    t = ' '.join([index_to_word[index] for index in x_train[i]])\n",
        "    decoded.append(t)\n",
        "\n",
        "x_train = decoded\n",
        "print(len(x_train))"
      ],
      "metadata": {
        "colab": {
          "base_uri": "https://localhost:8080/"
        },
        "id": "aEKGZVnToR6C",
        "outputId": "b56f0b50-ab64-4892-90e3-b989836d9428"
      },
      "execution_count": null,
      "outputs": [
        {
          "output_type": "stream",
          "name": "stdout",
          "text": [
            "8982\n"
          ]
        }
      ]
    },
    {
      "cell_type": "code",
      "source": [
        "# test 텍스트 데이터로 변환하기\n",
        "decoded = []\n",
        "for i in range(len(x_test)):\n",
        "    t = ' '.join([index_to_word[index] for index in x_test[i]])\n",
        "    decoded.append(t)\n",
        "\n",
        "x_test = decoded\n",
        "print(len(x_test))"
      ],
      "metadata": {
        "colab": {
          "base_uri": "https://localhost:8080/"
        },
        "id": "if-_VTCroz_y",
        "outputId": "a16900fa-9da9-4909-ba13-26a0f8d071fc"
      },
      "execution_count": null,
      "outputs": [
        {
          "output_type": "stream",
          "name": "stdout",
          "text": [
            "2246\n"
          ]
        }
      ]
    },
    {
      "cell_type": "markdown",
      "source": [
        "### 1.1 벡터화하기\n",
        "- Bag of Words 기반"
      ],
      "metadata": {
        "id": "4n2-R47fmWIv"
      }
    },
    {
      "cell_type": "code",
      "source": [
        "from sklearn.feature_extraction.text import CountVectorizer\n",
        "from sklearn.feature_extraction.text import TfidfTransformer\n",
        "\n",
        "# DTM 생성\n",
        "dtmvector = CountVectorizer()\n",
        "x_train_dtm = dtmvector.fit_transform(x_train)\n",
        "print(\"DTM의 크기: \",x_train_dtm.shape)\n",
        "\n",
        "# TF-IDF Matrix 생성\n",
        "tfidf_transformer = TfidfTransformer()\n",
        "tfidfv = tfidf_transformer.fit_transform(x_train_dtm)\n",
        "print(\"TF-IDF Matrix의 크기: \",tfidfv.shape)"
      ],
      "metadata": {
        "colab": {
          "base_uri": "https://localhost:8080/"
        },
        "id": "FPE9cG0Fm54K",
        "outputId": "11d45782-c1b7-4d20-9981-16cffd84cd14"
      },
      "execution_count": null,
      "outputs": [
        {
          "output_type": "stream",
          "name": "stdout",
          "text": [
            "DTM의 크기:  (8982, 26506)\n",
            "TF-IDF Matrix의 크기:  (8982, 26506)\n"
          ]
        }
      ]
    },
    {
      "cell_type": "markdown",
      "source": [
        "> 단어는 총 26,506개"
      ],
      "metadata": {
        "id": "LV3M4r3RpTTp"
      }
    },
    {
      "cell_type": "markdown",
      "source": [
        "### 1.2 나이브 베이즈 분류기"
      ],
      "metadata": {
        "id": "H761bfqspYxW"
      }
    },
    {
      "cell_type": "code",
      "source": [
        "from sklearn.naive_bayes import MultinomialNB #다항분포 나이브 베이즈 모델\n",
        "from sklearn.linear_model import LogisticRegression, SGDClassifier\n",
        "from sklearn.naive_bayes import ComplementNB\n",
        "from sklearn.tree import DecisionTreeClassifier\n",
        "from sklearn.ensemble import RandomForestClassifier\n",
        "from sklearn.ensemble import GradientBoostingClassifier\n",
        "from sklearn.ensemble import VotingClassifier\n",
        "from sklearn.svm import LinearSVC\n",
        "from sklearn.metrics import accuracy_score #정확도 계산"
      ],
      "metadata": {
        "id": "kn-m_kW_nN9n"
      },
      "execution_count": null,
      "outputs": []
    },
    {
      "cell_type": "code",
      "source": [
        "model = MultinomialNB()\n",
        "model.fit(tfidfv, y_train)"
      ],
      "metadata": {
        "colab": {
          "base_uri": "https://localhost:8080/"
        },
        "id": "stMrDmfhpfkP",
        "outputId": "92386ff7-048c-4ce8-9243-97364dbf10f3"
      },
      "execution_count": null,
      "outputs": [
        {
          "output_type": "execute_result",
          "data": {
            "text/plain": [
              "MultinomialNB()"
            ]
          },
          "metadata": {},
          "execution_count": 14
        }
      ]
    },
    {
      "cell_type": "code",
      "source": [
        "# test 데이터도 DTM -> tf-idf 행렬로 변환\n",
        "x_test_dtm = dtmvector.transform(x_test)\n",
        "tfidfv_test = tfidf_transformer.transform(x_test_dtm)\n",
        "\n",
        "predicted = model.predict(tfidfv_test)\n",
        "\n",
        "# 카테고리 라벨 분류한 정확도\n",
        "print(\"정확도:\", accuracy_score(y_test, predicted))"
      ],
      "metadata": {
        "colab": {
          "base_uri": "https://localhost:8080/"
        },
        "id": "OxCmq-XMpgu1",
        "outputId": "5d8f6c90-84e4-40d0-d3fd-81fbb718ad94"
      },
      "execution_count": null,
      "outputs": [
        {
          "output_type": "stream",
          "name": "stdout",
          "text": [
            "정확도: 0.5997328584149599\n"
          ]
        }
      ]
    },
    {
      "cell_type": "code",
      "source": [
        "x_test[3]"
      ],
      "metadata": {
        "colab": {
          "base_uri": "https://localhost:8080/",
          "height": 255
        },
        "id": "01FN9E9Mpj5C",
        "outputId": "a8899a6a-72d0-4a1a-ee4e-060df4b92b5f"
      },
      "execution_count": null,
      "outputs": [
        {
          "output_type": "execute_result",
          "data": {
            "text/plain": [
              "'<sos> graham mccormick oil and gas partnership said it completed the sale of interests in two major oil and gas fields to lt energy assets international corp for 21 mln dlrs the company said it sold about one half of its 50 pct interest in the oak hill and north rucias fields its two largest producing properties it said it used about 20 mln dlrs of the proceeds to prepay principal on its senior secured notes semi annual principal payments on the remaining 40 mln dlrs of notes have been satisfied until december 1988 as a result it said the company said the note agreements were amended to reflect an easing of some financial covenants and an increase of interest to 13 5 pct from 13 0 pct until december 1990 it said the noteholders exercise price for 1 125 000 warrants was also reduced to 50 cts from 1 50 dlrs the company said energy assets agreed to share the costs of increasing production at the oak hill field reuter 3'"
            ],
            "application/vnd.google.colaboratory.intrinsic+json": {
              "type": "string"
            }
          },
          "metadata": {},
          "execution_count": 16
        }
      ]
    },
    {
      "cell_type": "code",
      "source": [
        "y_test[3]"
      ],
      "metadata": {
        "colab": {
          "base_uri": "https://localhost:8080/"
        },
        "id": "uy5DGJIXpl-A",
        "outputId": "f42284b2-c61d-4988-8f32-5a065a102ac3"
      },
      "execution_count": null,
      "outputs": [
        {
          "output_type": "execute_result",
          "data": {
            "text/plain": [
              "4"
            ]
          },
          "metadata": {},
          "execution_count": 17
        }
      ]
    },
    {
      "cell_type": "code",
      "source": [
        "probability_3 = model.predict_proba(tfidfv_test[3])[0]\n",
        "\n",
        "plt.rcParams[\"figure.figsize\"] = (11,5)\n",
        "plt.bar(model.classes_, probability_3)\n",
        "plt.xlim(-1, 21)\n",
        "plt.xticks(model.classes_)\n",
        "plt.xlabel(\"Class\")\n",
        "plt.ylabel(\"Probability\")\n",
        "plt.show()"
      ],
      "metadata": {
        "colab": {
          "base_uri": "https://localhost:8080/",
          "height": 317
        },
        "id": "HI7bp_Iappff",
        "outputId": "beec9b4f-c76d-4b7e-b246-85710bc8adee"
      },
      "execution_count": null,
      "outputs": [
        {
          "output_type": "display_data",
          "data": {
            "text/plain": [
              "<Figure size 792x360 with 1 Axes>"
            ],
            "image/png": "[encoded data removed]"
          },
          "metadata": {
            "needs_background": "light"
          }
        }
      ]
    },
    {
      "cell_type": "markdown",
      "source": [
        "- 거의 80프로의 확률로 인덱스 3번 뉴스기사가 4번 클래스라고 맞게 예측했다."
      ],
      "metadata": {
        "id": "ikRqt0jkqADM"
      }
    },
    {
      "cell_type": "markdown",
      "source": [
        "**F1-Score, Confusion Matrix**\n",
        "- macro: 단순평균\n",
        "- weighted: 각 클래스에 속하는 표본의 개수로 가중평균\n",
        "- accuracy: 정확도. 전체 학습 데이터의 개수에서 클래스를 정확하게 맞춘 개수의 비율"
      ],
      "metadata": {
        "id": "prQ5ls4EprQr"
      }
    },
    {
      "cell_type": "code",
      "source": [
        "from sklearn.metrics import classification_report\n",
        "from sklearn.metrics import confusion_matrix\n",
        "\n",
        "print(classification_report(y_test, model.predict(tfidfv_test), zero_division=0))"
      ],
      "metadata": {
        "colab": {
          "base_uri": "https://localhost:8080/"
        },
        "id": "q0dvZVwnqQ10",
        "outputId": "accdf4bb-f521-42e4-9af3-c04c29a61079"
      },
      "execution_count": null,
      "outputs": [
        {
          "output_type": "stream",
          "name": "stdout",
          "text": [
            "              precision    recall  f1-score   support\n",
            "\n",
            "           0       0.00      0.00      0.00        12\n",
            "           1       0.79      0.21      0.33       105\n",
            "           2       0.00      0.00      0.00        20\n",
            "           3       0.72      0.92      0.81       813\n",
            "           4       0.45      0.96      0.61       474\n",
            "           5       0.00      0.00      0.00         5\n",
            "           6       0.00      0.00      0.00        14\n",
            "           7       0.00      0.00      0.00         3\n",
            "           8       0.00      0.00      0.00        38\n",
            "           9       0.00      0.00      0.00        25\n",
            "          10       0.00      0.00      0.00        30\n",
            "          11       0.80      0.29      0.42        83\n",
            "          12       0.00      0.00      0.00        13\n",
            "          13       0.00      0.00      0.00        37\n",
            "          14       0.00      0.00      0.00         2\n",
            "          15       0.00      0.00      0.00         9\n",
            "          16       0.75      0.18      0.29        99\n",
            "          17       0.00      0.00      0.00        12\n",
            "          18       0.00      0.00      0.00        20\n",
            "          19       0.73      0.58      0.64       133\n",
            "          20       0.00      0.00      0.00        70\n",
            "          21       0.00      0.00      0.00        27\n",
            "          22       0.00      0.00      0.00         7\n",
            "          23       0.00      0.00      0.00        12\n",
            "          24       0.00      0.00      0.00        19\n",
            "          25       0.00      0.00      0.00        31\n",
            "          26       0.00      0.00      0.00         8\n",
            "          27       0.00      0.00      0.00         4\n",
            "          28       0.00      0.00      0.00        10\n",
            "          29       0.00      0.00      0.00         4\n",
            "          30       0.00      0.00      0.00        12\n",
            "          31       0.00      0.00      0.00        13\n",
            "          32       0.00      0.00      0.00        10\n",
            "          33       0.00      0.00      0.00         5\n",
            "          34       0.00      0.00      0.00         7\n",
            "          35       0.00      0.00      0.00         6\n",
            "          36       0.00      0.00      0.00        11\n",
            "          37       0.00      0.00      0.00         2\n",
            "          38       0.00      0.00      0.00         3\n",
            "          39       0.00      0.00      0.00         5\n",
            "          40       0.00      0.00      0.00        10\n",
            "          41       0.00      0.00      0.00         8\n",
            "          42       0.00      0.00      0.00         3\n",
            "          43       0.00      0.00      0.00         6\n",
            "          44       0.00      0.00      0.00         5\n",
            "          45       0.00      0.00      0.00         1\n",
            "\n",
            "    accuracy                           0.60      2246\n",
            "   macro avg       0.09      0.07      0.07      2246\n",
            "weighted avg       0.50      0.60      0.50      2246\n",
            "\n"
          ]
        }
      ]
    },
    {
      "cell_type": "code",
      "source": [
        "# confusion matrix 시각화\n",
        "def graph_confusion_matrix(model, x_test, y_test):#, classes_name):\n",
        "  df_cm = pd.DataFrame(confusion_matrix(y_test, model.predict(x_test)))#, index=classes_name, columns=classes_name)\n",
        "  fig = plt.figure(figsize=(12,12))\n",
        "  heatmap = sns.heatmap(df_cm, annot=True, fmt=\"d\")\n",
        "  heatmap.yaxis.set_ticklabels(heatmap.yaxis.get_ticklabels(), rotation=0, ha='right', fontsize=12)\n",
        "  heatmap.xaxis.set_ticklabels(heatmap.xaxis.get_ticklabels(), rotation=45, ha='right', fontsize=12)\n",
        "  plt.ylabel('label')\n",
        "  plt.xlabel('predicted value')\n",
        "\n",
        "graph_confusion_matrix(model, tfidfv_test, y_test)"
      ],
      "metadata": {
        "colab": {
          "base_uri": "https://localhost:8080/",
          "height": 673
        },
        "id": "OjMgmTs7qWV1",
        "outputId": "c38f7afe-e662-4a7a-f531-3d814e23fdbe"
      },
      "execution_count": null,
      "outputs": [
        {
          "output_type": "display_data",
          "data": {
            "text/plain": [
              "<Figure size 864x864 with 2 Axes>"
            ],
            "image/png": "[encoded data removed]"
          },
          "metadata": {
            "needs_background": "light"
          }
        }
      ]
    },
    {
      "cell_type": "markdown",
      "source": [
        "###1.3 Complement Naive Bayes Classifier(CNB)\n",
        "\n",
        "- 데이터가 불균형할 경우를 대비해 나이브 베이즈 분류기를 보완한 것"
      ],
      "metadata": {
        "id": "ckvWTMuGqdnf"
      }
    },
    {
      "cell_type": "code",
      "source": [
        "cb = ComplementNB()\n",
        "cb.fit(tfidfv, y_train)"
      ],
      "metadata": {
        "colab": {
          "base_uri": "https://localhost:8080/"
        },
        "id": "bNO8YyANq3RB",
        "outputId": "a26c9bfd-7d92-46c9-9671-f88c2831837b"
      },
      "execution_count": null,
      "outputs": [
        {
          "output_type": "execute_result",
          "data": {
            "text/plain": [
              "ComplementNB()"
            ]
          },
          "metadata": {},
          "execution_count": 23
        }
      ]
    },
    {
      "cell_type": "code",
      "source": [
        "predicted = cb.predict(tfidfv_test) #테스트 데이터에 대한 예측\n",
        "print(\"정확도:\", accuracy_score(y_test, predicted)) #예측값과 실제값 비교"
      ],
      "metadata": {
        "colab": {
          "base_uri": "https://localhost:8080/"
        },
        "id": "DRAjE0Bqq5X7",
        "outputId": "19882e0e-2435-4265-b3d8-cc636b9a49fd"
      },
      "execution_count": null,
      "outputs": [
        {
          "output_type": "stream",
          "name": "stdout",
          "text": [
            "정확도: 0.7649154051647373\n"
          ]
        }
      ]
    },
    {
      "cell_type": "markdown",
      "source": [
        "-> 나이브 베이즈 분류기보다 약 15프로나 더 높은 성능을 냄"
      ],
      "metadata": {
        "id": "Fsf8vKe0q6bS"
      }
    },
    {
      "cell_type": "markdown",
      "source": [
        "### 1.4 로지스틱 회귀(Logistic Regression)\n",
        "- 다중 클래스 분류\n",
        "- C argument\n",
        "    - \n",
        "A high value of C tells the model to give high weight to the training data, and a lower weight to the complexity penalty. Thus, a high Hyper Parameter value C indicates that training data is more important and reflects the real world data, whereas low value is just the opposite of this.\n",
        "    > C: float, default=1.0 Inverse of regularization strength; must be a positive float. Like in support vector machines, smaller values specify stronger regularization.\n",
        "\n"
      ],
      "metadata": {
        "id": "-GBXrkjWrGO8"
      }
    },
    {
      "cell_type": "code",
      "source": [
        "lr = LogisticRegression(C=10000, penalty='l2')\n",
        "lr.fit(tfidfv, y_train)"
      ],
      "metadata": {
        "colab": {
          "base_uri": "https://localhost:8080/"
        },
        "id": "VVDHbyjzrKQb",
        "outputId": "b944bff5-3605-4a9c-d0c8-0b6b1fd96064"
      },
      "execution_count": null,
      "outputs": [
        {
          "output_type": "stream",
          "name": "stderr",
          "text": [
            "/usr/local/lib/python3.7/dist-packages/sklearn/linear_model/_logistic.py:818: ConvergenceWarning: lbfgs failed to converge (status=1):\n",
            "STOP: TOTAL NO. of ITERATIONS REACHED LIMIT.\n",
            "\n",
            "Increase the number of iterations (max_iter) or scale the data as shown in:\n",
            "    https://scikit-learn.org/stable/modules/preprocessing.html\n",
            "Please also refer to the documentation for alternative solver options:\n",
            "    https://scikit-learn.org/stable/modules/linear_model.html#logistic-regression\n",
            "  extra_warning_msg=_LOGISTIC_SOLVER_CONVERGENCE_MSG,\n"
          ]
        },
        {
          "output_type": "execute_result",
          "data": {
            "text/plain": [
              "LogisticRegression(C=10000)"
            ]
          },
          "metadata": {},
          "execution_count": 25
        }
      ]
    },
    {
      "cell_type": "code",
      "source": [
        "predicted = lr.predict(tfidfv_test) #테스트 데이터에 대한 예측\n",
        "print(\"정확도:\", accuracy_score(y_test, predicted)) #예측값과 실제값 비교"
      ],
      "metadata": {
        "colab": {
          "base_uri": "https://localhost:8080/"
        },
        "id": "-nDVl9FErPT-",
        "outputId": "5dd4be58-98a7-4761-c159-e30f50660179"
      },
      "execution_count": null,
      "outputs": [
        {
          "output_type": "stream",
          "name": "stdout",
          "text": [
            "정확도: 0.813446126447017\n"
          ]
        }
      ]
    },
    {
      "cell_type": "markdown",
      "source": [
        "### 1.5 선형 서포트 벡터 머신(Linear Support Vector Machine)\n",
        "- 선형 분류\n",
        "- 대부분 이진 분류 모델\n",
        "- `LinearSVC`는 이진 분류를 위한 모델\n",
        "- 이번 실습에서 위 모델을 사용하면 클래스의 수만큼 이진 분류 모델이 만들어진다."
      ],
      "metadata": {
        "id": "vbnY-4Rpsu9w"
      }
    },
    {
      "cell_type": "code",
      "source": [
        "lsvc = LinearSVC(C=1000, penalty='l1', max_iter=500, dual=False)\n",
        "lsvc.fit(tfidfv, y_train)"
      ],
      "metadata": {
        "colab": {
          "base_uri": "https://localhost:8080/"
        },
        "id": "U8jLTlQts2IH",
        "outputId": "09c42c2f-b604-4105-c459-1f62ec29121f"
      },
      "execution_count": null,
      "outputs": [
        {
          "output_type": "stream",
          "name": "stderr",
          "text": [
            "/usr/local/lib/python3.7/dist-packages/sklearn/svm/_base.py:1208: ConvergenceWarning: Liblinear failed to converge, increase the number of iterations.\n",
            "  ConvergenceWarning,\n"
          ]
        },
        {
          "output_type": "execute_result",
          "data": {
            "text/plain": [
              "LinearSVC(C=1000, dual=False, max_iter=500, penalty='l1')"
            ]
          },
          "metadata": {},
          "execution_count": 27
        }
      ]
    },
    {
      "cell_type": "code",
      "source": [
        "predicted = lsvc.predict(tfidfv_test) #테스트 데이터에 대한 예측\n",
        "print(\"정확도:\", accuracy_score(y_test, predicted)) #예측값과 실제값 비교"
      ],
      "metadata": {
        "colab": {
          "base_uri": "https://localhost:8080/"
        },
        "id": "AkNxLJC5s5NK",
        "outputId": "986daf26-33b4-4d29-8e98-e245b86556e0"
      },
      "execution_count": null,
      "outputs": [
        {
          "output_type": "stream",
          "name": "stdout",
          "text": [
            "정확도: 0.7729296527159395\n"
          ]
        }
      ]
    },
    {
      "cell_type": "markdown",
      "source": [
        "### 1.6 결정 트리(Decision Tree)\n",
        "- 분류나 회귀 문제에 사용되는 모델"
      ],
      "metadata": {
        "id": "fXfLu9XGtTva"
      }
    },
    {
      "cell_type": "code",
      "source": [
        "tree = DecisionTreeClassifier(max_depth=10, random_state=0)\n",
        "tree.fit(tfidfv, y_train)"
      ],
      "metadata": {
        "colab": {
          "base_uri": "https://localhost:8080/"
        },
        "id": "gGZ8qe_xtaUf",
        "outputId": "55dfd0a8-6fbd-41f8-e908-ccff9899227c"
      },
      "execution_count": null,
      "outputs": [
        {
          "output_type": "execute_result",
          "data": {
            "text/plain": [
              "DecisionTreeClassifier(max_depth=10, random_state=0)"
            ]
          },
          "metadata": {},
          "execution_count": 29
        }
      ]
    },
    {
      "cell_type": "code",
      "source": [
        "predicted = tree.predict(tfidfv_test) #테스트 데이터에 대한 예측\n",
        "print(\"정확도:\", accuracy_score(y_test, predicted)) #예측값과 실제값 비교"
      ],
      "metadata": {
        "colab": {
          "base_uri": "https://localhost:8080/"
        },
        "id": "4ccQDdsCtcBp",
        "outputId": "191ddbdf-ca8c-4e1f-9bc9-8ce00cc859ce"
      },
      "execution_count": null,
      "outputs": [
        {
          "output_type": "stream",
          "name": "stdout",
          "text": [
            "정확도: 0.6211041852181657\n"
          ]
        }
      ]
    },
    {
      "cell_type": "markdown",
      "source": [
        "- 결정트리의 정확도가 62%로 가장 낮음"
      ],
      "metadata": {
        "id": "y24p7Hfptf26"
      }
    },
    {
      "cell_type": "markdown",
      "source": [
        "### 1.7 랜덤 포레스트(Random Forest)\n",
        "- 결정 트리를 사용하는 앙상블 모델\n",
        "- 결정 트리는 훈련 데이터에 과적합(Overfitting)되는 경향이 있다.\n",
        "- 하지만 랜덤 포레스트는 이 문제를 앙상블로 해결한다.\n",
        "- 가령 서로 다른 방향으로 과적합된 트리들을 조합하면 오히려 모델 전체에서는 과적합을 피할 수 있다"
      ],
      "metadata": {
        "id": "1s7m6fiEtng0"
      }
    },
    {
      "cell_type": "code",
      "source": [
        "forest = RandomForestClassifier(n_estimators=5, random_state=0)\n",
        "forest.fit(tfidfv, y_train)"
      ],
      "metadata": {
        "colab": {
          "base_uri": "https://localhost:8080/"
        },
        "id": "CUrhjRYotsWX",
        "outputId": "d425c4e2-efa3-408f-fc62-7a4c88b00475"
      },
      "execution_count": null,
      "outputs": [
        {
          "output_type": "execute_result",
          "data": {
            "text/plain": [
              "RandomForestClassifier(n_estimators=5, random_state=0)"
            ]
          },
          "metadata": {},
          "execution_count": 31
        }
      ]
    },
    {
      "cell_type": "code",
      "source": [
        "predicted = forest.predict(tfidfv_test) #테스트 데이터에 대한 예측\n",
        "print(\"정확도:\", accuracy_score(y_test, predicted)) #예측값과 실제값 비교"
      ],
      "metadata": {
        "colab": {
          "base_uri": "https://localhost:8080/"
        },
        "id": "JOGGP3Jkt6e9",
        "outputId": "c6b2d69e-75f2-405e-ee03-67cb0a0cba02"
      },
      "execution_count": null,
      "outputs": [
        {
          "output_type": "stream",
          "name": "stdout",
          "text": [
            "정확도: 0.6544968833481746\n"
          ]
        }
      ]
    },
    {
      "cell_type": "markdown",
      "source": [
        "### 1.8 그래디언트 부스팅 트리(GradientBoostingClassifier)\n",
        "- 결정 트리를 사용하는 앙상블 모델\n",
        "-  랜덤 포레스트와 다르게 이전 트리의 오차를 보완하는 방식으로 순차적으로 트리를 만든다.\n",
        "- 정확도도 준수하고, 특히 예측 속도가 빠르다"
      ],
      "metadata": {
        "id": "jZJZIWoht-IO"
      }
    },
    {
      "cell_type": "code",
      "source": [
        "grbt = GradientBoostingClassifier(random_state=0,verbose=3) \n",
        "grbt.fit(tfidfv, y_train)"
      ],
      "metadata": {
        "colab": {
          "base_uri": "https://localhost:8080/"
        },
        "id": "XkPxcMVzuEOd",
        "outputId": "7c1c2d7d-60fb-4210-d727-2fe729d19002"
      },
      "execution_count": null,
      "outputs": [
        {
          "output_type": "stream",
          "name": "stdout",
          "text": [
            "      Iter       Train Loss   Remaining Time \n",
            "         1           1.4301           25.58m\n",
            "         2       76760.8864           22.85m\n",
            "         3   766490025.2967           21.74m\n",
            "         4 660857139232122368.0000           21.11m\n",
            "         5 1006529060407114004275646732312951615311370376755613476759245377256674837692003341988813591601665584394912965173495998495951159296.0000           20.81m\n",
            "         6 1006529060407114004275646732312951615311370376755613476759245377256674837692003341988813591601665584394912965173495998495951159296.0000           20.41m\n",
            "         7 1006529060407114004275646732312951615311370376755613476759245377256674837692003341988813591601665584394912965173495998495951159296.0000           20.07m\n",
            "         8 1006529060407114004275646732312951615311370376755613476759245377256674837692003341988813591601665584394912965173495998495951159296.0000           19.79m\n",
            "         9 1006529060407114004275646732312951615311370376755613476759245377256674837692003341988813591601665584394912965173495998495951159296.0000           19.59m\n",
            "        10 1006529060407114004275646732312951615311370376755613476759245377256674837692003341988813591601665584394912965173495998495951159296.0000           19.32m\n",
            "        11 1006529060407114004275646732312951615311370376755613476759245377256674837692003341988813591601665584394912965173495998495951159296.0000           19.05m\n",
            "        12 1006529060407114004275646732312951615311370376755613476759245377256674837692003341988813591601665584394912965173495998495951159296.0000           18.80m\n",
            "        13 1006529060407114004275646732312951615311370376755613476759245377256674837692003341988813591601665584394912965173495998495951159296.0000           18.60m\n",
            "        14 1006529060407114004275646732312951615311370376755613476759245377256674837692003341988813591601665584394912965173495998495951159296.0000           18.40m\n",
            "        15 1006529060407114004275646732312951615311370376755613476759245377256674837692003341988813591601665584394912965173495998495951159296.0000           18.16m\n",
            "        16 1006529060407114004275646732312951615311370376755613476759245377256674837692003341988813591601665584394912965173495998495951159296.0000           17.91m\n",
            "        17 1006529060407114004275646732312951615311370376755613476759245377256674837692003341988813591601665584394912965173495998495951159296.0000           17.72m\n",
            "        18 1006529060407114004275646732312951615311370376755613476759245377256674837692003341988813591601665584394912965173495998495951159296.0000           17.49m\n",
            "        19 1006529060407114004275646732312951615311370376755613476759245377256674837692003341988813591601665584394912965173495998495951159296.0000           17.25m\n",
            "        20 1006529060407114004275646732312951615311370376755613476759245377256674837692003341988813591601665584394912965173495998495951159296.0000           17.02m\n",
            "        21 1006529060407114004275646732312951615311370376755613476759245377256674837692003341988813591601665584394912965173495998495951159296.0000           16.79m\n",
            "        22 1006529060407114004275646732312951615311370376755613476759245377256674837692003341988813591601665584394912965173495998495951159296.0000           16.55m\n",
            "        23 1006529060407114004275646732312951615311370376755613476759245377256674837692003341988813591601665584394912965173495998495951159296.0000           16.33m\n",
            "        24 1006529060407114004275646732312951615311370376755613476759245377256674837692003341988813591601665584394912965173495998495951159296.0000           16.10m\n",
            "        25 7935486330861459413268209935908863185564832687635547920920276400843855648137909550861590845608894276096734983386906163942311234165539923296256.0000           15.87m\n",
            "        26 7935486330861459413268209935908863185564832687635547920920276400843855648137909550861590845608894276096734983386906163942311234165539923296256.0000           15.67m\n",
            "        27 7935486330861459413268209935908863185564832687635547920920276400843855648137909550861590845608894276096734983386906163942311234165539923296256.0000           15.46m\n",
            "        28 7935486330861459413268209935908863185564832687635547920920276400843855648137909550861590845608894276096734983386906163942311234165539923296256.0000           15.23m\n",
            "        29 7935486330861459413268209935908863185564832687635547920920276400843855648137909550861590845608894276096734983386906163942311234165539923296256.0000           15.01m\n",
            "        30 7935486330861459413268209935908863185564832687635547920920276400843855648137909550861590845608894276096734983386906163942311234165539923296256.0000           14.80m\n",
            "        31 7935486330861459413268209935908863185564832687635547920920276400843855648137909550861590845608894276096734983386906163942311234165539923296256.0000           14.58m\n",
            "        32 7935486330861459413268209935908863185564832687635547920920276400843855648137909550861590845608894276096734983386906163942311234165539923296256.0000           14.37m\n",
            "        33 7935486330861459413268209935908863185564832687635547920920276400843855648137909550861590845608894276096734983386906163942311234165539923296256.0000           14.15m\n",
            "        34 7935486330861459413268209935908863185564832687635547920920276400843855648137909550861590845608894276096734983386906163942311234165539923296256.0000           13.93m\n",
            "        35 7935486330861459413268209935908863185564832687635547920920276400843855648137909550861590845608894276096734983386906163942311234165539923296256.0000           13.71m\n",
            "        36 7935486330861459413268209935908863185564832687635547920920276400843855648137909550861590845608894276096734983386906163942311234165539923296256.0000           13.50m\n",
            "        37 7935486330861459413268209935908863185564832687635547920920276400843855648137909550861590845608894276096734983386906163942311234165539923296256.0000           13.28m\n",
            "        38 7935486330861459413268209935908863185564832687635547920920276400843855648137909550861590845608894276096734983386906163942311234165539923296256.0000           13.07m\n",
            "        39 7935486330861459413268209935908863185564832687635547920920276400843855648137909550861590845608894276096734983386906163942311234165539923296256.0000           12.85m\n",
            "        40 7935486330861459413268209935908863185564832687635547920920276400843855648137909550861590845608894276096734983386906163942311234165539923296256.0000           12.64m\n",
            "        41 7935486330861459413268209935908863185564832687635547920920276400843855648137909550861590845608894276096734983386906163942311234165539923296256.0000           12.42m\n",
            "        42 7935486330861459413268209935908863185564832687635547920920276400843855648137909550861590845608894276096734983386906163942311234165539923296256.0000           12.20m\n",
            "        43 7935486330861459413268209935908863185564832687635547920920276400843855648137909550861590845608894276096734983386906163942311234165539923296256.0000           11.99m\n",
            "        44 7935486330861459413268209935908863185564832687635547920920276400843855648137909550861590845608894276096734983386906163942311234165539923296256.0000           11.77m\n",
            "        45 7935486330861459413268209935908863185564832687635547920920276400843855648137909550861590845608894276096734983386906163942311234165539923296256.0000           11.56m\n",
            "        46 7935486330861459413268209935908863185564832687635547920920276400843855648137909550861590845608894276096734983386906163942311234165539923296256.0000           11.34m\n",
            "        47 7935486330861459413268209935908863185564832687635547920920276400843855648137909550861590845608894276096734983386906163942311234165539923296256.0000           11.13m\n",
            "        48 7935486330861459413268209935908863185564832687635547920920276400843855648137909550861590845608894276096734983386906163942311234165539923296256.0000           10.92m\n",
            "        49 7935486330861459413268209935908863185564832687635547920920276400843855648137909550861590845608894276096734983386906163942311234165539923296256.0000           10.70m\n",
            "        50 7935486330861459413268209935908863185564832687635547920920276400843855648137909550861590845608894276096734983386906163942311234165539923296256.0000           10.49m\n",
            "        51 7935486330861459413268209935908863185564832687635547920920276400843855648137909550861590845608894276096734983386906163942311234165539923296256.0000           10.28m\n",
            "        52 7935486330861459413268209935908863185564832687635547920920276400843855648137909550861590845608894276096734983386906163942311234165539923296256.0000           10.07m\n",
            "        53 7935486330861459413268209935908863185564832687635547920920276400843855648137909550861590845608894276096734983386906163942311234165539923296256.0000            9.86m\n",
            "        54 7935486330861459413268209935908863185564832687635547920920276400843855648137909550861590845608894276096734983386906163942311234165539923296256.0000            9.65m\n",
            "        55 7935486330861459413268209935908863185564832687635547920920276400843855648137909550861590845608894276096734983386906163942311234165539923296256.0000            9.43m\n",
            "        56 7935486330861459413268209935908863185564832687635547920920276400843855648137909550861590845608894276096734983386906163942311234165539923296256.0000            9.23m\n",
            "        57 7935486330861459413268209935908863185564832687635547920920276400843855648137909550861590845608894276096734983386906163942311234165539923296256.0000            9.01m\n",
            "        58 7935486330861459413268209935908863185564832687635547920920276400843855648137909550861590845608894276096734983386906163942311234165539923296256.0000            8.80m\n",
            "        59 7935486330861459413268209935908863185564832687635547920920276400843855648137909550861590845608894276096734983386906163942311234165539923296256.0000            8.59m\n",
            "        60 7935486330861459413268209935908863185564832687635547920920276400843855648137909550861590845608894276096734983386906163942311234165539923296256.0000            8.38m\n",
            "        61 7935486330861459413268209935908863185564832687635547920920276400843855648137909550861590845608894276096734983386906163942311234165539923296256.0000            8.17m\n",
            "        62 7935486330861459413268209935908863185564832687635547920920276400843855648137909550861590845608894276096734983386906163942311234165539923296256.0000            7.96m\n",
            "        63 7935486330861459413268209935908863185564832687635547920920276400843855648137909550861590845608894276096734983386906163942311234165539923296256.0000            7.75m\n",
            "        64 7935486330861459413268209935908863185564832687635547920920276400843855648137909550861590845608894276096734983386906163942311234165539923296256.0000            7.54m\n",
            "        65 7935486330861459413268209935908863185564832687635547920920276400843855648137909550861590845608894276096734983386906163942311234165539923296256.0000            7.33m\n",
            "        66 7935486330861459413268209935908863185564832687635547920920276400843855648137909550861590845608894276096734983386906163942311234165539923296256.0000            7.12m\n",
            "        67 7935486330861459413268209935908863185564832687635547920920276400843855648137909550861590845608894276096734983386906163942311234165539923296256.0000            6.91m\n",
            "        68 7935486330861459413268209935908863185564832687635547920920276400843855648137909550861590845608894276096734983386906163942311234165539923296256.0000            6.70m\n",
            "        69 7935486330861459413268209935908863185564832687635547920920276400843855648137909550861590845608894276096734983386906163942311234165539923296256.0000            6.49m\n",
            "        70 7935486330861459413268209935908863185564832687635547920920276400843855648137909550861590845608894276096734983386906163942311234165539923296256.0000            6.28m\n",
            "        71 7935486330861459413268209935908863185564832687635547920920276400843855648137909550861590845608894276096734983386906163942311234165539923296256.0000            6.07m\n",
            "        72 7935486330861459413268209935908863185564832687635547920920276400843855648137909550861590845608894276096734983386906163942311234165539923296256.0000            5.86m\n",
            "        73 7935486330861459413268209935908863185564832687635547920920276400843855648137909550861590845608894276096734983386906163942311234165539923296256.0000            5.65m\n",
            "        74 7935486330861459413268209935908863185564832687635547920920276400843855648137909550861590845608894276096734983386906163942311234165539923296256.0000            5.44m\n",
            "        75 7935486330861459413268209935908863185564832687635547920920276400843855648137909550861590845608894276096734983386906163942311234165539923296256.0000            5.23m\n",
            "        76 7935486330861459413268209935908863185564832687635547920920276400843855648137909550861590845608894276096734983386906163942311234165539923296256.0000            5.02m\n",
            "        77 7935486330861459413268209935908863185564832687635547920920276400843855648137909550861590845608894276096734983386906163942311234165539923296256.0000            4.81m\n",
            "        78 7935486330861459413268209935908863185564832687635547920920276400843855648137909550861590845608894276096734983386906163942311234165539923296256.0000            4.60m\n",
            "        79 7935486330861459413268209935908863185564832687635547920920276400843855648137909550861590845608894276096734983386906163942311234165539923296256.0000            4.39m\n",
            "        80 7935486330861459413268209935908863185564832687635547920920276400843855648137909550861590845608894276096734983386906163942311234165539923296256.0000            4.18m\n",
            "        81 7935486330861459413268209935908863185564832687635547920920276400843855648137909550861590845608894276096734983386906163942311234165539923296256.0000            3.97m\n",
            "        82 7935486330861459413268209935908863185564832687635547920920276400843855648137909550861590845608894276096734983386906163942311234165539923296256.0000            3.76m\n",
            "        83 7935486330861459413268209935908863185564832687635547920920276400843855648137909550861590845608894276096734983386906163942311234165539923296256.0000            3.55m\n",
            "        84 7935486330861459413268209935908863185564832687635547920920276400843855648137909550861590845608894276096734983386906163942311234165539923296256.0000            3.34m\n",
            "        85 7935486330861459413268209935908863185564832687635547920920276400843855648137909550861590845608894276096734983386906163942311234165539923296256.0000            3.13m\n",
            "        86 7935486330861459413268209935908863185564832687635547920920276400843855648137909550861590845608894276096734983386906163942311234165539923296256.0000            2.93m\n",
            "        87 7935486330861459413268209935908863185564832687635547920920276400843855648137909550861590845608894276096734983386906163942311234165539923296256.0000            2.72m\n",
            "        88 7935486330861459413268209935908863185564832687635547920920276400843855648137909550861590845608894276096734983386906163942311234165539923296256.0000            2.51m\n",
            "        89 7935486330861459413268209935908863185564832687635547920920276400843855648137909550861590845608894276096734983386906163942311234165539923296256.0000            2.30m\n",
            "        90 7935486330861459413268209935908863185564832687635547920920276400843855648137909550861590845608894276096734983386906163942311234165539923296256.0000            2.09m\n",
            "        91 7935486330861459413268209935908863185564832687635547920920276400843855648137909550861590845608894276096734983386906163942311234165539923296256.0000            1.88m\n",
            "        92 7935486330861459413268209935908863185564832687635547920920276400843855648137909550861590845608894276096734983386906163942311234165539923296256.0000            1.67m\n",
            "        93 7935486330861459413268209935908863185564832687635547920920276400843855648137909550861590845608894276096734983386906163942311234165539923296256.0000            1.46m\n",
            "        94 7935486330861459413268209935908863185564832687635547920920276400843855648137909550861590845608894276096734983386906163942311234165539923296256.0000            1.25m\n",
            "        95 7935486330861459413268209935908863185564832687635547920920276400843855648137909550861590845608894276096734983386906163942311234165539923296256.0000            1.04m\n",
            "        96 7935486330861459413268209935908863185564832687635547920920276400843855648137909550861590845608894276096734983386906163942311234165539923296256.0000           50.09s\n",
            "        97 7935486330861459413268209935908863185564832687635547920920276400843855648137909550861590845608894276096734983386906163942311234165539923296256.0000           37.56s\n",
            "        98 7935486330861459413268209935908863185564832687635547920920276400843855648137909550861590845608894276096734983386906163942311234165539923296256.0000           25.04s\n",
            "        99 7935486330861459413268209935908863185564832687635547920920276400843855648137909550861590845608894276096734983386906163942311234165539923296256.0000           12.52s\n",
            "       100 7935486330861459413268209935908863185564832687635547920920276400843855648137909550861590845608894276096734983386906163942311234165539923296256.0000            0.00s\n"
          ]
        },
        {
          "output_type": "execute_result",
          "data": {
            "text/plain": [
              "GradientBoostingClassifier(random_state=0, verbose=3)"
            ]
          },
          "metadata": {},
          "execution_count": 33
        }
      ]
    },
    {
      "cell_type": "code",
      "source": [
        "predicted = grbt.predict(tfidfv_test) #테스트 데이터에 대한 예측\n",
        "print(\"정확도:\", accuracy_score(y_test, predicted)) #예측값과 실제값 비교"
      ],
      "metadata": {
        "colab": {
          "base_uri": "https://localhost:8080/"
        },
        "id": "t7zFMAZLuGvq",
        "outputId": "d1f1bc8f-a8fa-4f52-c1fd-c9f56ec988a6"
      },
      "execution_count": null,
      "outputs": [
        {
          "output_type": "stream",
          "name": "stdout",
          "text": [
            "정확도: 0.7702582368655387\n"
          ]
        }
      ]
    },
    {
      "cell_type": "markdown",
      "source": [
        "### 1.9 보팅(Voting)\n",
        "![image.png](data:image/png;base64,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)"
      ],
      "metadata": {
        "id": "Iq_THDr1z-WP"
      }
    },
    {
      "cell_type": "code",
      "source": [
        "voting_classifier = VotingClassifier(estimators=[\n",
        "         ('lr', LogisticRegression(C=10000, penalty='l2')),\n",
        "        ('cb', ComplementNB()),\n",
        "        ('grbt', GradientBoostingClassifier(random_state=0))\n",
        "], voting='soft', n_jobs=-1)\n",
        "voting_classifier.fit(tfidfv, y_train)"
      ],
      "metadata": {
        "colab": {
          "base_uri": "https://localhost:8080/"
        },
        "id": "6w1lRNQM0GoB",
        "outputId": "0a033927-327e-4778-a0eb-53fe903ef0ed"
      },
      "execution_count": null,
      "outputs": [
        {
          "output_type": "execute_result",
          "data": {
            "text/plain": [
              "VotingClassifier(estimators=[('lr', LogisticRegression(C=10000)),\n",
              "                             ('cb', ComplementNB()),\n",
              "                             ('grbt',\n",
              "                              GradientBoostingClassifier(random_state=0))],\n",
              "                 n_jobs=-1, voting='soft')"
            ]
          },
          "metadata": {},
          "execution_count": 35
        }
      ]
    },
    {
      "cell_type": "code",
      "source": [
        "predicted = voting_classifier.predict(tfidfv_test) #테스트 데이터에 대한 예측\n",
        "print(\"정확도:\", accuracy_score(y_test, predicted)) #예측값과 실제값 비교"
      ],
      "metadata": {
        "colab": {
          "base_uri": "https://localhost:8080/"
        },
        "id": "70bmcHLR0IrL",
        "outputId": "b8cd0db8-6e51-45b2-d597-d33f16c066be"
      },
      "execution_count": null,
      "outputs": [
        {
          "output_type": "stream",
          "name": "stdout",
          "text": [
            "정확도: 0.8187889581478184\n"
          ]
        }
      ]
    },
    {
      "cell_type": "markdown",
      "source": [
        "# 2. 빈도수 상위 5,000개의 단어만 사용"
      ],
      "metadata": {
        "id": "0sT7hsY54_8U"
      }
    },
    {
      "cell_type": "code",
      "source": [
        "(x2_train, y2_train), (x2_test, y2_test) = reuters.load_data(num_words=5000, test_split=0.2)"
      ],
      "metadata": {
        "id": "P1y_i_zM67fJ"
      },
      "execution_count": null,
      "outputs": []
    },
    {
      "cell_type": "code",
      "source": [
        "print('훈련 샘플의 수: {}'.format(len(x2_train)))\n",
        "print('테스트 샘플의 수: {}'.format(len(x2_test)))"
      ],
      "metadata": {
        "colab": {
          "base_uri": "https://localhost:8080/"
        },
        "id": "0eUp2lmX7Qxv",
        "outputId": "d38d9163-08df-4626-a3bf-7ee34b66edbc"
      },
      "execution_count": null,
      "outputs": [
        {
          "output_type": "stream",
          "name": "stdout",
          "text": [
            "훈련 샘플의 수: 8982\n",
            "테스트 샘플의 수: 2246\n"
          ]
        }
      ]
    },
    {
      "cell_type": "code",
      "source": [
        "# train2 텍스트 데이터로 변환하기\n",
        "decoded = []\n",
        "for i in range(len(x2_train)):\n",
        "    t = ' '.join([index_to_word[index] for index in x2_train[i]])\n",
        "    decoded.append(t)\n",
        "\n",
        "x2_train = decoded\n",
        "print(len(x2_train))"
      ],
      "metadata": {
        "colab": {
          "base_uri": "https://localhost:8080/"
        },
        "id": "5j_-dBTN7ZAP",
        "outputId": "0edaa8ba-accb-4c45-98ec-5dd31f4e971f"
      },
      "execution_count": null,
      "outputs": [
        {
          "output_type": "stream",
          "name": "stdout",
          "text": [
            "8982\n"
          ]
        }
      ]
    },
    {
      "cell_type": "code",
      "source": [
        "# test2 텍스트 데이터로 변환하기\n",
        "decoded = []\n",
        "for i in range(len(x2_test)):\n",
        "    t = ' '.join([index_to_word[index] for index in x2_test[i]])\n",
        "    decoded.append(t)\n",
        "\n",
        "x2_test = decoded\n",
        "print(len(x2_test))"
      ],
      "metadata": {
        "colab": {
          "base_uri": "https://localhost:8080/"
        },
        "id": "mzw3UiAN7qEg",
        "outputId": "45cde47c-adea-4002-f2ea-ded1f0856422"
      },
      "execution_count": null,
      "outputs": [
        {
          "output_type": "stream",
          "name": "stdout",
          "text": [
            "2246\n"
          ]
        }
      ]
    },
    {
      "cell_type": "markdown",
      "source": [
        "### 2.1 벡터화하기\n"
      ],
      "metadata": {
        "id": "_7OXXwfu91E7"
      }
    },
    {
      "cell_type": "code",
      "source": [
        "# DTM2 생성\n",
        "dtmvector2 = CountVectorizer()\n",
        "x2_train_dtm = dtmvector2.fit_transform(x2_train)\n",
        "print(\"DTM의 크기: \",x2_train_dtm.shape)\n",
        "\n",
        "# TF-IDF Matrix 2 생성\n",
        "tfidf_transformer2 = TfidfTransformer()\n",
        "tfidfv2 = tfidf_transformer2.fit_transform(x2_train_dtm)\n",
        "print(\"TF-IDF Matrix의 크기: \",tfidfv2.shape)"
      ],
      "metadata": {
        "colab": {
          "base_uri": "https://localhost:8080/"
        },
        "id": "JIXfI4sa_Vyy",
        "outputId": "0d10206c-9ad2-45e7-8235-72ac1e9d082a"
      },
      "execution_count": null,
      "outputs": [
        {
          "output_type": "stream",
          "name": "stdout",
          "text": [
            "DTM의 크기:  (8982, 4867)\n",
            "TF-IDF Matrix의 크기:  (8982, 4867)\n"
          ]
        }
      ]
    },
    {
      "cell_type": "markdown",
      "source": [
        "> 단어 총 4857개"
      ],
      "metadata": {
        "id": "IDaPEC45_pX7"
      }
    },
    {
      "cell_type": "markdown",
      "source": [
        "### 2.2 나이브 베이즈 분류기"
      ],
      "metadata": {
        "id": "IlVYUlDp_nID"
      }
    },
    {
      "cell_type": "code",
      "source": [
        "model2 = MultinomialNB()\n",
        "model2.fit(tfidfv2, y2_train)"
      ],
      "metadata": {
        "colab": {
          "base_uri": "https://localhost:8080/"
        },
        "id": "lP8rrzdb_40U",
        "outputId": "ea7d6af0-e84d-4189-ed18-5ac6aa06c5ae"
      },
      "execution_count": null,
      "outputs": [
        {
          "output_type": "execute_result",
          "data": {
            "text/plain": [
              "MultinomialNB()"
            ]
          },
          "metadata": {},
          "execution_count": 42
        }
      ]
    },
    {
      "cell_type": "code",
      "source": [
        "# test 데이터도 DTM -> tf-idf 행렬로 변환\n",
        "x2_test_dtm = dtmvector2.transform(x2_test)\n",
        "tfidfv2_test = tfidf_transformer2.transform(x2_test_dtm)\n",
        "\n",
        "predicted2 = model2.predict(tfidfv2_test)\n",
        "\n",
        "# 카테고리 라벨 분류한 정확도\n",
        "print(\"정확도:\", accuracy_score(y2_test, predicted2))"
      ],
      "metadata": {
        "colab": {
          "base_uri": "https://localhost:8080/"
        },
        "id": "XphbmPXW_-8H",
        "outputId": "29b9e6b1-0bb9-45cd-a3b1-d81f7d8aa778"
      },
      "execution_count": null,
      "outputs": [
        {
          "output_type": "stream",
          "name": "stdout",
          "text": [
            "정확도: 0.6731967943009796\n"
          ]
        }
      ]
    },
    {
      "cell_type": "code",
      "source": [
        "x2_test[3]"
      ],
      "metadata": {
        "colab": {
          "base_uri": "https://localhost:8080/",
          "height": 255
        },
        "id": "Np1OHTe-AijR",
        "outputId": "f73e7afb-c8b0-4c05-b043-43697a8cf817"
      },
      "execution_count": null,
      "outputs": [
        {
          "output_type": "execute_result",
          "data": {
            "text/plain": [
              "'<sos> <unk> <unk> oil and gas partnership said it completed the sale of interests in two major oil and gas fields to lt energy assets international corp for 21 mln dlrs the company said it sold about one half of its 50 pct interest in the <unk> hill and north <unk> fields its two largest producing properties it said it used about 20 mln dlrs of the proceeds to <unk> principal on its senior secured notes semi annual principal payments on the remaining 40 mln dlrs of notes have been satisfied until december 1988 as a result it said the company said the note agreements were amended to reflect an easing of some financial <unk> and an increase of interest to 13 5 pct from 13 0 pct until december 1990 it said the <unk> exercise price for 1 125 000 warrants was also reduced to 50 cts from 1 50 dlrs the company said energy assets agreed to share the costs of increasing production at the <unk> hill field reuter 3'"
            ],
            "application/vnd.google.colaboratory.intrinsic+json": {
              "type": "string"
            }
          },
          "metadata": {},
          "execution_count": 44
        }
      ]
    },
    {
      "cell_type": "code",
      "source": [
        "y2_test[3]"
      ],
      "metadata": {
        "colab": {
          "base_uri": "https://localhost:8080/"
        },
        "id": "XZWARTnRAmB1",
        "outputId": "27e69f71-d42d-425c-bd6c-be061f224634"
      },
      "execution_count": null,
      "outputs": [
        {
          "output_type": "execute_result",
          "data": {
            "text/plain": [
              "4"
            ]
          },
          "metadata": {},
          "execution_count": 45
        }
      ]
    },
    {
      "cell_type": "code",
      "source": [
        "probability_3_2 = model2.predict_proba(tfidfv2_test[3])[0]\n",
        "\n",
        "plt.rcParams[\"figure.figsize\"] = (11,5)\n",
        "plt.bar(model2.classes_, probability_3_2)\n",
        "plt.xlim(-1, 21)\n",
        "plt.xticks(model2.classes_)\n",
        "plt.xlabel(\"Class\")\n",
        "plt.ylabel(\"Probability\")\n",
        "plt.show()"
      ],
      "metadata": {
        "colab": {
          "base_uri": "https://localhost:8080/",
          "height": 318
        },
        "id": "IXFOCoIDAoAy",
        "outputId": "4d7bb43b-681b-4a03-bfae-832a671b9812"
      },
      "execution_count": null,
      "outputs": [
        {
          "output_type": "display_data",
          "data": {
            "text/plain": [
              "<Figure size 792x360 with 1 Axes>"
            ],
            "image/png": "[encoded data removed]"
          },
          "metadata": {
            "needs_background": "light"
          }
        }
      ]
    },
    {
      "cell_type": "markdown",
      "source": [
        "- 거의 90프로의 확률로 인덱스 3번 뉴스기사가 4번 클래스라고 맞게 예측했다."
      ],
      "metadata": {
        "id": "zgFU5wbnA_wb"
      }
    },
    {
      "cell_type": "code",
      "source": [
        "from sklearn.metrics import classification_report\n",
        "from sklearn.metrics import confusion_matrix\n",
        "\n",
        "print(classification_report(y2_test, model2.predict(tfidfv2_test), zero_division=0))"
      ],
      "metadata": {
        "colab": {
          "base_uri": "https://localhost:8080/"
        },
        "id": "TpzXHHn_AyN1",
        "outputId": "f6e6f5bb-b852-4de2-95a6-a5099768d5dc"
      },
      "execution_count": null,
      "outputs": [
        {
          "output_type": "stream",
          "name": "stdout",
          "text": [
            "              precision    recall  f1-score   support\n",
            "\n",
            "           0       0.00      0.00      0.00        12\n",
            "           1       0.50      0.80      0.62       105\n",
            "           2       0.00      0.00      0.00        20\n",
            "           3       0.86      0.89      0.87       813\n",
            "           4       0.59      0.95      0.73       474\n",
            "           5       0.00      0.00      0.00         5\n",
            "           6       0.00      0.00      0.00        14\n",
            "           7       0.00      0.00      0.00         3\n",
            "           8       0.00      0.00      0.00        38\n",
            "           9       1.00      0.28      0.44        25\n",
            "          10       0.00      0.00      0.00        30\n",
            "          11       0.48      0.73      0.58        83\n",
            "          12       0.00      0.00      0.00        13\n",
            "          13       1.00      0.14      0.24        37\n",
            "          14       0.00      0.00      0.00         2\n",
            "          15       0.00      0.00      0.00         9\n",
            "          16       0.60      0.66      0.62        99\n",
            "          17       0.00      0.00      0.00        12\n",
            "          18       0.00      0.00      0.00        20\n",
            "          19       0.51      0.81      0.63       133\n",
            "          20       0.90      0.13      0.23        70\n",
            "          21       0.00      0.00      0.00        27\n",
            "          22       0.00      0.00      0.00         7\n",
            "          23       0.00      0.00      0.00        12\n",
            "          24       0.00      0.00      0.00        19\n",
            "          25       1.00      0.06      0.12        31\n",
            "          26       0.00      0.00      0.00         8\n",
            "          27       0.00      0.00      0.00         4\n",
            "          28       0.00      0.00      0.00        10\n",
            "          29       0.00      0.00      0.00         4\n",
            "          30       0.00      0.00      0.00        12\n",
            "          31       0.00      0.00      0.00        13\n",
            "          32       0.00      0.00      0.00        10\n",
            "          33       0.00      0.00      0.00         5\n",
            "          34       0.00      0.00      0.00         7\n",
            "          35       0.00      0.00      0.00         6\n",
            "          36       0.00      0.00      0.00        11\n",
            "          37       0.00      0.00      0.00         2\n",
            "          38       0.00      0.00      0.00         3\n",
            "          39       0.00      0.00      0.00         5\n",
            "          40       0.00      0.00      0.00        10\n",
            "          41       0.00      0.00      0.00         8\n",
            "          42       0.00      0.00      0.00         3\n",
            "          43       0.00      0.00      0.00         6\n",
            "          44       0.00      0.00      0.00         5\n",
            "          45       0.00      0.00      0.00         1\n",
            "\n",
            "    accuracy                           0.67      2246\n",
            "   macro avg       0.16      0.12      0.11      2246\n",
            "weighted avg       0.60      0.67      0.60      2246\n",
            "\n"
          ]
        }
      ]
    },
    {
      "cell_type": "code",
      "source": [
        "graph_confusion_matrix(model2, tfidfv2_test, y2_test)"
      ],
      "metadata": {
        "colab": {
          "base_uri": "https://localhost:8080/",
          "height": 681
        },
        "id": "mjEDEn2WB3f9",
        "outputId": "326d621d-9e6d-4a36-9d7d-73697b8c181d"
      },
      "execution_count": null,
      "outputs": [
        {
          "output_type": "display_data",
          "data": {
            "text/plain": [
              "<Figure size 864x864 with 2 Axes>"
            ],
            "image/png": "[encoded data removed]"
          },
          "metadata": {
            "needs_background": "light"
          }
        }
      ]
    },
    {
      "cell_type": "markdown",
      "source": [
        "### 2.3 Complement Naive Bayes Classifier(CNB)\n"
      ],
      "metadata": {
        "id": "3w5ubM73CUqe"
      }
    },
    {
      "cell_type": "code",
      "source": [
        "cb2 = ComplementNB()\n",
        "cb2.fit(tfidfv2, y2_train)"
      ],
      "metadata": {
        "colab": {
          "base_uri": "https://localhost:8080/"
        },
        "id": "pbpIizLbB92-",
        "outputId": "ace5cce8-b183-45d5-e638-a3ef2bbef89b"
      },
      "execution_count": null,
      "outputs": [
        {
          "output_type": "execute_result",
          "data": {
            "text/plain": [
              "ComplementNB()"
            ]
          },
          "metadata": {},
          "execution_count": 49
        }
      ]
    },
    {
      "cell_type": "code",
      "source": [
        "predicted2 = cb2.predict(tfidfv2_test) #테스트 데이터에 대한 예측\n",
        "print(\"정확도:\", accuracy_score(y2_test, predicted2)) #예측값과 실제값 비교"
      ],
      "metadata": {
        "colab": {
          "base_uri": "https://localhost:8080/"
        },
        "id": "bGTLjcGZCj0I",
        "outputId": "b2f10eec-35fb-4553-e667-76fb94f14a29"
      },
      "execution_count": null,
      "outputs": [
        {
          "output_type": "stream",
          "name": "stdout",
          "text": [
            "정확도: 0.7707034728406055\n"
          ]
        }
      ]
    },
    {
      "cell_type": "markdown",
      "source": [
        "-> 나이브 베이즈 분류기보다 약 10프로나 더 높은 성능을 냄"
      ],
      "metadata": {
        "id": "r2gfHWrqCsrL"
      }
    },
    {
      "cell_type": "markdown",
      "source": [
        "### 2.4 로지스틱 회귀(Logistic Regression)"
      ],
      "metadata": {
        "id": "xraTPxuECv_A"
      }
    },
    {
      "cell_type": "code",
      "source": [
        "lr2 = LogisticRegression(C=10000, penalty='l2')\n",
        "lr2.fit(tfidfv2, y2_train)"
      ],
      "metadata": {
        "colab": {
          "base_uri": "https://localhost:8080/"
        },
        "id": "sf05Ug45CvYJ",
        "outputId": "aa7da61a-bdb1-4230-c49a-7965402a3c89"
      },
      "execution_count": null,
      "outputs": [
        {
          "output_type": "stream",
          "name": "stderr",
          "text": [
            "/usr/local/lib/python3.7/dist-packages/sklearn/linear_model/_logistic.py:818: ConvergenceWarning: lbfgs failed to converge (status=1):\n",
            "STOP: TOTAL NO. of ITERATIONS REACHED LIMIT.\n",
            "\n",
            "Increase the number of iterations (max_iter) or scale the data as shown in:\n",
            "    https://scikit-learn.org/stable/modules/preprocessing.html\n",
            "Please also refer to the documentation for alternative solver options:\n",
            "    https://scikit-learn.org/stable/modules/linear_model.html#logistic-regression\n",
            "  extra_warning_msg=_LOGISTIC_SOLVER_CONVERGENCE_MSG,\n"
          ]
        },
        {
          "output_type": "execute_result",
          "data": {
            "text/plain": [
              "LogisticRegression(C=10000)"
            ]
          },
          "metadata": {},
          "execution_count": 51
        }
      ]
    },
    {
      "cell_type": "code",
      "source": [
        "predicted2 = lr2.predict(tfidfv2_test) #테스트 데이터에 대한 예측\n",
        "print(\"정확도:\", accuracy_score(y2_test, predicted2)) #예측값과 실제값 비교"
      ],
      "metadata": {
        "colab": {
          "base_uri": "https://localhost:8080/"
        },
        "id": "EksXdZOgCoT-",
        "outputId": "f0be4646-2544-4154-abfd-101b91b833bd"
      },
      "execution_count": null,
      "outputs": [
        {
          "output_type": "stream",
          "name": "stdout",
          "text": [
            "정확도: 0.8058771148708815\n"
          ]
        }
      ]
    },
    {
      "cell_type": "markdown",
      "source": [
        "### 2.5 선형 서포트 벡터 머신(Linear Support Vector Machine)"
      ],
      "metadata": {
        "id": "zy08zf86DSgF"
      }
    },
    {
      "cell_type": "code",
      "source": [
        "lsvc2 = LinearSVC(C=1000, penalty='l1', max_iter=500, dual=False)\n",
        "lsvc2.fit(tfidfv2, y2_train)"
      ],
      "metadata": {
        "colab": {
          "base_uri": "https://localhost:8080/"
        },
        "id": "fuoMNmTGDO1T",
        "outputId": "edbfae85-aefd-4305-8a7f-aa22ae33d5b4"
      },
      "execution_count": null,
      "outputs": [
        {
          "output_type": "stream",
          "name": "stderr",
          "text": [
            "/usr/local/lib/python3.7/dist-packages/sklearn/svm/_base.py:1208: ConvergenceWarning: Liblinear failed to converge, increase the number of iterations.\n",
            "  ConvergenceWarning,\n"
          ]
        },
        {
          "output_type": "execute_result",
          "data": {
            "text/plain": [
              "LinearSVC(C=1000, dual=False, max_iter=500, penalty='l1')"
            ]
          },
          "metadata": {},
          "execution_count": 53
        }
      ]
    },
    {
      "cell_type": "code",
      "source": [
        "predicted2 = lsvc2.predict(tfidfv2_test) #테스트 데이터에 대한 예측\n",
        "print(\"정확도:\", accuracy_score(y2_test, predicted2)) #예측값과 실제값 비교"
      ],
      "metadata": {
        "colab": {
          "base_uri": "https://localhost:8080/"
        },
        "id": "MCYSED1KDWao",
        "outputId": "6a7b9f7f-80f0-453f-eb49-4f7f999cee78"
      },
      "execution_count": null,
      "outputs": [
        {
          "output_type": "stream",
          "name": "stdout",
          "text": [
            "정확도: 0.7680320569902048\n"
          ]
        }
      ]
    },
    {
      "cell_type": "markdown",
      "source": [
        "### 2.6 결정 트리(Decision Tree)"
      ],
      "metadata": {
        "id": "2A9Vv0EDDjlP"
      }
    },
    {
      "cell_type": "code",
      "source": [
        "tree2 = DecisionTreeClassifier(max_depth=10, random_state=0)\n",
        "tree2.fit(tfidfv2, y2_train)"
      ],
      "metadata": {
        "colab": {
          "base_uri": "https://localhost:8080/"
        },
        "id": "kBNSfXqFDiUl",
        "outputId": "80b4f332-b8c6-4109-d754-8cf8331c7908"
      },
      "execution_count": null,
      "outputs": [
        {
          "output_type": "execute_result",
          "data": {
            "text/plain": [
              "DecisionTreeClassifier(max_depth=10, random_state=0)"
            ]
          },
          "metadata": {},
          "execution_count": 55
        }
      ]
    },
    {
      "cell_type": "code",
      "source": [
        "predicted2 = tree2.predict(tfidfv2_test) #테스트 데이터에 대한 예측\n",
        "print(\"정확도:\", accuracy_score(y2_test, predicted2)) #예측값과 실제값 비교"
      ],
      "metadata": {
        "colab": {
          "base_uri": "https://localhost:8080/"
        },
        "id": "8h9Zbn17DoIz",
        "outputId": "8e6fa038-d9d9-4107-b73d-e09bc8a1140d"
      },
      "execution_count": null,
      "outputs": [
        {
          "output_type": "stream",
          "name": "stdout",
          "text": [
            "정확도: 0.6179875333926982\n"
          ]
        }
      ]
    },
    {
      "cell_type": "markdown",
      "source": [
        "### 2.7 랜덤 포레스트(Random Forest)"
      ],
      "metadata": {
        "id": "v2pikYZrDrxR"
      }
    },
    {
      "cell_type": "code",
      "source": [
        "forest2 = RandomForestClassifier(n_estimators=5, random_state=0)\n",
        "forest2.fit(tfidfv2, y2_train)"
      ],
      "metadata": {
        "colab": {
          "base_uri": "https://localhost:8080/"
        },
        "id": "3jzzG-BBDuvY",
        "outputId": "5a3c5b51-db8e-4ae0-c452-cef6f3e035eb"
      },
      "execution_count": null,
      "outputs": [
        {
          "output_type": "execute_result",
          "data": {
            "text/plain": [
              "RandomForestClassifier(n_estimators=5, random_state=0)"
            ]
          },
          "metadata": {},
          "execution_count": 57
        }
      ]
    },
    {
      "cell_type": "code",
      "source": [
        "predicted2 = forest2.predict(tfidfv2_test) #테스트 데이터에 대한 예측\n",
        "print(\"정확도:\", accuracy_score(y2_test, predicted2)) #예측값과 실제값 비교"
      ],
      "metadata": {
        "colab": {
          "base_uri": "https://localhost:8080/"
        },
        "id": "BBO1LtAaDyER",
        "outputId": "0efa268f-400e-49f4-f2ea-295fd95e4931"
      },
      "execution_count": null,
      "outputs": [
        {
          "output_type": "stream",
          "name": "stdout",
          "text": [
            "정확도: 0.701246660730187\n"
          ]
        }
      ]
    },
    {
      "cell_type": "markdown",
      "source": [
        "### 2.8 그래디언트 부스팅 트리(GradientBoostingClassifier)"
      ],
      "metadata": {
        "id": "k7ZQmpVeE3mn"
      }
    },
    {
      "cell_type": "code",
      "source": [
        "grbt2 = GradientBoostingClassifier(random_state=0,verbose=3) \n",
        "grbt2.fit(tfidfv2, y2_train)"
      ],
      "metadata": {
        "colab": {
          "base_uri": "https://localhost:8080/"
        },
        "id": "8ElQx0C4E8wN",
        "outputId": "3b7fa68f-5840-416e-e806-1388000dbbde"
      },
      "execution_count": null,
      "outputs": [
        {
          "output_type": "stream",
          "name": "stdout",
          "text": [
            "      Iter       Train Loss   Remaining Time \n",
            "         1           1.4697           20.65m\n",
            "         2     2131099.0239           18.92m\n",
            "         3 113352934366748750033493137947714414201794552363528671409179356940992512.0000           18.23m\n",
            "         4 645005367195105573487290209089081189090170195029150070319832395667206596719018218881024.0000           17.82m\n",
            "         5 443067299530301659980374363525949995629695549691559890285869350923592723545213280554158712204202745088665306932510573934053386280801140736.0000           17.49m\n",
            "         6 443067299530301659980374363525949995629695549691559890285869350923592723545213280554158712204202745088665306932510573934053386280801140736.0000           17.21m\n",
            "         7 443067299530301659980374363525949995629695549691559890285869350923592723545213280554158712204202745088665306932510573934053386280801140736.0000           16.94m\n",
            "         8 443067299530301659980374363525949995629695549691559890285869350923592723545213280554158712204202745088665306932510573934053386280801140736.0000           16.70m\n",
            "         9 443067299530301659980374363525949995629695549691559890285869350923592723545213280554158712204202745088665306932510573934053386280801140736.0000           16.49m\n",
            "        10 443067299530301659980374363525949995629695549691559890285869350923592723545213280554158712204202745088665306932510573934053386280801140736.0000           16.27m\n",
            "        11 443067299530301659980374363525949995629695549691559890285869350923592723545213280554158712204202745088665306932510573934053386280801140736.0000           16.06m\n",
            "        12 443067299530301659980374363525949995629695549691559890285869350923592723545213280554158712204202745088665306932510573934053386280801140736.0000           15.87m\n",
            "        13 443067299530301659980374363525949995629695549691559890285869350923592723545213280554158712204202745088665306932510573934053386280801140736.0000           15.66m\n",
            "        14 443067299530301659980374363525949995629695549691559890285869350923592723545213280554158712204202745088665306932510573934053386280801140736.0000           15.47m\n",
            "        15 443067299530301659980374363525949995629695549691559890285869350923592723545213280554158712204202745088665306932510573934053386280801140736.0000           15.27m\n",
            "        16 443067299530301659980374363525949995629695549691559890285869350923592723545213280554158712204202745088665306932510573934053386280801140736.0000           15.08m\n",
            "        17 443067299530301659980374363525949995629695549691559890285869350923592723545213280554158712204202745088665306932510573934053386280801140736.0000           14.89m\n",
            "        18 443067299530301659980374363525949995629695549691559890285869350923592723545213280554158712204202745088665306932510573934053386280801140736.0000           14.70m\n",
            "        19 443067299530301659980374363525949995629695549691559890285869350923592723545213280554158712204202745088665306932510573934053386280801140736.0000           14.52m\n",
            "        20 443067299530301659980374363525949995629695549691559890285869350923592723545213280554158712204202745088665306932510573934053386280801140736.0000           14.33m\n",
            "        21 443067299530301659980374363525949995629695549691559890285869350923592723545213280554158712204202745088665306932510573934053386280801140736.0000           14.14m\n",
            "        22 443067299530301659980374363525949995629695549691559890285869350923592723545213280554158712204202745088665306932510573934053386280801140736.0000           13.96m\n",
            "        23 443067299530301659980374363525949995629695549691559890285869350923592723545213280554158712204202745088665306932510573934053386280801140736.0000           13.78m\n",
            "        24 443067299530301659980374363525949995629695549691559890285869350923592723545213280554158712204202745088665306932510573934053386280801140736.0000           13.59m\n",
            "        25 443067299530301659980374363525949995629695549691559890285869350923592723545213280554158712204202745088665306932510573934053386280801140736.0000           13.41m\n",
            "        26 443067299530301659980374363525949995629695549691559890285869350923592723545213280554158712204202745088665306932510573934053386280801140736.0000           13.23m\n",
            "        27 443067299530302073140354857431324340576763070173459783038796203599354776450710327057778234898793885831921831754563603678560901920400080896.0000           13.04m\n",
            "        28 443067299530302073140354857431324340576763070173459783038796203599354776450710327057778234898793885831921831754563603678560901920400080896.0000           12.86m\n",
            "        29 443067299530302073140354857431324340576763070173459783038796203599354776450710327057778234898793885831921831754563603678560901920400080896.0000           12.68m\n",
            "        30 443067299530302073140354857431324340576763070173459783038796203599354776450710327057778234898793885831921831754563603678560901920400080896.0000           12.50m\n",
            "        31 443067299530302073140354857431324340576763070173459783038796203599354776450710327057778234898793885831921831754563603678560901920400080896.0000           12.32m\n",
            "        32 443067299530302073140354857431324340576763070173459783038796203599354776450710327057778234898793885831921831754563603678560901920400080896.0000           12.14m\n",
            "        33 443067299530302073140354857431324340576763070173459783038796203599354776450710327057778234898793885831921831754563603678560901920400080896.0000           11.95m\n",
            "        34 443067299530302073140354857431324340576763070173459783038796203599354776450710327057778234898793885831921831754563603678560901920400080896.0000           11.77m\n",
            "        35 443067299530302073140354857431324340576763070173459783038796203599354776450710327057778234898793885831921831754563603678560901920400080896.0000           11.59m\n",
            "        36 443067299530302073140354857431324340576763070173459783038796203599354776450710327057778234898793885831921831754563603678560901920400080896.0000           11.41m\n",
            "        37 443067299530302073140354857431324340576763070173459783038796203599354776450710327057778234898793885831921831754563603678560901920400080896.0000           11.23m\n",
            "        38 443067299530302073140354857431324340576763070173459783038796203599354776450710327057778234898793885831921831754563603678560901920400080896.0000           11.05m\n",
            "        39 443067299530302073140354857431324340576763070173459783038796203599354776450710327057778234898793885831921831754563603678560901920400080896.0000           10.87m\n",
            "        40 443067299530302073140354857431324340576763070173459783038796203599354776450710327057778234898793885831921831754563603678560901920400080896.0000           10.69m\n",
            "        41 443067299530302073140354857431324340576763070173459783038796203599354776450710327057778234898793885831921831754563603678560901920400080896.0000           10.51m\n",
            "        42 443067299530302073140354857431324340576763070173459783038796203599354776450710327057778234898793885831921831754563603678560901920400080896.0000           10.33m\n",
            "        43 443067299530302073140354857431324340576763070173459783038796203599354776450710327057778234898793885831921831754563603678560901920400080896.0000           10.15m\n",
            "        44 443067299530302073140354857431324340576763070173459783038796203599354776450710327057778234898793885831921831754563603678560901920400080896.0000            9.97m\n",
            "        45 443067299530302073140354857431324340576763070173459783038796203599354776450710327057778234898793885831921831754563603678560901920400080896.0000            9.79m\n",
            "        46 443067299530302073140354857431324340576763070173459783038796203599354776450710327057778234898793885831921831754563603678560901920400080896.0000            9.61m\n",
            "        47 443067299530302073140354857431324340576763070173459783038796203599354776450710327057778234898793885831921831754563603678560901920400080896.0000            9.43m\n",
            "        48 443067299530302073140354857431324340576763070173459783038796203599354776450710327057778234898793885831921831754563603678560901920400080896.0000            9.26m\n",
            "        49 443067299530302073140354857431324340576763070173459783038796203599354776450710327057778234898793885831921831754563603678560901920400080896.0000            9.08m\n",
            "        50 443067299530302073140354857431324340576763070173459783038796203599354776450710327057778234898793885831921831754563603678560901920400080896.0000            8.90m\n",
            "        51 443067299530302073140354857431324340576763070173459783038796203599354776450710327057778234898793885831921831754563603678560901920400080896.0000            8.72m\n",
            "        52 443067299530302073140354857431324340576763070173459783038796203599354776450710327057778234898793885831921831754563603678560901920400080896.0000            8.54m\n",
            "        53 443067299530302073140354857431324340576763070173459783038796203599354776450710327057778234898793885831921831754563603678560901920400080896.0000            8.36m\n",
            "        54 443067299530302073140354857431324340576763070173459783038796203599354776450710327057778234898793885831921831754563603678560901920400080896.0000            8.18m\n",
            "        55 443067299530302073140354857431324340576763070173459783038796203599354776450710327057778234898793885831921831754563603678560901920400080896.0000            8.00m\n",
            "        56 443067299530302073140354857431324340576763070173459783038796203599354776450710327057778234898793885831921831754563603678560901920400080896.0000            7.83m\n",
            "        57 443067299530302073140354857431324340576763070173459783038796203599354776450710327057778234898793885831921831754563603678560901920400080896.0000            7.65m\n",
            "        58 443067299530302073140354857431324340576763070173459783038796203599354776450710327057778234898793885831921831754563603678560901920400080896.0000            7.47m\n",
            "        59 443067299530302073140354857431324340576763070173459783038796203599354776450710327057778234898793885831921831754563603678560901920400080896.0000            7.29m\n",
            "        60 443067299530302073140354857431324340576763070173459783038796203599354776450710327057778234898793885831921831754563603678560901920400080896.0000            7.11m\n",
            "        61 443067299530302073140354857431324340576763070173459783038796203599354776450710327057778234898793885831921831754563603678560901920400080896.0000            6.94m\n",
            "        62 443067299530302073140354857431324340576763070173459783038796203599354776450710327057778234898793885831921831754563603678560901920400080896.0000            6.76m\n",
            "        63 443067299530302073140354857431324340576763070173459783038796203599354776450710327057778234898793885831921831754563603678560901920400080896.0000            6.58m\n",
            "        64 443067299530302073140354857431324340576763070173459783038796203599354776450710327057778234898793885831921831754563603678560901920400080896.0000            6.40m\n",
            "        65 443067299530302073140354857431324340576763070173459783038796203599354776450710327057778234898793885831921831754563603678560901920400080896.0000            6.22m\n",
            "        66 443067299530302073140354857431324340576763070173459783038796203599354776450710327057778234898793885831921831754563603678560901920400080896.0000            6.05m\n",
            "        67 443067299530302073140354857431324340576763070173459783038796203599354776450710327057778234898793885831921831754563603678560901920400080896.0000            5.87m\n",
            "        68 443067299530302073140354857431324340576763070173459783038796203599354776450710327057778234898793885831921831754563603678560901920400080896.0000            5.69m\n",
            "        69 443067299530302073140354857431324340576763070173459783038796203599354776450710327057778234898793885831921831754563603678560901920400080896.0000            5.51m\n",
            "        70 443067299530302073140354857431324340576763070173459783038796203599354776450710327057778234898793885831921831754563603678560901920400080896.0000            5.33m\n",
            "        71 443067299530302073140354857431324340576763070173459783038796203599354776450710327057778234898793885831921831754563603678560901920400080896.0000            5.16m\n",
            "        72 443067299530302073140354857431324340576763070173459783038796203599354776450710327057778234898793885831921831754563603678560901920400080896.0000            4.98m\n",
            "        73 443067299530302073140354857431324340576763070173459783038796203599354776450710327057778234898793885831921831754563603678560901920400080896.0000            4.80m\n",
            "        74 443067299530302073140354857431324340576763070173459783038796203599354776450710327057778234898793885831921831754563603678560901920400080896.0000            4.62m\n",
            "        75 443067299530302073140354857431324340576763070173459783038796203599354776450710327057778234898793885831921831754563603678560901920400080896.0000            4.45m\n",
            "        76 443067299530302073140354857431324340576763070173459783038796203599354776450710327057778234898793885831921831754563603678560901920400080896.0000            4.27m\n",
            "        77 443067299530302073140354857431324340576763070173459783038796203599354776450710327057778234898793885831921831754563603678560901920400080896.0000            4.09m\n",
            "        78 443067299530302073140354857431324340576763070173459783038796203599354776450710327057778234898793885831921831754563603678560901920400080896.0000            3.91m\n",
            "        79 443067299530302073140354857431324340576763070173459783038796203599354776450710327057778234898793885831921831754563603678560901920400080896.0000            3.73m\n",
            "        80 443067299530302073140354857431324340576763070173459783038796203599354776450710327057778234898793885831921831754563603678560901920400080896.0000            3.55m\n",
            "        81 443067299530302073140354857431324340576763070173459783038796203599354776450710327057778234898793885831921831754563603678560901920400080896.0000            3.38m\n",
            "        82 443067299530302073140354857431324340576763070173459783038796203599354776450710327057778234898793885831921831754563603678560901920400080896.0000            3.20m\n",
            "        83 443067299530302073140354857431324340576763070173459783038796203599354776450710327057778234898793885831921831754563603678560901920400080896.0000            3.02m\n",
            "        84 443067299530302073140354857431324340576763070173459783038796203599354776450710327057778234898793885831921831754563603678560901920400080896.0000            2.84m\n",
            "        85 443067299530302073140354857431324340576763070173459783038796203599354776450710327057778234898793885831921831754563603678560901920400080896.0000            2.67m\n",
            "        86 443067299530302073140354857431324340576763070173459783038796203599354776450710327057778234898793885831921831754563603678560901920400080896.0000            2.49m\n",
            "        87 443067299530302073140354857431324340576763070173459783038796203599354776450710327057778234898793885831921831754563603678560901920400080896.0000            2.31m\n",
            "        88 443067299530302073140354857431324340576763070173459783038796203599354776450710327057778234898793885831921831754563603678560901920400080896.0000            2.13m\n",
            "        89 443067299530302073140354857431324340576763070173459783038796203599354776450710327057778234898793885831921831754563603678560901920400080896.0000            1.95m\n",
            "        90 443067299530302073140354857431324340576763070173459783038796203599354776450710327057778234898793885831921831754563603678560901920400080896.0000            1.78m\n",
            "        91 443067299530302073140354857431324340576763070173459783038796203599354776450710327057778234898793885831921831754563603678560901920400080896.0000            1.60m\n",
            "        92 443067299530302073140354857431324340576763070173459783038796203599354776450710327057778234898793885831921831754563603678560901920400080896.0000            1.42m\n",
            "        93 443067299530302073140354857431324340576763070173459783038796203599354776450710327057778234898793885831921831754563603678560901920400080896.0000            1.24m\n",
            "        94 443067299530302073140354857431324340576763070173459783038796203599354776450710327057778234898793885831921831754563603678560901920400080896.0000            1.07m\n",
            "        95 443067299530302073140354857431324340576763070173459783038796203599354776450710327057778234898793885831921831754563603678560901920400080896.0000           53.30s\n",
            "        96 443067299530302073140354857431324340576763070173459783038796203599354776450710327057778234898793885831921831754563603678560901920400080896.0000           42.64s\n",
            "        97 443067299530302073140354857431324340576763070173459783038796203599354776450710327057778234898793885831921831754563603678560901920400080896.0000           31.97s\n",
            "        98 443067299530302073140354857431324340576763070173459783038796203599354776450710327057778234898793885831921831754563603678560901920400080896.0000           21.31s\n",
            "        99 443067299530302073140354857431324340576763070173459783038796203599354776450710327057778234898793885831921831754563603678560901920400080896.0000           10.66s\n",
            "       100 443067299530302073140354857431324340576763070173459783038796203599354776450710327057778234898793885831921831754563603678560901920400080896.0000            0.00s\n"
          ]
        },
        {
          "output_type": "execute_result",
          "data": {
            "text/plain": [
              "GradientBoostingClassifier(random_state=0, verbose=3)"
            ]
          },
          "metadata": {},
          "execution_count": 59
        }
      ]
    },
    {
      "cell_type": "code",
      "source": [
        "predicted2 = grbt2.predict(tfidfv2_test) #테스트 데이터에 대한 예측\n",
        "print(\"정확도:\", accuracy_score(y2_test, predicted2)) #예측값과 실제값 비교"
      ],
      "metadata": {
        "colab": {
          "base_uri": "https://localhost:8080/"
        },
        "id": "LBCoG2-6FABi",
        "outputId": "60596a9b-18cb-472a-f3a9-ced1d7b7820a"
      },
      "execution_count": null,
      "outputs": [
        {
          "output_type": "stream",
          "name": "stdout",
          "text": [
            "정확도: 0.767586821015138\n"
          ]
        }
      ]
    },
    {
      "cell_type": "markdown",
      "source": [
        "### 2.9 보팅(Voting)"
      ],
      "metadata": {
        "id": "3zHSzCbUMaPR"
      }
    },
    {
      "cell_type": "code",
      "source": [
        "voting_classifier2 = VotingClassifier(estimators=[\n",
        "         ('lr', LogisticRegression(C=10000, penalty='l2')),\n",
        "        ('cb', ComplementNB()),\n",
        "        ('grbt', GradientBoostingClassifier(random_state=0))\n",
        "], voting='soft', n_jobs=-1)\n",
        "voting_classifier2.fit(tfidfv2, y2_train)"
      ],
      "metadata": {
        "colab": {
          "base_uri": "https://localhost:8080/"
        },
        "id": "6U36fAILMn6E",
        "outputId": "45f39c81-b5da-426c-bcb5-46183d21340b"
      },
      "execution_count": null,
      "outputs": [
        {
          "output_type": "execute_result",
          "data": {
            "text/plain": [
              "VotingClassifier(estimators=[('lr', LogisticRegression(C=10000)),\n",
              "                             ('cb', ComplementNB()),\n",
              "                             ('grbt',\n",
              "                              GradientBoostingClassifier(random_state=0))],\n",
              "                 n_jobs=-1, voting='soft')"
            ]
          },
          "metadata": {},
          "execution_count": 62
        }
      ]
    },
    {
      "cell_type": "code",
      "source": [
        "predicted2 = voting_classifier2.predict(tfidfv2_test) #테스트 데이터에 대한 예측\n",
        "print(\"정확도:\", accuracy_score(y2_test, predicted2)) #예측값"
      ],
      "metadata": {
        "colab": {
          "base_uri": "https://localhost:8080/"
        },
        "id": "kB3M5axaM0lJ",
        "outputId": "5879226d-7d89-4045-ed75-21d0345426ee"
      },
      "execution_count": null,
      "outputs": [
        {
          "output_type": "stream",
          "name": "stdout",
          "text": [
            "정확도: 0.8161175422974176\n"
          ]
        }
      ]
    },
    {
      "cell_type": "markdown",
      "source": [
        "# 3. 직접 단어 개수를 설정해서 사용\n",
        "- num_words = 8000\n"
      ],
      "metadata": {
        "id": "LW_4kAnCbFPi"
      }
    },
    {
      "cell_type": "code",
      "source": [
        "(x3_train, y3_train), (x3_test, y3_test) = reuters.load_data(num_words=8000, test_split=0.2)\n",
        "\n",
        "print('훈련 샘플의 수: {}'.format(len(x3_train)))\n",
        "print('테스트 샘플의 수: {}'.format(len(x3_test)))"
      ],
      "metadata": {
        "colab": {
          "base_uri": "https://localhost:8080/"
        },
        "id": "FPh-01FC8z10",
        "outputId": "68a7cc87-94f8-497f-d3cb-172851dbd9a0"
      },
      "execution_count": null,
      "outputs": [
        {
          "output_type": "stream",
          "name": "stdout",
          "text": [
            "훈련 샘플의 수: 8982\n",
            "테스트 샘플의 수: 2246\n"
          ]
        }
      ]
    },
    {
      "cell_type": "code",
      "source": [
        "# train 3 텍스트 데이터로 변환하기\n",
        "decoded = []\n",
        "for i in range(len(x3_train)):\n",
        "    t = ' '.join([index_to_word[index] for index in x3_train[i]])\n",
        "    decoded.append(t)\n",
        "\n",
        "x3_train = decoded\n",
        "print(len(x3_train))"
      ],
      "metadata": {
        "colab": {
          "base_uri": "https://localhost:8080/"
        },
        "id": "8pbinmXx88yx",
        "outputId": "e6c57577-1c63-49c6-8f87-b78bba56cc68"
      },
      "execution_count": null,
      "outputs": [
        {
          "output_type": "stream",
          "name": "stdout",
          "text": [
            "8982\n"
          ]
        }
      ]
    },
    {
      "cell_type": "code",
      "source": [
        "# test3 텍스트 데이터로 변환하기\n",
        "decoded = []\n",
        "for i in range(len(x3_test)):\n",
        "    t = ' '.join([index_to_word[index] for index in x3_test[i]])\n",
        "    decoded.append(t)\n",
        "\n",
        "x3_test = decoded\n",
        "print(len(x3_test))"
      ],
      "metadata": {
        "colab": {
          "base_uri": "https://localhost:8080/"
        },
        "id": "bazP96OB9EjW",
        "outputId": "09de7d14-0e24-459a-d660-d5e396908964"
      },
      "execution_count": null,
      "outputs": [
        {
          "output_type": "stream",
          "name": "stdout",
          "text": [
            "2246\n"
          ]
        }
      ]
    },
    {
      "cell_type": "markdown",
      "source": [
        "### 3.1 벡터화하기"
      ],
      "metadata": {
        "id": "K0i0N7_q9MVl"
      }
    },
    {
      "cell_type": "code",
      "source": [
        "# DTM 생성\n",
        "dtmvector3 = CountVectorizer()\n",
        "x3_train_dtm = dtmvector3.fit_transform(x3_train)\n",
        "print(\"DTM의 크기: \",x3_train_dtm.shape)\n",
        "\n",
        "# TF-IDF Matrix 생성\n",
        "tfidf_transformer3 = TfidfTransformer()\n",
        "tfidfv3 = tfidf_transformer3.fit_transform(x3_train_dtm)\n",
        "print(\"TF-IDF Matrix의 크기: \",tfidfv3.shape)"
      ],
      "metadata": {
        "colab": {
          "base_uri": "https://localhost:8080/"
        },
        "id": "7HgcomyH9T3B",
        "outputId": "a11d102a-30de-4bdb-fc97-6eecc4c5725b"
      },
      "execution_count": null,
      "outputs": [
        {
          "output_type": "stream",
          "name": "stdout",
          "text": [
            "DTM의 크기:  (8982, 7772)\n",
            "TF-IDF Matrix의 크기:  (8982, 7772)\n"
          ]
        }
      ]
    },
    {
      "cell_type": "markdown",
      "source": [
        "### 3.2 나이브 베이즈 분류기"
      ],
      "metadata": {
        "id": "c7ae2pvH9e3o"
      }
    },
    {
      "cell_type": "code",
      "source": [
        "model3 = MultinomialNB()\n",
        "model3.fit(tfidfv3, y3_train)"
      ],
      "metadata": {
        "colab": {
          "base_uri": "https://localhost:8080/"
        },
        "id": "t2F-PSMO9ipt",
        "outputId": "0274351a-84af-4ce0-8d09-02fb10c95108"
      },
      "execution_count": null,
      "outputs": [
        {
          "output_type": "execute_result",
          "data": {
            "text/plain": [
              "MultinomialNB()"
            ]
          },
          "metadata": {},
          "execution_count": 68
        }
      ]
    },
    {
      "cell_type": "code",
      "source": [
        "# test 데이터도 DTM -> tf-idf 행렬로 변환\n",
        "x3_test_dtm = dtmvector3.transform(x3_test)\n",
        "tfidfv3_test = tfidf_transformer3.transform(x3_test_dtm)\n",
        "\n",
        "predicted3 = model3.predict(tfidfv3_test)\n",
        "\n",
        "# 카테고리 라벨 분류한 정확도\n",
        "print(\"정확도:\", accuracy_score(y3_test, predicted3))"
      ],
      "metadata": {
        "colab": {
          "base_uri": "https://localhost:8080/"
        },
        "id": "7rVdaOxF9lPU",
        "outputId": "20b09a32-2a05-4646-e1ab-57421098c49c"
      },
      "execution_count": null,
      "outputs": [
        {
          "output_type": "stream",
          "name": "stdout",
          "text": [
            "정확도: 0.6625111308993766\n"
          ]
        }
      ]
    },
    {
      "cell_type": "code",
      "source": [
        "x3_test[3]"
      ],
      "metadata": {
        "colab": {
          "base_uri": "https://localhost:8080/",
          "height": 255
        },
        "id": "QXCyOkup9uZF",
        "outputId": "37f8ddaa-e24a-440d-f517-0cc3c43367e0"
      },
      "execution_count": null,
      "outputs": [
        {
          "output_type": "execute_result",
          "data": {
            "text/plain": [
              "'<sos> <unk> <unk> oil and gas partnership said it completed the sale of interests in two major oil and gas fields to lt energy assets international corp for 21 mln dlrs the company said it sold about one half of its 50 pct interest in the oak hill and north <unk> fields its two largest producing properties it said it used about 20 mln dlrs of the proceeds to <unk> principal on its senior secured notes semi annual principal payments on the remaining 40 mln dlrs of notes have been satisfied until december 1988 as a result it said the company said the note agreements were amended to reflect an easing of some financial <unk> and an increase of interest to 13 5 pct from 13 0 pct until december 1990 it said the <unk> exercise price for 1 125 000 warrants was also reduced to 50 cts from 1 50 dlrs the company said energy assets agreed to share the costs of increasing production at the oak hill field reuter 3'"
            ],
            "application/vnd.google.colaboratory.intrinsic+json": {
              "type": "string"
            }
          },
          "metadata": {},
          "execution_count": 70
        }
      ]
    },
    {
      "cell_type": "code",
      "source": [
        "y3_test[3]"
      ],
      "metadata": {
        "colab": {
          "base_uri": "https://localhost:8080/"
        },
        "id": "gT7GIrlk9yO5",
        "outputId": "f0882456-8387-4041-d97e-793ae8f19150"
      },
      "execution_count": null,
      "outputs": [
        {
          "output_type": "execute_result",
          "data": {
            "text/plain": [
              "4"
            ]
          },
          "metadata": {},
          "execution_count": 72
        }
      ]
    },
    {
      "cell_type": "code",
      "source": [
        "probability_3_3 = model3.predict_proba(tfidfv3_test[3])[0]\n",
        "\n",
        "plt.rcParams[\"figure.figsize\"] = (11,5)\n",
        "plt.bar(model3.classes_, probability_3_3)\n",
        "plt.xlim(-1, 21)\n",
        "plt.xticks(model3.classes_)\n",
        "plt.xlabel(\"Class\")\n",
        "plt.ylabel(\"Probability\")\n",
        "plt.show()"
      ],
      "metadata": {
        "colab": {
          "base_uri": "https://localhost:8080/",
          "height": 354
        },
        "id": "XcRc1xZm90NA",
        "outputId": "effafd19-d94c-420f-9d1c-d66f0ddde211"
      },
      "execution_count": null,
      "outputs": [
        {
          "output_type": "display_data",
          "data": {
            "text/plain": [
              "<Figure size 792x360 with 1 Axes>"
            ],
            "image/png": "[encoded data removed]"
          },
          "metadata": {
            "needs_background": "light"
          }
        }
      ]
    },
    {
      "cell_type": "markdown",
      "source": [
        "- 약 90프로 확률로 4번 클래스라고 맞게 예측함"
      ],
      "metadata": {
        "id": "q8JoWeOH-BNp"
      }
    },
    {
      "cell_type": "code",
      "source": [
        "from sklearn.metrics import classification_report\n",
        "from sklearn.metrics import confusion_matrix\n",
        "\n",
        "print(classification_report(y3_test, model3.predict(tfidfv3_test), zero_division=0))"
      ],
      "metadata": {
        "colab": {
          "base_uri": "https://localhost:8080/"
        },
        "id": "6vuWGd3298JV",
        "outputId": "453cb3d4-048e-430f-f238-dfeb25fbcd69"
      },
      "execution_count": null,
      "outputs": [
        {
          "output_type": "stream",
          "name": "stdout",
          "text": [
            "              precision    recall  f1-score   support\n",
            "\n",
            "           0       0.00      0.00      0.00        12\n",
            "           1       0.59      0.75      0.66       105\n",
            "           2       0.00      0.00      0.00        20\n",
            "           3       0.82      0.90      0.86       813\n",
            "           4       0.54      0.96      0.69       474\n",
            "           5       0.00      0.00      0.00         5\n",
            "           6       0.00      0.00      0.00        14\n",
            "           7       0.00      0.00      0.00         3\n",
            "           8       0.00      0.00      0.00        38\n",
            "           9       1.00      0.16      0.28        25\n",
            "          10       0.00      0.00      0.00        30\n",
            "          11       0.58      0.67      0.63        83\n",
            "          12       0.00      0.00      0.00        13\n",
            "          13       1.00      0.05      0.10        37\n",
            "          14       0.00      0.00      0.00         2\n",
            "          15       0.00      0.00      0.00         9\n",
            "          16       0.66      0.59      0.62        99\n",
            "          17       0.00      0.00      0.00        12\n",
            "          18       0.00      0.00      0.00        20\n",
            "          19       0.55      0.78      0.64       133\n",
            "          20       1.00      0.04      0.08        70\n",
            "          21       0.00      0.00      0.00        27\n",
            "          22       0.00      0.00      0.00         7\n",
            "          23       0.00      0.00      0.00        12\n",
            "          24       0.00      0.00      0.00        19\n",
            "          25       1.00      0.03      0.06        31\n",
            "          26       0.00      0.00      0.00         8\n",
            "          27       0.00      0.00      0.00         4\n",
            "          28       0.00      0.00      0.00        10\n",
            "          29       0.00      0.00      0.00         4\n",
            "          30       0.00      0.00      0.00        12\n",
            "          31       0.00      0.00      0.00        13\n",
            "          32       0.00      0.00      0.00        10\n",
            "          33       0.00      0.00      0.00         5\n",
            "          34       0.00      0.00      0.00         7\n",
            "          35       0.00      0.00      0.00         6\n",
            "          36       0.00      0.00      0.00        11\n",
            "          37       0.00      0.00      0.00         2\n",
            "          38       0.00      0.00      0.00         3\n",
            "          39       0.00      0.00      0.00         5\n",
            "          40       0.00      0.00      0.00        10\n",
            "          41       0.00      0.00      0.00         8\n",
            "          42       0.00      0.00      0.00         3\n",
            "          43       0.00      0.00      0.00         6\n",
            "          44       0.00      0.00      0.00         5\n",
            "          45       0.00      0.00      0.00         1\n",
            "\n",
            "    accuracy                           0.66      2246\n",
            "   macro avg       0.17      0.11      0.10      2246\n",
            "weighted avg       0.59      0.66      0.58      2246\n",
            "\n"
          ]
        }
      ]
    },
    {
      "cell_type": "code",
      "source": [
        "# confusion matrix 시각화\n",
        "graph_confusion_matrix(model3, tfidfv3_test, y3_test)"
      ],
      "metadata": {
        "colab": {
          "base_uri": "https://localhost:8080/",
          "height": 681
        },
        "id": "cAYghpc8-NnQ",
        "outputId": "21359cb4-61d3-4317-d087-a71df0840f8e"
      },
      "execution_count": null,
      "outputs": [
        {
          "output_type": "display_data",
          "data": {
            "text/plain": [
              "<Figure size 864x864 with 2 Axes>"
            ],
            "image/png": "[encoded data removed]"
          },
          "metadata": {
            "needs_background": "light"
          }
        }
      ]
    },
    {
      "cell_type": "markdown",
      "source": [
        "### 3.3 Complement Naive Bayes Classifier(CNB)"
      ],
      "metadata": {
        "id": "MoIQEaUP-Top"
      }
    },
    {
      "cell_type": "code",
      "source": [
        "cb3 = ComplementNB()\n",
        "cb3.fit(tfidfv3, y3_train)"
      ],
      "metadata": {
        "colab": {
          "base_uri": "https://localhost:8080/"
        },
        "id": "cfAfwQgYARqM",
        "outputId": "adf54082-a200-4a26-d5e1-a3dd6fdca887"
      },
      "execution_count": null,
      "outputs": [
        {
          "output_type": "execute_result",
          "data": {
            "text/plain": [
              "ComplementNB()"
            ]
          },
          "metadata": {},
          "execution_count": 76
        }
      ]
    },
    {
      "cell_type": "code",
      "source": [
        "predicted3 = cb3.predict(tfidfv3_test) #테스트 데이터에 대한 예측\n",
        "print(\"정확도:\", accuracy_score(y3_test, predicted3)) #예측값과 실제값 비교"
      ],
      "metadata": {
        "colab": {
          "base_uri": "https://localhost:8080/"
        },
        "id": "y3j8cL9gAUQB",
        "outputId": "661a6a67-5885-4d0a-ae2d-2ee7d6b81558"
      },
      "execution_count": null,
      "outputs": [
        {
          "output_type": "stream",
          "name": "stdout",
          "text": [
            "정확도: 0.7707034728406055\n"
          ]
        }
      ]
    },
    {
      "cell_type": "markdown",
      "source": [
        "### 3.4 로지스틱 회귀(Logistic Regression)"
      ],
      "metadata": {
        "id": "xMY7WUaKAYbg"
      }
    },
    {
      "cell_type": "code",
      "source": [
        "lr3 = LogisticRegression(C=10000, penalty='l2')\n",
        "lr3.fit(tfidfv3, y3_train)"
      ],
      "metadata": {
        "colab": {
          "base_uri": "https://localhost:8080/"
        },
        "id": "i3pySgu7Ab4Y",
        "outputId": "2e5ead50-fee1-41e1-af84-a34f0d371183"
      },
      "execution_count": null,
      "outputs": [
        {
          "output_type": "stream",
          "name": "stderr",
          "text": [
            "/usr/local/lib/python3.7/dist-packages/sklearn/linear_model/_logistic.py:818: ConvergenceWarning: lbfgs failed to converge (status=1):\n",
            "STOP: TOTAL NO. of ITERATIONS REACHED LIMIT.\n",
            "\n",
            "Increase the number of iterations (max_iter) or scale the data as shown in:\n",
            "    https://scikit-learn.org/stable/modules/preprocessing.html\n",
            "Please also refer to the documentation for alternative solver options:\n",
            "    https://scikit-learn.org/stable/modules/linear_model.html#logistic-regression\n",
            "  extra_warning_msg=_LOGISTIC_SOLVER_CONVERGENCE_MSG,\n"
          ]
        },
        {
          "output_type": "execute_result",
          "data": {
            "text/plain": [
              "LogisticRegression(C=10000)"
            ]
          },
          "metadata": {},
          "execution_count": 78
        }
      ]
    },
    {
      "cell_type": "code",
      "source": [
        "predicted3 = lr3.predict(tfidfv3_test) #테스트 데이터에 대한 예측\n",
        "print(\"정확도:\", accuracy_score(y3_test, predicted3)) #예측값과 실제값 비교"
      ],
      "metadata": {
        "colab": {
          "base_uri": "https://localhost:8080/"
        },
        "id": "rA4KpT1BAgqL",
        "outputId": "0f183e9a-5d2e-49a2-ebb6-129abc706d6d"
      },
      "execution_count": null,
      "outputs": [
        {
          "output_type": "stream",
          "name": "stdout",
          "text": [
            "정확도: 0.8098842386464826\n"
          ]
        }
      ]
    },
    {
      "cell_type": "markdown",
      "source": [
        "### 3.5 선형 서포트 벡터 머신(Linear Support Vector Machine)"
      ],
      "metadata": {
        "id": "pzEz4iTwAs4q"
      }
    },
    {
      "cell_type": "code",
      "source": [
        "lsvc3 = LinearSVC(C=1000, penalty='l1', max_iter=500, dual=False)\n",
        "lsvc3.fit(tfidfv3, y3_train)"
      ],
      "metadata": {
        "colab": {
          "base_uri": "https://localhost:8080/"
        },
        "id": "XF173lOhAxxu",
        "outputId": "95d11aac-aba8-4349-dcbf-e825dbe70acb"
      },
      "execution_count": null,
      "outputs": [
        {
          "output_type": "stream",
          "name": "stderr",
          "text": [
            "/usr/local/lib/python3.7/dist-packages/sklearn/svm/_base.py:1208: ConvergenceWarning: Liblinear failed to converge, increase the number of iterations.\n",
            "  ConvergenceWarning,\n"
          ]
        },
        {
          "output_type": "execute_result",
          "data": {
            "text/plain": [
              "LinearSVC(C=1000, dual=False, max_iter=500, penalty='l1')"
            ]
          },
          "metadata": {},
          "execution_count": 80
        }
      ]
    },
    {
      "cell_type": "code",
      "source": [
        "predicted3 = lsvc3.predict(tfidfv3_test) #테스트 데이터에 대한 예측\n",
        "print(\"정확도:\", accuracy_score(y3_test, predicted3)) #예측"
      ],
      "metadata": {
        "colab": {
          "base_uri": "https://localhost:8080/"
        },
        "id": "R3tLHcZJA2fB",
        "outputId": "c0e129dc-9d52-4b0e-d10e-0f89fc4fe3a3"
      },
      "execution_count": null,
      "outputs": [
        {
          "output_type": "stream",
          "name": "stdout",
          "text": [
            "정확도: 0.7711487088156723\n"
          ]
        }
      ]
    },
    {
      "cell_type": "markdown",
      "source": [
        "### 3.6 결정 트리(Decision Tree)"
      ],
      "metadata": {
        "id": "39pD3x-tBQMH"
      }
    },
    {
      "cell_type": "code",
      "source": [
        "tree3 = DecisionTreeClassifier(max_depth=10, random_state=0)\n",
        "tree3.fit(tfidfv3, y3_train)"
      ],
      "metadata": {
        "colab": {
          "base_uri": "https://localhost:8080/"
        },
        "id": "1d79UTftBThc",
        "outputId": "1de2be04-00b0-46a2-e46a-5f46835a80d9"
      },
      "execution_count": null,
      "outputs": [
        {
          "output_type": "execute_result",
          "data": {
            "text/plain": [
              "DecisionTreeClassifier(max_depth=10, random_state=0)"
            ]
          },
          "metadata": {},
          "execution_count": 82
        }
      ]
    },
    {
      "cell_type": "code",
      "source": [
        "predicted3 = tree3.predict(tfidfv3_test) #테스트 데이터에 대한 예측\n",
        "print(\"정확도:\", accuracy_score(y3_test, predicted3)) #예측값과 실제값 비교"
      ],
      "metadata": {
        "colab": {
          "base_uri": "https://localhost:8080/"
        },
        "id": "-43sLiGXBgSV",
        "outputId": "d70e6786-d6a5-440f-dcf4-4b202093f201"
      },
      "execution_count": null,
      "outputs": [
        {
          "output_type": "stream",
          "name": "stdout",
          "text": [
            "정확도: 0.6206589492430988\n"
          ]
        }
      ]
    },
    {
      "cell_type": "markdown",
      "source": [
        "### 3.7 랜덤 포레스트(Random Forest)\n"
      ],
      "metadata": {
        "id": "5w2UsuY8BnVT"
      }
    },
    {
      "cell_type": "code",
      "source": [
        "forest3 = RandomForestClassifier(n_estimators=5, random_state=0)\n",
        "forest3.fit(tfidfv3, y3_train)"
      ],
      "metadata": {
        "colab": {
          "base_uri": "https://localhost:8080/"
        },
        "id": "HYfIzmhSBsbj",
        "outputId": "937dfa19-e8fe-48f3-f9b2-3e8766bb1f70"
      },
      "execution_count": null,
      "outputs": [
        {
          "output_type": "execute_result",
          "data": {
            "text/plain": [
              "RandomForestClassifier(n_estimators=5, random_state=0)"
            ]
          },
          "metadata": {},
          "execution_count": 84
        }
      ]
    },
    {
      "cell_type": "code",
      "source": [
        "predicted3 = forest3.predict(tfidfv3_test) #테스트 데이터에 대한 예측\n",
        "print(\"정확도:\", accuracy_score(y3_test, predicted3)) #예측값과 실제값 비교"
      ],
      "metadata": {
        "colab": {
          "base_uri": "https://localhost:8080/"
        },
        "id": "1BeVApmJBvGZ",
        "outputId": "349626fd-074d-4e10-e8e8-4fe9b316ffab"
      },
      "execution_count": null,
      "outputs": [
        {
          "output_type": "stream",
          "name": "stdout",
          "text": [
            "정확도: 0.6669634906500446\n"
          ]
        }
      ]
    },
    {
      "cell_type": "markdown",
      "source": [
        "### 3.8 그래디언트 부스팅 트리(GradientBoostingClassifier)"
      ],
      "metadata": {
        "id": "MU1gs7o9HVTo"
      }
    },
    {
      "cell_type": "code",
      "source": [
        "grbt3 = GradientBoostingClassifier(random_state=0,verbose=3) \n",
        "grbt3.fit(tfidfv3, y3_train)"
      ],
      "metadata": {
        "colab": {
          "base_uri": "https://localhost:8080/"
        },
        "id": "He_C7ZsfHaPb",
        "outputId": "67b93f0b-b4a7-4a19-ebe6-392324657c85"
      },
      "execution_count": null,
      "outputs": [
        {
          "output_type": "stream",
          "name": "stdout",
          "text": [
            "      Iter       Train Loss   Remaining Time \n",
            "         1           1.4623           24.63m\n",
            "         2     8660007.6663           21.28m\n",
            "         3   875988650.4729           20.06m\n",
            "         4 487291772348199360.0000           19.35m\n",
            "         5 1494368684701080172103932709351465585696707706880.0000           18.88m\n",
            "         6 76262468764199180251727454826972312784663848937957200250741567905298202274824192.0000           18.51m\n",
            "         7 76262468764199180251727454826972312784663848937957200250741567905298202274824192.0000           18.20m\n",
            "         8 76262468764199180251727454826972312784663848937957200250741567905298202274824192.0000           17.91m\n",
            "         9 76262468764199180251727454826972312784663848937957200250741567905298202274824192.0000           17.66m\n",
            "        10 76262468764199180251727454826972312784663848937957200250741567905298202274824192.0000           17.51m\n",
            "        11 76262468764199180251727454826972312784663848937957200250741567905298202274824192.0000           17.29m\n",
            "        12 76262468764199180251727454826972312784663848937957200250741567905298202274824192.0000           17.06m\n",
            "        13 76262468764199180251727454826972312784663848937957200250741567905298202274824192.0000           16.83m\n",
            "        14 76262468764199180251727454826972312784663848937957200250741567905298202274824192.0000           16.60m\n",
            "        15 76262468764199180251727454826972312784663848937957200250741567905298202274824192.0000           16.37m\n",
            "        16 76262468764199180251727454826972312784663848937957200250741567905298202274824192.0000           16.15m\n",
            "        17 76262468764199180251727454826972312784663848937957200250741567905298202274824192.0000           15.95m\n",
            "        18 76262468764199180251727454826972312784663848937957200250741567905298202274824192.0000           15.75m\n",
            "        19 76262468764199180251727454826972312784663848937957200250741567905298202274824192.0000           15.58m\n",
            "        20 76262468764199180251727454826972312784663848937957200250741567905298202274824192.0000           15.36m\n",
            "        21 47872401502436920790312182244410711458059061234140012950941555810602792984895310115373056.0000           15.15m\n",
            "        22 47872401502436920790312182244410711458059061234140012950941555810602792984895310115373056.0000           14.94m\n",
            "        23 47872401502436920790312182244410711458059061234140012950941555810602792984895310115373056.0000           14.74m\n",
            "        24 47872401502436920790312182244410711458059061234140012950941555810602792984895310115373056.0000           14.53m\n",
            "        25 47872401502436920790312182244410711458059061234140012950941555810602792984895310115373056.0000           14.33m\n",
            "        26 47872401502436920790312182244410711458059061234140012950941555810602792984895310115373056.0000           14.13m\n",
            "        27 47872401502436920790312182244410711458059061234140012950941555810602792984895310115373056.0000           13.94m\n",
            "        28 47872401502436920790312182244410711458059061234140012950941555810602792984895310115373056.0000           13.74m\n",
            "        29 47872401502436920790312182244410711458059061234140012950941555810602792984895310115373056.0000           13.54m\n",
            "        30 47872401502436920790312182244410711458059061234140012950941555810602792984895310115373056.0000           13.34m\n",
            "        31 47872401502436920790312182244410711458059061234140012950941555810602792984895310115373056.0000           13.15m\n",
            "        32 47872401502436920790312182244410711458059061234140012950941555810602792984895310115373056.0000           12.95m\n",
            "        33 47872401502436920790312182244410711458059061234140012950941555810602792984895310115373056.0000           12.75m\n",
            "        34 47872401502436920790312182244410711458059061234140012950941555810602792984895310115373056.0000           12.56m\n",
            "        35 47872401502436920790312182244410711458059061234140012950941555810602792984895310115373056.0000           12.36m\n",
            "        36 47872401502436920790312182244410711458059061234140012950941555810602792984895310115373056.0000           12.17m\n",
            "        37 47872401502436920790312182244410711458059061234140012950941555810602792984895310115373056.0000           11.97m\n",
            "        38 47872401502436920790312182244410711458059061234140012950941555810602792984895310115373056.0000           11.78m\n",
            "        39 47872401502436920790312182244410711458059061234140012950941555810602792984895310115373056.0000           11.59m\n",
            "        40 47872401502436920790312182244410711458059061234140012950941555810602792984895310115373056.0000           11.40m\n",
            "        41 47872401502436920790312182244410711458059061234140012950941555810602792984895310115373056.0000           11.20m\n",
            "        42 47872401502436920790312182244410711458059061234140012950941555810602792984895310115373056.0000           11.01m\n",
            "        43 47872401502436920790312182244410711458059061234140012950941555810602792984895310115373056.0000           10.82m\n",
            "        44 47872401502436920790312182244410711458059061234140012950941555810602792984895310115373056.0000           10.63m\n",
            "        45 47872401502436920790312182244410711458059061234140012950941555810602792984895310115373056.0000           10.44m\n",
            "        46 47872401502436920790312182244410711458059061234140012950941555810602792984895310115373056.0000           10.25m\n",
            "        47 47872401502436920790312182244410711458059061234140012950941555810602792984895310115373056.0000           10.05m\n",
            "        48 47872401502436920790312182244410711458059061234140012950941555810602792984895310115373056.0000            9.86m\n",
            "        49 47872401502436920790312182244410711458059061234140012950941555810602792984895310115373056.0000            9.67m\n",
            "        50 47872401502436920790312182244410711458059061234140012950941555810602792984895310115373056.0000            9.48m\n",
            "        51 47872401502436920790312182244410711458059061234140012950941555810602792984895310115373056.0000            9.28m\n",
            "        52 47872401502436920790312182244410711458059061234140012950941555810602792984895310115373056.0000            9.09m\n",
            "        53 47872401502436920790312182244410711458059061234140012950941555810602792984895310115373056.0000            8.90m\n",
            "        54 47872401502436920790312182244410711458059061234140012950941555810602792984895310115373056.0000            8.71m\n",
            "        55 47872401502436920790312182244410711458059061234140012950941555810602792984895310115373056.0000            8.52m\n",
            "        56 47872401502436920790312182244410711458059061234140012950941555810602792984895310115373056.0000            8.33m\n",
            "        57 47872401502436920790312182244410711458059061234140012950941555810602792984895310115373056.0000            8.13m\n",
            "        58 47872401502436920790312182244410711458059061234140012950941555810602792984895310115373056.0000            7.94m\n",
            "        59 47872401502436920790312182244410711458059061234140012950941555810602792984895310115373056.0000            7.75m\n",
            "        60 47872401502436920790312182244410711458059061234140012950941555810602792984895310115373056.0000            7.56m\n",
            "        61 47872401502436920790312182244410711458059061234140012950941555810602792984895310115373056.0000            7.37m\n",
            "        62 47872401502436920790312182244410711458059061234140012950941555810602792984895310115373056.0000            7.18m\n",
            "        63 47872401502436920790312182244410711458059061234140012950941555810602792984895310115373056.0000            6.99m\n",
            "        64 47872401502436920790312182244410711458059061234140012950941555810602792984895310115373056.0000            6.80m\n",
            "        65 47872401502436920790312182244410711458059061234140012950941555810602792984895310115373056.0000            6.61m\n",
            "        66 47872401502436920790312182244410711458059061234140012950941555810602792984895310115373056.0000            6.42m\n",
            "        67 47872401502436920790312182244410711458059061234140012950941555810602792984895310115373056.0000            6.23m\n",
            "        68 47872401502436920790312182244410711458059061234140012950941555810602792984895310115373056.0000            6.04m\n",
            "        69 47872401502436920790312182244410711458059061234140012950941555810602792984895310115373056.0000            5.85m\n",
            "        70 47872401502436920790312182244410711458059061234140012950941555810602792984895310115373056.0000            5.66m\n",
            "        71 47872401502436920790312182244410711458059061234140012950941555810602792984895310115373056.0000            5.47m\n",
            "        72 47872401502436920790312182244410711458059061234140012950941555810602792984895310115373056.0000            5.28m\n",
            "        73 47872401502436920790312182244410711458059061234140012950941555810602792984895310115373056.0000            5.10m\n",
            "        74 47872401502436920790312182244410711458059061234140012950941555810602792984895310115373056.0000            4.91m\n",
            "        75 47872401502436920790312182244410711458059061234140012950941555810602792984895310115373056.0000            4.72m\n",
            "        76 47872401502436920790312182244410711458059061234140012950941555810602792984895310115373056.0000            4.53m\n",
            "        77 47872401502436920790312182244410711458059061234140012950941555810602792984895310115373056.0000            4.34m\n",
            "        78 47872401502436920790312182244410711458059061234140012950941555810602792984895310115373056.0000            4.15m\n",
            "        79 47872401502436920790312182244410711458059061234140012950941555810602792984895310115373056.0000            3.96m\n",
            "        80 47872401502436920790312182244410711458059061234140012950941555810602792984895310115373056.0000            3.77m\n",
            "        81 47872401502436920790312182244410711458059061234140012950941555810602792984895310115373056.0000            3.58m\n",
            "        82 47872401502436920790312182244410711458059061234140012950941555810602792984895310115373056.0000            3.40m\n",
            "        83 47872401502436920790312182244410711458059061234140012950941555810602792984895310115373056.0000            3.21m\n",
            "        84 47872401502436920790312182244410711458059061234140012950941555810602792984895310115373056.0000            3.02m\n",
            "        85 47872401502436920790312182244410711458059061234140012950941555810602792984895310115373056.0000            2.83m\n",
            "        86 47872401502436920790312182244410711458059061234140012950941555810602792984895310115373056.0000            2.64m\n",
            "        87 47872401502436920790312182244410711458059061234140012950941555810602792984895310115373056.0000            2.45m\n",
            "        88 47872401502436920790312182244410711458059061234140012950941555810602792984895310115373056.0000            2.26m\n",
            "        89 47872401502436920790312182244410711458059061234140012950941555810602792984895310115373056.0000            2.07m\n",
            "        90 47872401502436920790312182244410711458059061234140012950941555810602792984895310115373056.0000            1.88m\n",
            "        91 47872401502436920790312182244410711458059061234140012950941555810602792984895310115373056.0000            1.70m\n",
            "        92 47872401502436920790312182244410711458059061234140012950941555810602792984895310115373056.0000            1.51m\n",
            "        93 47872401502436920790312182244410711458059061234140012950941555810602792984895310115373056.0000            1.32m\n",
            "        94 47872401502436920790312182244410711458059061234140012950941555810602792984895310115373056.0000            1.13m\n",
            "        95 47872401502436920790312182244410711458059061234140012950941555810602792984895310115373056.0000           56.49s\n",
            "        96 47872401502436920790312182244410711458059061234140012950941555810602792984895310115373056.0000           45.19s\n",
            "        97 47872401502436920790312182244410711458059061234140012950941555810602792984895310115373056.0000           33.89s\n",
            "        98 47872401502436920790312182244410711458059061234140012950941555810602792984895310115373056.0000           22.59s\n",
            "        99 47872401502436920790312182244410711458059061234140012950941555810602792984895310115373056.0000           11.29s\n",
            "       100 47872401502436920790312182244410711458059061234140012950941555810602792984895310115373056.0000            0.00s\n"
          ]
        },
        {
          "output_type": "execute_result",
          "data": {
            "text/plain": [
              "GradientBoostingClassifier(random_state=0, verbose=3)"
            ]
          },
          "metadata": {},
          "execution_count": 86
        }
      ]
    },
    {
      "cell_type": "code",
      "source": [
        "predicted3 = grbt3.predict(tfidfv3_test) #테스트 데이터에 대한 예측\n",
        "print(\"정확도:\", accuracy_score(y3_test, predicted3)) #예측값과 실제값 비교"
      ],
      "metadata": {
        "colab": {
          "base_uri": "https://localhost:8080/"
        },
        "id": "WT4dtwBbHc9v",
        "outputId": "aa7ab593-18ef-4f89-c132-1a5fe4ef4678"
      },
      "execution_count": null,
      "outputs": [
        {
          "output_type": "stream",
          "name": "stdout",
          "text": [
            "정확도: 0.7644701691896705\n"
          ]
        }
      ]
    },
    {
      "cell_type": "markdown",
      "source": [
        "### 3.9 보팅(Voting)"
      ],
      "metadata": {
        "id": "wpxKGp21MacC"
      }
    },
    {
      "cell_type": "code",
      "source": [
        "voting_classifier3 = VotingClassifier(estimators=[\n",
        "         ('lr', LogisticRegression(C=10000, penalty='l2')),\n",
        "        ('cb', ComplementNB()),\n",
        "        ('grbt', GradientBoostingClassifier(random_state=0))\n",
        "], voting='soft', n_jobs=-1)\n",
        "voting_classifier3.fit(tfidfv3, y3_train)"
      ],
      "metadata": {
        "colab": {
          "base_uri": "https://localhost:8080/"
        },
        "id": "2E1GL8rNMkUp",
        "outputId": "64ebeba3-285b-4a56-9eff-d9a805b11cc8"
      },
      "execution_count": null,
      "outputs": [
        {
          "output_type": "execute_result",
          "data": {
            "text/plain": [
              "VotingClassifier(estimators=[('lr', LogisticRegression(C=10000)),\n",
              "                             ('cb', ComplementNB()),\n",
              "                             ('grbt',\n",
              "                              GradientBoostingClassifier(random_state=0))],\n",
              "                 n_jobs=-1, voting='soft')"
            ]
          },
          "metadata": {},
          "execution_count": 88
        }
      ]
    },
    {
      "cell_type": "code",
      "source": [
        "predicted3 = voting_classifier.predict(tfidfv_test) #테스트 데이터에 대한 예측\n",
        "print(\"정확도:\", accuracy_score(y3_test, predicted3)) #예측값과 실"
      ],
      "metadata": {
        "colab": {
          "base_uri": "https://localhost:8080/"
        },
        "id": "om6FQ5QrMm4D",
        "outputId": "7a650e7d-ff14-4e49-c542-04177639f7ff"
      },
      "execution_count": null,
      "outputs": [
        {
          "output_type": "stream",
          "name": "stdout",
          "text": [
            "정확도: 0.8187889581478184\n"
          ]
        }
      ]
    },
    {
      "cell_type": "markdown",
      "source": [
        "# 회고\n",
        "1. 모든 단어 사용했을 때 정확도\n",
        "> - 나이브 베이즈 분류기 : 0.5997328584149599\n",
        "> - CNB : 0.7649154051647373\n",
        "> - 로지스틱 회귀 : 0.813446126447017\n",
        "> - 선형 SVM : 0.7729296527159395\n",
        "> - 결정 트리 : 0.6211041852181657\n",
        "> - 랜덤 포레스트 : 0.6544968833481746\n",
        "> - 그래디언트 부스팅 트리 : 0.7702582368655387\n",
        "> - 보팅 : 0.8187889581478184\n",
        "\n",
        "2. 빈도수 상위 5,000개의 단어만 사용\n",
        "> - 나이브 베이즈 분류기 : 0.6731967943009796\n",
        "> - CNB : 0.7707034728406055\n",
        "> - 로지스틱 회귀 : 0.8058771148708815\n",
        "> - 선형 SVM : 0.7680320569902048\n",
        "> - 결정 트리 : 0.6179875333926982\n",
        "> - 랜덤 포레스트 : 0.701246660730187\n",
        "> - 그래디언트 부스팅 트리 : 0.767586821015138\n",
        "> - 보팅 : 0.8161175422974176\n",
        "\n",
        "3. 빈도수 상위 8,000개의 단어만 사용\n",
        "> - 나이브 베이즈 분류기 : 정확도: 0.6625111308993766\n",
        "> - CNB : 0.7707034728406055\n",
        "> - 로지스틱 회귀 : 0.8098842386464826\n",
        "> - 선형 SVM : 0.7711487088156723\n",
        "> - 결정 트리 : 0.6206589492430988\n",
        "> - 랜덤 포레스트 : 0.6669634906500446\n",
        "> - 그래디언트 부스팅 트리 : 0.7644701691896705\n",
        "> - 보팅 : 0.8187889581478184\n",
        "\n",
        "- 함수로 만들고 num_words 바꿔가면서 하면됐는데 괜히 더 귀찮은 방법으로 했다\n",
        "- 모든 단어를 썼을때나 빈도수 상위 8000개 썼을 때나 보팅 모델쓰면 정확도가 똑같이 나온다.\n",
        "- num_words를 적당히 잡는게 연산 속도도 고려한다고 생각하면 중요한것 같다."
      ],
      "metadata": {
        "id": "HQuOJr3mR8sC"
      }
    }
  ]
}