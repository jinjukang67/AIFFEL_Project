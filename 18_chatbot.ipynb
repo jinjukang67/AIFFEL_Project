{
 "cells": [
  {
   "cell_type": "code",
   "execution_count": 1,
   "id": "59389d78",
   "metadata": {},
   "outputs": [
    {
     "name": "stdout",
     "output_type": "stream",
     "text": [
      "1.21.4\n",
      "1.3.3\n",
      "2.6.0\n",
      "3.6.5\n",
      "4.1.2\n"
     ]
    }
   ],
   "source": [
    "import numpy as np\n",
    "import pandas as pd\n",
    "import tensorflow as tf\n",
    "import nltk\n",
    "import gensim\n",
    "import os\n",
    "from konlpy.tag import Mecab\n",
    "import re\n",
    "from tqdm import tqdm_notebook\n",
    "import random\n",
    "from sklearn.model_selection import train_test_split\n",
    "\n",
    "print(np.__version__)\n",
    "print(pd.__version__)\n",
    "print(tf.__version__)\n",
    "print(nltk.__version__)\n",
    "print(gensim.__version__)"
   ]
  },
  {
   "cell_type": "code",
   "execution_count": 2,
   "id": "bcb9ff6a",
   "metadata": {},
   "outputs": [
    {
     "data": {
      "text/html": [
       "<div>\n",
       "<style scoped>\n",
       "    .dataframe tbody tr th:only-of-type {\n",
       "        vertical-align: middle;\n",
       "    }\n",
       "\n",
       "    .dataframe tbody tr th {\n",
       "        vertical-align: top;\n",
       "    }\n",
       "\n",
       "    .dataframe thead th {\n",
       "        text-align: right;\n",
       "    }\n",
       "</style>\n",
       "<table border=\"1\" class=\"dataframe\">\n",
       "  <thead>\n",
       "    <tr style=\"text-align: right;\">\n",
       "      <th></th>\n",
       "      <th>Q</th>\n",
       "      <th>A</th>\n",
       "      <th>label</th>\n",
       "    </tr>\n",
       "  </thead>\n",
       "  <tbody>\n",
       "    <tr>\n",
       "      <th>0</th>\n",
       "      <td>12시 땡!</td>\n",
       "      <td>하루가 또 가네요.</td>\n",
       "      <td>0</td>\n",
       "    </tr>\n",
       "    <tr>\n",
       "      <th>1</th>\n",
       "      <td>1지망 학교 떨어졌어</td>\n",
       "      <td>위로해 드립니다.</td>\n",
       "      <td>0</td>\n",
       "    </tr>\n",
       "    <tr>\n",
       "      <th>2</th>\n",
       "      <td>3박4일 놀러가고 싶다</td>\n",
       "      <td>여행은 언제나 좋죠.</td>\n",
       "      <td>0</td>\n",
       "    </tr>\n",
       "    <tr>\n",
       "      <th>3</th>\n",
       "      <td>3박4일 정도 놀러가고 싶다</td>\n",
       "      <td>여행은 언제나 좋죠.</td>\n",
       "      <td>0</td>\n",
       "    </tr>\n",
       "    <tr>\n",
       "      <th>4</th>\n",
       "      <td>PPL 심하네</td>\n",
       "      <td>눈살이 찌푸려지죠.</td>\n",
       "      <td>0</td>\n",
       "    </tr>\n",
       "    <tr>\n",
       "      <th>...</th>\n",
       "      <td>...</td>\n",
       "      <td>...</td>\n",
       "      <td>...</td>\n",
       "    </tr>\n",
       "    <tr>\n",
       "      <th>11818</th>\n",
       "      <td>훔쳐보는 것도 눈치 보임.</td>\n",
       "      <td>티가 나니까 눈치가 보이는 거죠!</td>\n",
       "      <td>2</td>\n",
       "    </tr>\n",
       "    <tr>\n",
       "      <th>11819</th>\n",
       "      <td>훔쳐보는 것도 눈치 보임.</td>\n",
       "      <td>훔쳐보는 거 티나나봐요.</td>\n",
       "      <td>2</td>\n",
       "    </tr>\n",
       "    <tr>\n",
       "      <th>11820</th>\n",
       "      <td>흑기사 해주는 짝남.</td>\n",
       "      <td>설렜겠어요.</td>\n",
       "      <td>2</td>\n",
       "    </tr>\n",
       "    <tr>\n",
       "      <th>11821</th>\n",
       "      <td>힘든 연애 좋은 연애라는게 무슨 차이일까?</td>\n",
       "      <td>잘 헤어질 수 있는 사이 여부인 거 같아요.</td>\n",
       "      <td>2</td>\n",
       "    </tr>\n",
       "    <tr>\n",
       "      <th>11822</th>\n",
       "      <td>힘들어서 결혼할까봐</td>\n",
       "      <td>도피성 결혼은 하지 않길 바라요.</td>\n",
       "      <td>2</td>\n",
       "    </tr>\n",
       "  </tbody>\n",
       "</table>\n",
       "<p>11823 rows × 3 columns</p>\n",
       "</div>"
      ],
      "text/plain": [
       "                             Q                         A  label\n",
       "0                       12시 땡!                하루가 또 가네요.      0\n",
       "1                  1지망 학교 떨어졌어                 위로해 드립니다.      0\n",
       "2                 3박4일 놀러가고 싶다               여행은 언제나 좋죠.      0\n",
       "3              3박4일 정도 놀러가고 싶다               여행은 언제나 좋죠.      0\n",
       "4                      PPL 심하네                눈살이 찌푸려지죠.      0\n",
       "...                        ...                       ...    ...\n",
       "11818           훔쳐보는 것도 눈치 보임.        티가 나니까 눈치가 보이는 거죠!      2\n",
       "11819           훔쳐보는 것도 눈치 보임.             훔쳐보는 거 티나나봐요.      2\n",
       "11820              흑기사 해주는 짝남.                    설렜겠어요.      2\n",
       "11821  힘든 연애 좋은 연애라는게 무슨 차이일까?  잘 헤어질 수 있는 사이 여부인 거 같아요.      2\n",
       "11822               힘들어서 결혼할까봐        도피성 결혼은 하지 않길 바라요.      2\n",
       "\n",
       "[11823 rows x 3 columns]"
      ]
     },
     "execution_count": 2,
     "metadata": {},
     "output_type": "execute_result"
    }
   ],
   "source": [
    "path = os.getenv(\"HOME\")+'/data/ChatbotData.csv'\n",
    "corpus = pd.read_csv(path)\n",
    "corpus"
   ]
  },
  {
   "cell_type": "code",
   "execution_count": 3,
   "id": "7326882d",
   "metadata": {},
   "outputs": [],
   "source": [
    "# 데이터의 질문과 답변을 각각 변수에 담아줍니다.\n",
    "questions = list(x for x in corpus['Q'])\n",
    "answers = list(x for x in corpus['A'])"
   ]
  },
  {
   "cell_type": "code",
   "execution_count": 4,
   "id": "d322c35a",
   "metadata": {},
   "outputs": [],
   "source": [
    "def preprocess_sentence(sentence):\n",
    "    \n",
    "    sentence = sentence.lower().strip()\n",
    "    sentence = re.sub(r'[\" \"]+', \" \", sentence)\n",
    "    sentence = re.sub(r\"[^a-zA-Z?.!가-힣ㄱ-ㅎㅏ-ㅣ0-9]+\", \" \", sentence)\n",
    "    sentence = sentence.strip()\n",
    "    \n",
    "    return sentence"
   ]
  },
  {
   "cell_type": "code",
   "execution_count": 5,
   "id": "43eaa24e",
   "metadata": {},
   "outputs": [
    {
     "name": "stderr",
     "output_type": "stream",
     "text": [
      "/tmp/ipykernel_84/2423102439.py:10: TqdmDeprecationWarning: This function will be removed in tqdm==5.0.0\n",
      "Please use `tqdm.notebook.tqdm` instead of `tqdm.tqdm_notebook`\n",
      "  for idx in tqdm_notebook(range(size)):\n"
     ]
    },
    {
     "data": {
      "application/vnd.jupyter.widget-view+json": {
       "model_id": "a710440a9cb1446fb4cbb79b66bed8ee",
       "version_major": 2,
       "version_minor": 0
      },
      "text/plain": [
       "  0%|          | 0/11823 [00:00<?, ?it/s]"
      ]
     },
     "metadata": {},
     "output_type": "display_data"
    }
   ],
   "source": [
    "mecab = Mecab()\n",
    "# 문제 : build_corpus를 구축해보세요.\n",
    "def build_corpus(src, tgt, src_max, tgt_max, src_tok, tgt_tok):\n",
    "    \n",
    "    size = len(src)\n",
    "\n",
    "    src_corpus = []\n",
    "    tgt_corpus = []\n",
    "\n",
    "    for idx in tqdm_notebook(range(size)):\n",
    "        s = src_tok(preprocess_sentence(src[idx]))\n",
    "        t = tgt_tok(preprocess_sentence(tgt[idx]))\n",
    "    \n",
    "        if (len(s) > src_max) | (s in src_corpus): continue\n",
    "        #[[YOUR CODE]]\n",
    "        \n",
    "        src_corpus.append(s)\n",
    "        tgt_corpus.append(t)\n",
    "\n",
    "    return src_corpus, tgt_corpus\n",
    "\n",
    "que_corpus, ans_corpus = \\\n",
    "build_corpus(src=questions,\n",
    "                tgt=answers,\n",
    "                src_max=40,\n",
    "                tgt_max=40,\n",
    "                src_tok=mecab.morphs,\n",
    "                tgt_tok=mecab.morphs)\n",
    "\n",
    "assert len(que_corpus) == len(ans_corpus)"
   ]
  },
  {
   "cell_type": "code",
   "execution_count": 6,
   "id": "c59b558b",
   "metadata": {},
   "outputs": [],
   "source": [
    "word2vec_file_path = os.getenv(\"HOME\")+\"/data/word2vec_ko.model\"\n",
    "w2v_ko = gensim.models.Word2Vec.load(word2vec_file_path)\n",
    "\n",
    "def lexical_sub(tokens):\n",
    "    import random\n",
    "    \n",
    "    res = list()\n",
    "\n",
    "    try:\n",
    "        _from = random.choice(tokens)\n",
    "        _to = w2v_ko.wv.most_similar(_from)[0][0]\n",
    "        \n",
    "    except: # 단어장에 없는 단어\n",
    "        return None\n",
    "\n",
    "    for tok in tokens:\n",
    "        if tok is _from: res.append(_to)\n",
    "        else: res.append(tok)\n",
    "\n",
    "    return res"
   ]
  },
  {
   "cell_type": "code",
   "execution_count": 8,
   "id": "627f3047",
   "metadata": {},
   "outputs": [
    {
     "name": "stdout",
     "output_type": "stream",
     "text": [
      "원본 데이터 크기: 11645\n"
     ]
    },
    {
     "name": "stderr",
     "output_type": "stream",
     "text": [
      "/tmp/ipykernel_84/4124062955.py:8: TqdmDeprecationWarning: This function will be removed in tqdm==5.0.0\n",
      "Please use `tqdm.notebook.tqdm` instead of `tqdm.tqdm_notebook`\n",
      "  for idx in tqdm_notebook(range(len(que_corpus))):\n"
     ]
    },
    {
     "data": {
      "application/vnd.jupyter.widget-view+json": {
       "model_id": "296cbbb83ada45bd9a84280eb90e192d",
       "version_major": 2,
       "version_minor": 0
      },
      "text/plain": [
       "  0%|          | 0/11645 [00:00<?, ?it/s]"
      ]
     },
     "metadata": {},
     "output_type": "display_data"
    },
    {
     "name": "stdout",
     "output_type": "stream",
     "text": [
      "최종 데이터 크기: 34482\n"
     ]
    }
   ],
   "source": [
    "from tqdm import tqdm_notebook\n",
    "\n",
    "print(\"원본 데이터 크기:\", len(que_corpus))\n",
    "\n",
    "aug_que_corpus = que_corpus.copy()\n",
    "aug_ans_corpus = ans_corpus.copy()\n",
    "\n",
    "for idx in tqdm_notebook(range(len(que_corpus))):\n",
    "    new_que = lexical_sub(que_corpus[idx])\n",
    "\n",
    "    if new_que is None: continue\n",
    "    else:\n",
    "        aug_que_corpus.append(new_que)\n",
    "        aug_ans_corpus.append(ans_corpus[idx])\n",
    "\n",
    "# 문제 : que_corpus를 기반으로 tgt corpus를 augmentation해주세요.\n",
    "\n",
    "    new_ans = lexical_sub(ans_corpus[idx])\n",
    "    if new_ans is None: continue \n",
    "    else:\n",
    "        aug_que_corpus.append(que_corpus[idx])\n",
    "        aug_ans_corpus.append(new_ans)\n",
    "\n",
    "\n",
    "assert len(aug_que_corpus) == len(aug_ans_corpus)\n",
    "\n",
    "print(\"최종 데이터 크기:\", len(aug_que_corpus))"
   ]
  },
  {
   "cell_type": "code",
   "execution_count": 9,
   "id": "4312e3c8",
   "metadata": {},
   "outputs": [
    {
     "name": "stdout",
     "output_type": "stream",
     "text": [
      "['<start>', '12', '시', '땡', '!', '<end>']\n"
     ]
    }
   ],
   "source": [
    "sample_data = [\"12\", \"시\", \"땡\", \"!\"]\n",
    "\n",
    "print([\"<start>\"] + sample_data + [\"<end>\"])"
   ]
  },
  {
   "cell_type": "code",
   "execution_count": null,
   "id": "231c7f08",
   "metadata": {},
   "outputs": [],
   "source": [
    "# 문제 : <start> 토큰과 <end> 토큰을 추가해 주세요.\n",
    "for idx in range(len(aug_ans_corpus)):\n",
    "    aug_ans_corpus[idx] =#[[YOUR CODE]]\n",
    "\n",
    "src_corpus = aug_que_corpus\n",
    "tgt_corpus = aug_ans_corpus\n",
    "\n",
    "full_corpus = src_corpus + tgt_corpus\n",
    "\n",
    "\n",
    "\n",
    "enc_train, enc_val, dec_train, dec_val = train_test_split(src_corpus, \n",
    "                                                          tgt_corpus, \n",
    "                                                          test_size=0.01)\n",
    "\n",
    "tokenizer = tf.keras.preprocessing.text.Tokenizer(filters='')\n",
    "# 문제 : full_corpus로 tokenizer를 학습시켜주세요.\n",
    "#[[YOUR CODE]]\n",
    "\n",
    "def tokenize_with_tokenizer(corpus, tokenizer):\n",
    "    tensor = tokenizer.texts_to_sequences(corpus)\n",
    "    tensor = tf.keras.preprocessing.sequence.pad_sequences(tensor, padding='post')\n",
    "\n",
    "    return tensor\n",
    "\n",
    "enc_train = tokenize_with_tokenizer(src_corpus, tokenizer)\n",
    "dec_train =#[[YOUR CODE]]\n",
    "\n",
    "SRC_VOCAB_SIZE = TGT_VOCAB_SIZE = len(tokenizer.word_index) + 1"
   ]
  }
 ],
 "metadata": {
  "kernelspec": {
   "display_name": "Python 3 (ipykernel)",
   "language": "python",
   "name": "python3"
  },
  "language_info": {
   "codemirror_mode": {
    "name": "ipython",
    "version": 3
   },
   "file_extension": ".py",
   "mimetype": "text/x-python",
   "name": "python",
   "nbconvert_exporter": "python",
   "pygments_lexer": "ipython3",
   "version": "3.9.7"
  }
 },
 "nbformat": 4,
 "nbformat_minor": 5
}
