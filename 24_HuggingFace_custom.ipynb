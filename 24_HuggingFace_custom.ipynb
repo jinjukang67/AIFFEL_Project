{
 "cells": [
  {
   "cell_type": "code",
   "execution_count": 1,
   "id": "8355a404",
   "metadata": {},
   "outputs": [
    {
     "name": "stdout",
     "output_type": "stream",
     "text": [
      "2.6.0\n",
      "1.21.4\n",
      "4.11.3\n",
      "1.1\n",
      "1.14.0\n"
     ]
    }
   ],
   "source": [
    "import os\n",
    "import tensorflow as tf\n",
    "import numpy as np\n",
    "import transformers\n",
    "import argparse\n",
    "import datasets\n",
    "\n",
    "print(tf.__version__)\n",
    "print(np.__version__)\n",
    "print(transformers.__version__)\n",
    "print(argparse.__version__)\n",
    "print(datasets.__version__)"
   ]
  },
  {
   "cell_type": "code",
   "execution_count": 2,
   "id": "10d2deb4",
   "metadata": {},
   "outputs": [
    {
     "name": "stderr",
     "output_type": "stream",
     "text": [
      "Reusing dataset glue (/aiffel/.cache/huggingface/datasets/glue/cola/1.0.0/dacbe3125aa31d7f70367a07a8a9e72a5a0bfeb5fc42e75c9db75b96da6053ad)\n"
     ]
    },
    {
     "data": {
      "application/vnd.jupyter.widget-view+json": {
       "model_id": "725dfce94c744070bc128a1a8c5812ab",
       "version_major": 2,
       "version_minor": 0
      },
      "text/plain": [
       "  0%|          | 0/3 [00:00<?, ?it/s]"
      ]
     },
     "metadata": {},
     "output_type": "display_data"
    },
    {
     "name": "stdout",
     "output_type": "stream",
     "text": [
      "DatasetDict({\n",
      "    train: Dataset({\n",
      "        features: ['sentence', 'label', 'idx'],\n",
      "        num_rows: 8551\n",
      "    })\n",
      "    validation: Dataset({\n",
      "        features: ['sentence', 'label', 'idx'],\n",
      "        num_rows: 1043\n",
      "    })\n",
      "    test: Dataset({\n",
      "        features: ['sentence', 'label', 'idx'],\n",
      "        num_rows: 1063\n",
      "    })\n",
      "})\n",
      "Counter({1: 6023, 0: 2528})\n"
     ]
    }
   ],
   "source": [
    "# 문제 1\n",
    "from datasets import load_dataset, load_metric\n",
    "import collections\n",
    "\n",
    "cola_dataset = load_dataset('glue','cola')\n",
    "print(cola_dataset)\n",
    "\n",
    "# collections을 이용해 label의 숫자를 확인할 수 있습니다.\n",
    "\n",
    "label_count = collections.Counter(cola_dataset['train']['label'])\n",
    "print(label_count)"
   ]
  },
  {
   "cell_type": "code",
   "execution_count": null,
   "id": "4db3d402",
   "metadata": {},
   "outputs": [],
   "source": [
    "# 문제 2\n",
    "from transformers import AutoTokenizer\n",
    "# distilbert-base-uncased 모델(distilbert 기본모델인데 대소문자를 구별하지 않는 모델)을 토크나이저로 불러오세요\n",
    "bert_tokenizer = AutoTokenizer.from_pretrained('#[[YOUR CODE]]')\n",
    "\n",
    "def transform(data):\n",
    "  return bert_tokenizer(\n",
    "      '#[[YOUR CODE]]'\n",
    "      )\n",
    "  \n",
    "examples = cola_dataset['train'][:5]\n",
    "examples_transformed = transform(examples)\n",
    "\n",
    "print(examples)\n",
    "print(examples_transformed)"
   ]
  }
 ],
 "metadata": {
  "kernelspec": {
   "display_name": "Python 3 (ipykernel)",
   "language": "python",
   "name": "python3"
  },
  "language_info": {
   "codemirror_mode": {
    "name": "ipython",
    "version": 3
   },
   "file_extension": ".py",
   "mimetype": "text/x-python",
   "name": "python",
   "nbconvert_exporter": "python",
   "pygments_lexer": "ipython3",
   "version": "3.9.7"
  }
 },
 "nbformat": 4,
 "nbformat_minor": 5
}
