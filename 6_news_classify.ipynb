{
 "cells": [
  {
   "cell_type": "code",
   "execution_count": 1,
   "id": "78fcc687",
   "metadata": {},
   "outputs": [
    {
     "name": "stdout",
     "output_type": "stream",
     "text": [
      "2.6.0\n",
      "3.4.3\n",
      "0.11.2\n",
      "1.21.4\n",
      "1.3.3\n",
      "1.0\n"
     ]
    }
   ],
   "source": [
    "import tensorflow\n",
    "import matplotlib\n",
    "import seaborn \n",
    "import numpy \n",
    "import pandas\n",
    "import sklearn\n",
    "\n",
    "print(tensorflow.__version__)\n",
    "print(matplotlib.__version__)\n",
    "print(seaborn.__version__)\n",
    "print(numpy.__version__)\n",
    "print(pandas.__version__)\n",
    "print(sklearn.__version__)"
   ]
  },
  {
   "cell_type": "markdown",
   "id": "aa7aee9f",
   "metadata": {},
   "source": [
    "## 모든 단어로 단어사전 만들기"
   ]
  },
  {
   "cell_type": "code",
   "execution_count": 2,
   "id": "8ec52d8d",
   "metadata": {},
   "outputs": [],
   "source": [
    "from tensorflow.keras.datasets import reuters\n",
    "import matplotlib.pyplot as plt\n",
    "import seaborn as sns\n",
    "import numpy as np\n",
    "import pandas as pd\n",
    "import warnings\n",
    "warnings.filterwarnings(action='ignore')\n",
    "\n",
    "from sklearn.feature_extraction.text import CountVectorizer\n",
    "from sklearn.feature_extraction.text import TfidfTransformer"
   ]
  },
  {
   "cell_type": "code",
   "execution_count": 3,
   "id": "ff9fa795",
   "metadata": {},
   "outputs": [
    {
     "name": "stdout",
     "output_type": "stream",
     "text": [
      "Downloading data from https://storage.googleapis.com/tensorflow/tf-keras-datasets/reuters.npz\n",
      "2113536/2110848 [==============================] - 0s 0us/step\n",
      "2121728/2110848 [==============================] - 0s 0us/step\n"
     ]
    }
   ],
   "source": [
    "(x_train, y_train), (x_test, y_test) = reuters.load_data(num_words=None, test_split=0.2)"
   ]
  },
  {
   "cell_type": "code",
   "execution_count": 4,
   "id": "a554087a",
   "metadata": {
    "scrolled": false
   },
   "outputs": [
    {
     "name": "stdout",
     "output_type": "stream",
     "text": [
      "훈련 샘플의 수:8982\n",
      "테스트 샘플의 수:2246\n"
     ]
    }
   ],
   "source": [
    "print(\"훈련 샘플의 수:{}\".format(len(x_train)))\n",
    "print(\"테스트 샘플의 수:{}\".format(len(x_test)))"
   ]
  },
  {
   "cell_type": "code",
   "execution_count": 5,
   "id": "bd1050e3",
   "metadata": {
    "scrolled": true
   },
   "outputs": [
    {
     "name": "stdout",
     "output_type": "stream",
     "text": [
      "[1, 27595, 28842, 8, 43, 10, 447, 5, 25, 207, 270, 5, 3095, 111, 16, 369, 186, 90, 67, 7, 89, 5, 19, 102, 6, 19, 124, 15, 90, 67, 84, 22, 482, 26, 7, 48, 4, 49, 8, 864, 39, 209, 154, 6, 151, 6, 83, 11, 15, 22, 155, 11, 15, 7, 48, 9, 4579, 1005, 504, 6, 258, 6, 272, 11, 15, 22, 134, 44, 11, 15, 16, 8, 197, 1245, 90, 67, 52, 29, 209, 30, 32, 132, 6, 109, 15, 17, 12]\n",
      "[1, 4, 1378, 2025, 9, 697, 4622, 111, 8, 25, 109, 29, 3650, 11, 150, 244, 364, 33, 30, 30, 1398, 333, 6, 18292, 159, 9, 1084, 363, 13, 19231, 71, 9, 16273, 71, 117, 4, 225, 78, 206, 10, 9, 1214, 8, 4, 270, 5, 16273, 7, 748, 48, 9, 19231, 7, 207, 1451, 966, 1864, 793, 97, 133, 336, 7, 4, 493, 98, 273, 104, 284, 25, 39, 338, 22, 905, 220, 3465, 644, 59, 20, 6, 119, 61, 11, 15, 58, 579, 26, 10, 67, 7, 4, 738, 98, 43, 88, 333, 722, 12, 20, 6, 19, 746, 35, 15, 10, 9, 1214, 855, 129, 783, 21, 4, 2280, 244, 364, 51, 16, 299, 452, 16, 515, 4, 99, 29, 5, 4, 364, 281, 48, 10, 9, 1214, 23, 644, 47, 20, 324, 27, 56, 23406, 28185, 5, 192, 510, 17, 12]\n"
     ]
    }
   ],
   "source": [
    "print(x_train[0])\n",
    "print(x_test[0])"
   ]
  },
  {
   "cell_type": "code",
   "execution_count": 6,
   "id": "99be2693",
   "metadata": {},
   "outputs": [
    {
     "name": "stdout",
     "output_type": "stream",
     "text": [
      "3\n",
      "3\n"
     ]
    }
   ],
   "source": [
    "print(y_train[0])\n",
    "print(y_test[0])"
   ]
  },
  {
   "cell_type": "code",
   "execution_count": 7,
   "id": "3a770acc",
   "metadata": {},
   "outputs": [
    {
     "name": "stdout",
     "output_type": "stream",
     "text": [
      "클래스의 수 : 46\n"
     ]
    }
   ],
   "source": [
    "num_classes = max(y_train) + 1\n",
    "print('클래스의 수 : {}'.format(num_classes))"
   ]
  },
  {
   "cell_type": "code",
   "execution_count": 8,
   "id": "dce40c37",
   "metadata": {},
   "outputs": [
    {
     "name": "stdout",
     "output_type": "stream",
     "text": [
      "훈련용 뉴스의 최대 길이: 2376\n",
      "훈련용 뉴스의 평균 길이: 145.5398574927633\n"
     ]
    },
    {
     "data": {
      "image/png": "[encoded data removed]",
      "text/plain": [
       "<Figure size 432x288 with 1 Axes>"
      ]
     },
     "metadata": {
      "needs_background": "light"
     },
     "output_type": "display_data"
    }
   ],
   "source": [
    "# 훈련용 데이터의 최대 길이 및 평균 길이\n",
    "print(\"훈련용 뉴스의 최대 길이: {}\".format(max(len(l) for l in x_train)))\n",
    "print(\"훈련용 뉴스의 평균 길이: {}\".format(sum(map(len, x_train))/len(x_train)))\n",
    "      \n",
    "plt.hist([len(s) for s in x_train], bins=50)\n",
    "plt.xlabel(\"length of samples\")\n",
    "plt.ylabel(\"number of samples\")\n",
    "plt.show()"
   ]
  },
  {
   "cell_type": "code",
   "execution_count": 9,
   "id": "674044b8",
   "metadata": {
    "scrolled": true
   },
   "outputs": [
    {
     "data": {
      "text/plain": [
       "<AxesSubplot:ylabel='count'>"
      ]
     },
     "execution_count": 9,
     "metadata": {},
     "output_type": "execute_result"
    },
    {
     "data": {
      "image/png": "[encoded data removed]",
      "text/plain": [
       "<Figure size 864x360 with 1 Axes>"
      ]
     },
     "metadata": {
      "needs_background": "light"
     },
     "output_type": "display_data"
    }
   ],
   "source": [
    "# 클래스의 분포 보기\n",
    "fig, axe = plt.subplots(ncols=1)\n",
    "fig.set_size_inches(12, 5)\n",
    "sns.countplot(y_train)"
   ]
  },
  {
   "cell_type": "code",
   "execution_count": 10,
   "id": "b112c396",
   "metadata": {
    "scrolled": true
   },
   "outputs": [
    {
     "name": "stdout",
     "output_type": "stream",
     "text": [
      "각 클래스 빈도수:\n",
      "[[   0    1    2    3    4    5    6    7    8    9   10   11   12   13\n",
      "    14   15   16   17   18   19   20   21   22   23   24   25   26   27\n",
      "    28   29   30   31   32   33   34   35   36   37   38   39   40   41\n",
      "    42   43   44   45]\n",
      " [  55  432   74 3159 1949   17   48   16  139  101  124  390   49  172\n",
      "    26   20  444   39   66  549  269  100   15   41   62   92   24   15\n",
      "    48   19   45   39   32   11   50   10   49   19   19   24   36   30\n",
      "    13   21   12   18]]\n"
     ]
    }
   ],
   "source": [
    "unique_elements, counts_elements = np.unique(y_train, return_counts=True)\n",
    "print(\"각 클래스 빈도수:\")\n",
    "print(np.asarray((unique_elements, counts_elements)))"
   ]
  },
  {
   "cell_type": "code",
   "execution_count": 11,
   "id": "0af084d0",
   "metadata": {
    "scrolled": true
   },
   "outputs": [
    {
     "name": "stdout",
     "output_type": "stream",
     "text": [
      "Downloading data from https://storage.googleapis.com/tensorflow/tf-keras-datasets/reuters_word_index.json\n",
      "557056/550378 [==============================] - 0s 0us/step\n",
      "565248/550378 [==============================] - 0s 0us/step\n"
     ]
    }
   ],
   "source": [
    "word_index = reuters.get_word_index(path=\"reuters_word_index.json\")"
   ]
  },
  {
   "cell_type": "code",
   "execution_count": 12,
   "id": "6ddd677e",
   "metadata": {
    "scrolled": true
   },
   "outputs": [
    {
     "name": "stdout",
     "output_type": "stream",
     "text": [
      "1\n",
      "104\n"
     ]
    }
   ],
   "source": [
    "print(word_index['the'])\n",
    "print(word_index['if'])"
   ]
  },
  {
   "cell_type": "code",
   "execution_count": 13,
   "id": "f86acb35",
   "metadata": {},
   "outputs": [],
   "source": [
    "index_to_word = {index+3 : word for word, index in word_index.items()}"
   ]
  },
  {
   "cell_type": "code",
   "execution_count": 14,
   "id": "42a294cc",
   "metadata": {},
   "outputs": [
    {
     "name": "stdout",
     "output_type": "stream",
     "text": [
      "the\n",
      "february\n"
     ]
    }
   ],
   "source": [
    "print(index_to_word[4])\n",
    "print(index_to_word[104])"
   ]
  },
  {
   "cell_type": "markdown",
   "id": "cf8fc28b",
   "metadata": {},
   "source": [
    "사실 { 0 : `<pad>` , 1 : `<sos>`, 2 : `<unk>` } 토큰을 나타나기 때문에  <br>\n",
    "    'the'는 1번이 아니라 4번 단어이다."
   ]
  },
  {
   "cell_type": "code",
   "execution_count": 15,
   "id": "cb3ff0ce",
   "metadata": {},
   "outputs": [
    {
     "name": "stdout",
     "output_type": "stream",
     "text": [
      "8982\n",
      "2246\n",
      "(8982, 26506)\n",
      "(2246, 26506)\n",
      "(8982, 26506)\n",
      "(2246, 26506)\n"
     ]
    }
   ],
   "source": [
    "# 문제 1: 로이터 뉴스 데이터의 단어장을 만들고,\n",
    "# 훈련 데이터와 테스트 데이터로부터 DTM, TF-IDF 행렬을 생성해주세요.\n",
    "\n",
    "# 데이터의 단어장\n",
    "word_index = reuters.get_word_index(path=\"reuters_word_index.json\")\n",
    "index_to_word = {index+3 : word for word, index in word_index.items()}\n",
    "\n",
    "# <pad>:0, <sos>:1, <unk>:2 토큰 넣어주기\n",
    "for index, token in enumerate((\"<pad>\", \"<sos>\", \"<unk>\")):\n",
    "    index_to_word[index]=token\n",
    "\n",
    "# 훈련 데이터 변환\n",
    "decoded = []\n",
    "for i in range(len(x_train)):\n",
    "    t = ' '.join([index_to_word[index] for index in x_train[i]])\n",
    "    decoded.append(t)\n",
    "    \n",
    "x_train = decoded\n",
    "print(len(x_train))\n",
    "\n",
    "# 테스트 데이터 변환\n",
    "decoded = []\n",
    "for i in range(len(x_test)):\n",
    "    t = ' '.join([index_to_word[index] for index in x_test[i]])\n",
    "    decoded.append(t)\n",
    "    \n",
    "x_test = decoded\n",
    "print(len(x_test))\n",
    "\n",
    "# DTM 만들기\n",
    "dtmvector = CountVectorizer()\n",
    "x_train_dtm = dtmvector.fit_transform(x_train)\n",
    "x_test_dtm = dtmvector.transform(x_test)\n",
    "print(x_train_dtm.shape)\n",
    "print(x_test_dtm.shape)\n",
    "\n",
    "# TF-IDF 행렬 만들기\n",
    "tfidf_transformer = TfidfTransformer()\n",
    "tfidfv = tfidf_transformer.fit_transform(x_train_dtm)\n",
    "print(tfidfv.shape)\n",
    "\n",
    "# 평가 데이터를 TF-IDF로 변환\n",
    "tfidfv_test = tfidf_transformer.transform(x_test_dtm)\n",
    "print(tfidfv_test.shape)"
   ]
  },
  {
   "cell_type": "code",
   "execution_count": 16,
   "id": "a2fe18b5",
   "metadata": {},
   "outputs": [],
   "source": [
    "# 모델 및 평가 지표 라이브러리 import \n",
    "from sklearn.naive_bayes import MultinomialNB #다항분포 나이브 베이즈 모델\n",
    "from sklearn.linear_model import LogisticRegression, SGDClassifier\n",
    "from sklearn.naive_bayes import ComplementNB\n",
    "from sklearn.tree import DecisionTreeClassifier\n",
    "from sklearn.ensemble import RandomForestClassifier\n",
    "from sklearn.ensemble import VotingClassifier\n",
    "from sklearn.svm import LinearSVC\n",
    "from sklearn.metrics import accuracy_score #정확도 계산\n",
    "from sklearn.metrics import confusion_matrix\n",
    "from sklearn.metrics import f1_score\n",
    "from sklearn.metrics import classification_report"
   ]
  },
  {
   "cell_type": "code",
   "execution_count": 17,
   "id": "c6b95e40",
   "metadata": {},
   "outputs": [],
   "source": [
    "# 문제 2: TF-IDF로 표현된 데이터에 위의 머신러닝 모델들을 적용하고,\n",
    "# 모델의 정확도와 f1 score를 각각 출력하는 함수 models_accuracy를 구현해주세요.\n",
    "\n",
    "model = MultinomialNB()\n",
    "def models_accuracy(tfidfv, tfidfv_test, y_train, y_test):\n",
    "    model.fit(tfidfv, y_train)\n",
    "    predicted = model.predict(tfidfv_test)\n",
    "    print(\"정확도:\", accuracy_score(y_test, predicted))\n",
    "    print(\"f1_score:\", f1_score(y_test, predicted, average=None))"
   ]
  },
  {
   "cell_type": "code",
   "execution_count": 19,
   "id": "a9e66f5e",
   "metadata": {},
   "outputs": [
    {
     "name": "stdout",
     "output_type": "stream",
     "text": [
      "정확도: 0.5997328584149599\n",
      "f1_score: [0.         0.33082707 0.         0.81189189 0.60869565 0.\n",
      " 0.         0.         0.         0.         0.         0.42477876\n",
      " 0.         0.         0.         0.         0.29268293 0.\n",
      " 0.         0.64435146 0.         0.         0.         0.\n",
      " 0.         0.         0.         0.         0.         0.\n",
      " 0.         0.         0.         0.         0.         0.\n",
      " 0.         0.         0.         0.         0.         0.\n",
      " 0.         0.         0.         0.        ]\n"
     ]
    }
   ],
   "source": [
    "# 성능 비교\n",
    "models_accuracy(tfidfv, tfidfv_test, y_train, y_test)"
   ]
  },
  {
   "cell_type": "code",
   "execution_count": 20,
   "id": "abf79668",
   "metadata": {},
   "outputs": [
    {
     "name": "stdout",
     "output_type": "stream",
     "text": [
      "<sos> graham mccormick oil and gas partnership said it completed the sale of interests in two major oil and gas fields to lt energy assets international corp for 21 mln dlrs the company said it sold about one half of its 50 pct interest in the oak hill and north rucias fields its two largest producing properties it said it used about 20 mln dlrs of the proceeds to prepay principal on its senior secured notes semi annual principal payments on the remaining 40 mln dlrs of notes have been satisfied until december 1988 as a result it said the company said the note agreements were amended to reflect an easing of some financial covenants and an increase of interest to 13 5 pct from 13 0 pct until december 1990 it said the noteholders exercise price for 1 125 000 warrants was also reduced to 50 cts from 1 50 dlrs the company said energy assets agreed to share the costs of increasing production at the oak hill field reuter 3\n",
      "4\n"
     ]
    }
   ],
   "source": [
    "print(x_test[3])\n",
    "print(y_test[3])"
   ]
  },
  {
   "cell_type": "code",
   "execution_count": 21,
   "id": "faa713e7",
   "metadata": {},
   "outputs": [
    {
     "data": {
      "image/png": "[encoded data removed]",
      "text/plain": [
       "<Figure size 792x360 with 1 Axes>"
      ]
     },
     "metadata": {
      "needs_background": "light"
     },
     "output_type": "display_data"
    },
    {
     "data": {
      "text/plain": [
       "array([4])"
      ]
     },
     "execution_count": 21,
     "metadata": {},
     "output_type": "execute_result"
    }
   ],
   "source": [
    "probability_3 = model.predict_proba(tfidfv_test[3])[0]\n",
    "\n",
    "plt.rcParams[\"figure.figsize\"] = (11,5)\n",
    "plt.bar(model.classes_, probability_3)\n",
    "plt.xlim(-1, 21)\n",
    "plt.xticks(model.classes_)\n",
    "plt.xlabel(\"Class\")\n",
    "plt.ylabel(\"Probability\")\n",
    "plt.show()\n",
    "model.predict(tfidfv_test[3])"
   ]
  },
  {
   "cell_type": "markdown",
   "id": "1ff300fd",
   "metadata": {},
   "source": [
    "## 빈도수 상위 5,000자를 사용해 Vocabulary 만들기"
   ]
  },
  {
   "cell_type": "code",
   "execution_count": 22,
   "id": "0e7f1eff",
   "metadata": {},
   "outputs": [],
   "source": [
    "# 데이터 불러오기\n",
    "(x_train1, y_train1), (x_test1, y_test1) = reuters.load_data(num_words=5000, test_split=0.2)"
   ]
  },
  {
   "cell_type": "code",
   "execution_count": 23,
   "id": "65622712",
   "metadata": {},
   "outputs": [],
   "source": [
    "# 데이터의 단어장\n",
    "word_index = reuters.get_word_index(path=\"reuters_word_index.json\")\n",
    "index_to_word = {index+3 : word for word, index in word_index.items()}\n",
    "\n",
    "# <pad>:0, <sos>:1, <unk>:2 토큰 넣어주기\n",
    "for index, token in enumerate((\"<pad>\", \"<sos>\", \"<unk>\")):\n",
    "    index_to_word[index]=token"
   ]
  },
  {
   "cell_type": "code",
   "execution_count": 24,
   "id": "4277e7db",
   "metadata": {},
   "outputs": [
    {
     "name": "stdout",
     "output_type": "stream",
     "text": [
      "8982\n",
      "2246\n"
     ]
    }
   ],
   "source": [
    "# 훈련 데이터 변환\n",
    "decoded1 = []\n",
    "for i in range(len(x_train1)):\n",
    "    t = ' '.join([index_to_word[index] for index in x_train1[i]])\n",
    "    decoded1.append(t)\n",
    "    \n",
    "x_train1 = decoded1\n",
    "print(len(x_train1))\n",
    "\n",
    "# 테스트 데이터 변환\n",
    "decoded1 = []\n",
    "for i in range(len(x_test1)):\n",
    "    t = ' '.join([index_to_word[index] for index in x_test1[i]])\n",
    "    decoded1.append(t)\n",
    "    \n",
    "x_test1 = decoded1\n",
    "print(len(x_test1))"
   ]
  },
  {
   "cell_type": "code",
   "execution_count": 25,
   "id": "21da49d2",
   "metadata": {},
   "outputs": [
    {
     "name": "stdout",
     "output_type": "stream",
     "text": [
      "(8982, 4867)\n",
      "(2246, 4867)\n",
      "(8982, 4867)\n",
      "(2246, 4867)\n"
     ]
    }
   ],
   "source": [
    "# DTM 만들기\n",
    "dtmvector = CountVectorizer()\n",
    "x_train1_dtm = dtmvector.fit_transform(x_train1)\n",
    "x_test1_dtm = dtmvector.transform(x_test1)\n",
    "print(x_train1_dtm.shape)\n",
    "print(x_test1_dtm.shape)\n",
    "\n",
    "# TF-IDF 행렬 만들기\n",
    "tfidf_transformer = TfidfTransformer()\n",
    "tfidfv1 = tfidf_transformer.fit_transform(x_train1_dtm)\n",
    "print(tfidfv1.shape)\n",
    "\n",
    "# 평가 데이터를 TF-IDF로 변환\n",
    "tfidfv_test1 =  tfidf_transformer.transform(x_test1_dtm)\n",
    "print(tfidfv_test1.shape)"
   ]
  },
  {
   "cell_type": "code",
   "execution_count": 26,
   "id": "e04d85ca",
   "metadata": {},
   "outputs": [
    {
     "name": "stdout",
     "output_type": "stream",
     "text": [
      "정확도: 0.6731967943009796\n",
      "f1_score: [0.         0.61764706 0.         0.87061669 0.72859451 0.\n",
      " 0.         0.         0.         0.4375     0.         0.57819905\n",
      " 0.         0.23809524 0.         0.         0.625      0.\n",
      " 0.         0.62608696 0.225      0.         0.         0.\n",
      " 0.         0.12121212 0.         0.         0.         0.\n",
      " 0.         0.         0.         0.         0.         0.\n",
      " 0.         0.         0.         0.         0.         0.\n",
      " 0.         0.         0.         0.        ]\n"
     ]
    }
   ],
   "source": [
    "# 성능 비교\n",
    "models_accuracy(tfidfv1, tfidfv_test1, y_train1, y_test1)"
   ]
  },
  {
   "cell_type": "code",
   "execution_count": 27,
   "id": "033a2530",
   "metadata": {},
   "outputs": [
    {
     "data": {
      "image/png": "[encoded data removed]",
      "text/plain": [
       "<Figure size 864x864 with 2 Axes>"
      ]
     },
     "metadata": {
      "needs_background": "light"
     },
     "output_type": "display_data"
    }
   ],
   "source": [
    "# confusion matrix 시각화\n",
    "def graph_confusion_matrix(model, x_test, y_test):#, classes_name):\n",
    "    df_cm = pd.DataFrame(confusion_matrix(y_test, model.predict(x_test)))#, index=classes_name, columns=classes_name)\n",
    "    fig = plt.figure(figsize=(12,12))\n",
    "    heatmap = sns.heatmap(df_cm, annot=True, fmt=\"d\")\n",
    "    heatmap.yaxis.set_ticklabels(heatmap.yaxis.get_ticklabels(), rotation=0, ha='right', fontsize=12)\n",
    "    heatmap.xaxis.set_ticklabels(heatmap.xaxis.get_ticklabels(), rotation=45, ha='right', fontsize=12)\n",
    "    plt.ylabel('label')\n",
    "    plt.xlabel('predicted value')\n",
    "    \n",
    "graph_confusion_matrix(model, tfidfv_test1, y_test1)"
   ]
  },
  {
   "cell_type": "markdown",
   "id": "e8217dbf",
   "metadata": {},
   "source": [
    "## 머신러닝 모델 사용"
   ]
  },
  {
   "cell_type": "code",
   "execution_count": 28,
   "id": "a7f6bd82",
   "metadata": {},
   "outputs": [
    {
     "name": "stdout",
     "output_type": "stream",
     "text": [
      "정확도: 0.7707034728406055\n"
     ]
    }
   ],
   "source": [
    "# Complement Naive Bayes Classifier(CNB)\n",
    "cb = ComplementNB()\n",
    "cb.fit(tfidfv1, y_train1)\n",
    "predicted = cb.predict(tfidfv_test1) #테스트 데이터에 대한 예측\n",
    "print(\"정확도:\", accuracy_score(y_test1, predicted)) #예측값과 실제값 비교"
   ]
  },
  {
   "cell_type": "code",
   "execution_count": 29,
   "id": "f743d070",
   "metadata": {},
   "outputs": [
    {
     "name": "stdout",
     "output_type": "stream",
     "text": [
      "정확도: 0.8036509349955476\n"
     ]
    }
   ],
   "source": [
    "# 로지스틱 회귀(Logistic Regression)\n",
    "lr = LogisticRegression(C=10000, penalty='l2', max_iter=3000)\n",
    "lr.fit(tfidfv1, y_train1)\n",
    "predicted = lr.predict(tfidfv_test1) #테스트 데이터에 대한 예측\n",
    "print(\"정확도:\", accuracy_score(y_test1, predicted)) #예측값과 실제값 비교"
   ]
  },
  {
   "cell_type": "code",
   "execution_count": 30,
   "id": "0524bfa5",
   "metadata": {},
   "outputs": [
    {
     "name": "stdout",
     "output_type": "stream",
     "text": [
      "정확도: 0.7729296527159395\n"
     ]
    }
   ],
   "source": [
    "# 선형 서포트 벡터 머신(Linear Support Vector Machine)\n",
    "lsvc = LinearSVC(C=1000, penalty='l1', max_iter=3000, dual=False)\n",
    "lsvc.fit(tfidfv1, y_train1)\n",
    "predicted = lsvc.predict(tfidfv_test1) #테스트 데이터에 대한 예측\n",
    "print(\"정확도:\", accuracy_score(y_test1, predicted)) #예측값과 실제값 비교"
   ]
  },
  {
   "cell_type": "code",
   "execution_count": 31,
   "id": "98c7fe5a",
   "metadata": {},
   "outputs": [
    {
     "name": "stdout",
     "output_type": "stream",
     "text": [
      "정확도: 0.6211041852181657\n"
     ]
    }
   ],
   "source": [
    "# 결정 트리(Decision Tree)\n",
    "tree = DecisionTreeClassifier(max_depth=10, random_state=0)\n",
    "tree.fit(tfidfv, y_train)\n",
    "predicted = tree.predict(tfidfv_test) #테스트 데이터에 대한 예측\n",
    "print(\"정확도:\", accuracy_score(y_test, predicted)) #예측값과 실제값 비교"
   ]
  },
  {
   "cell_type": "code",
   "execution_count": 32,
   "id": "da3742be",
   "metadata": {},
   "outputs": [
    {
     "name": "stdout",
     "output_type": "stream",
     "text": [
      "정확도: 0.6544968833481746\n"
     ]
    }
   ],
   "source": [
    "# 랜덤 포레스트(Random Forest)\n",
    "forest = RandomForestClassifier(n_estimators=5, random_state=0)\n",
    "forest.fit(tfidfv, y_train)\n",
    "predicted = forest.predict(tfidfv_test) #테스트 데이터에 대한 예측\n",
    "print(\"정확도:\", accuracy_score(y_test, predicted)) #예측값과 실제값 비교"
   ]
  },
  {
   "cell_type": "markdown",
   "id": "56af46ed",
   "metadata": {},
   "source": [
    "## 딥러닝 모델 사용"
   ]
  },
  {
   "cell_type": "code",
   "execution_count": 49,
   "id": "fcf7b240",
   "metadata": {},
   "outputs": [],
   "source": [
    "from tensorflow.keras.models import Sequential, load_model\n",
    "from tensorflow.keras.layers import Dense, LSTM, Embedding\n",
    "from tensorflow.keras.preprocessing.sequence import pad_sequences\n",
    "from tensorflow.keras.utils import to_categorical\n",
    "from tensorflow.keras.callbacks import EarlyStopping, ModelCheckpoint"
   ]
  },
  {
   "cell_type": "code",
   "execution_count": 50,
   "id": "460ab524",
   "metadata": {},
   "outputs": [
    {
     "name": "stdout",
     "output_type": "stream",
     "text": [
      "8982 2246\n"
     ]
    }
   ],
   "source": [
    "# 데이터 불러오기\n",
    "# 최적의 모델과 단어 수 조건은 사람마다 다르므로 여기서는 5,000개로 설정하겠습니다. \n",
    "(x_train, y_train), (x_test, y_test) = reuters.load_data(num_words=5000, test_split=0.2)\n",
    "print(len(x_train), len(x_test))"
   ]
  },
  {
   "cell_type": "code",
   "execution_count": 51,
   "id": "4710446c",
   "metadata": {},
   "outputs": [
    {
     "name": "stdout",
     "output_type": "stream",
     "text": [
      "훈련용 뉴스의 최대 길이: 2376\n",
      "훈련용 뉴스의 평균 길이: 145.5398574927633\n"
     ]
    },
    {
     "data": {
      "image/png": "[encoded data removed]",
      "text/plain": [
       "<Figure size 792x360 with 1 Axes>"
      ]
     },
     "metadata": {
      "needs_background": "light"
     },
     "output_type": "display_data"
    }
   ],
   "source": [
    "# 훈련용 데이터 최대 길이 및 평균 길이 살펴보기\n",
    "print(\"훈련용 뉴스의 최대 길이: {}\".format(max(len(l) for l in x_train)))\n",
    "print(\"훈련용 뉴스의 평균 길이: {}\".format(sum(map(len, x_train))/len(x_train)))\n",
    "      \n",
    "plt.hist([len(s) for s in x_train], bins=50)\n",
    "plt.xlabel(\"length of samples\")\n",
    "plt.ylabel(\"number of samples\")\n",
    "plt.show()"
   ]
  },
  {
   "cell_type": "code",
   "execution_count": 52,
   "id": "f6a2ad1c",
   "metadata": {},
   "outputs": [
    {
     "name": "stdout",
     "output_type": "stream",
     "text": [
      "테스트용 뉴스의 최대 길이: 1032\n",
      "테스트용 뉴스의 평균 길이: 147.66117542297417\n"
     ]
    },
    {
     "data": {
      "image/png": "[encoded data removed]",
      "text/plain": [
       "<Figure size 792x360 with 1 Axes>"
      ]
     },
     "metadata": {
      "needs_background": "light"
     },
     "output_type": "display_data"
    }
   ],
   "source": [
    "# 테스트 데이터 최대 길이 및 평균 길이 살펴보기\n",
    "print(\"테스트용 뉴스의 최대 길이: {}\".format(max(len(l) for l in x_test)))\n",
    "print(\"테스트용 뉴스의 평균 길이: {}\".format(sum(map(len, x_test))/len(x_test)))\n",
    "      \n",
    "plt.hist([len(s) for s in x_test], bins=50)\n",
    "plt.xlabel(\"length of samples\")\n",
    "plt.ylabel(\"number of samples\")\n",
    "plt.show()"
   ]
  },
  {
   "cell_type": "code",
   "execution_count": 53,
   "id": "f393c966",
   "metadata": {},
   "outputs": [],
   "source": [
    "# keras.preprocessing.sequence.pad_sequences()를 사용하여 패딩\n",
    "maxlen = 100\n",
    "\n",
    "x_train = keras.preprocessing.sequence.pad_sequences(x_train, padding='pre', maxlen=maxlen)\n",
    "x_test = keras.preprocessing.sequence.pad_sequences(x_test, padding='pre', maxlen=maxlen)"
   ]
  },
  {
   "cell_type": "code",
   "execution_count": 54,
   "id": "c70fef3a",
   "metadata": {},
   "outputs": [],
   "source": [
    "# to_categorical()을 사용하여 레이블에 원-핫인코딩을 해보세요. \n",
    "y_train = to_categorical(y_train)\n",
    "y_test = to_categorical(y_test)"
   ]
  },
  {
   "cell_type": "code",
   "execution_count": 63,
   "id": "5dd6ba18",
   "metadata": {},
   "outputs": [],
   "source": [
    "# http://blog.naver.com/PostView.nhn?blogId=wideeyed&logNo=221226716255 참고\n",
    "\n",
    "from tensorflow.keras import backend as K\n",
    "def recall(y_target, y_pred):\n",
    "    y_target_yn = K.round(K.clip(y_target, 0, 1)) # 실제값을 0(Negative) 또는 1(Positive)로 설정한다\n",
    "    y_pred_yn = K.round(K.clip(y_pred, 0, 1)) # 예측값을 0(Negative) 또는 1(Positive)로 설정한다\n",
    "\n",
    "    # True Positive는 실제 값과 예측 값이 모두 1(Positive)인 경우이다\n",
    "    count_true_positive = K.sum(y_target_yn * y_pred_yn) \n",
    "\n",
    "    # (True Positive + False Negative) = 실제 값이 1(Positive) 전체\n",
    "    count_true_positive_false_negative = K.sum(y_target_yn)\n",
    "\n",
    "    # Recall =  (True Positive) / (True Positive + False Negative)\n",
    "    recall = count_true_positive / (count_true_positive_false_negative + K.epsilon())\n",
    "\n",
    "    # return a single tensor value\n",
    "    return recall\n",
    "\n",
    "\n",
    "def precision(y_target, y_pred):\n",
    "    y_pred_yn = K.round(K.clip(y_pred, 0, 1)) \n",
    "    y_target_yn = K.round(K.clip(y_target, 0, 1))\n",
    "\n",
    "    count_true_positive = K.sum(y_target_yn * y_pred_yn) \n",
    "\n",
    "    # (True Positive + False Positive) = 예측 값이 1(Positive) 전체\n",
    "    count_true_positive_false_positive = K.sum(y_pred_yn)\n",
    "\n",
    "    # Precision = (True Positive) / (True Positive + False Positive)\n",
    "    precision = count_true_positive / (count_true_positive_false_positive + K.epsilon())\n",
    "\n",
    "    # return a single tensor value\n",
    "    return precision\n",
    "\n",
    "\n",
    "def f1score(y_target, y_pred):\n",
    "    _recall = recall(y_target, y_pred)\n",
    "    _precision = precision(y_target, y_pred)\n",
    "    _f1score = ( 2 * _recall * _precision) / (_recall + _precision+ K.epsilon())\n",
    "    \n",
    "    # return a single tensor value\n",
    "    return _f1score"
   ]
  },
  {
   "cell_type": "code",
   "execution_count": 60,
   "id": "e541f52a",
   "metadata": {
    "scrolled": true
   },
   "outputs": [
    {
     "name": "stdout",
     "output_type": "stream",
     "text": [
      "Model: \"sequential_2\"\n",
      "_________________________________________________________________\n",
      "Layer (type)                 Output Shape              Param #   \n",
      "=================================================================\n",
      "embedding_2 (Embedding)      (None, None, 128)         1280000   \n",
      "_________________________________________________________________\n",
      "lstm_2 (LSTM)                (None, 128)               131584    \n",
      "_________________________________________________________________\n",
      "dense_2 (Dense)              (None, 46)                5934      \n",
      "=================================================================\n",
      "Total params: 1,417,518\n",
      "Trainable params: 1,417,518\n",
      "Non-trainable params: 0\n",
      "_________________________________________________________________\n"
     ]
    }
   ],
   "source": [
    "# 문제 3: 로이터 뉴스 데이터셋을 위한 LSTM 모델을 구현해주세요.\n",
    "\n",
    "# 어휘 사전 크기 \n",
    "vocab_size = 10000\n",
    "# 워드 벡터의 차원수 \n",
    "word_vector_dim = 100\n",
    "\n",
    "\n",
    "#RNN 모델 설계\n",
    "embedding_dim = 128\n",
    "hidden_units = 128\n",
    "num_classes = 46\n",
    "\n",
    "model = Sequential()\n",
    "model.add(Embedding(vocab_size, embedding_dim))\n",
    "model.add(LSTM(hidden_units))\n",
    "model.add(Dense(num_classes, activation='softmax'))\n",
    "\n",
    "model.summary()\n",
    "\n",
    "# early stopping\n",
    "es = EarlyStopping(monitor='val_loss', mode='min', verbose=1, patience=4)\n",
    "#mc = ModelCheckpoint('best_model.h5', monitor='val_acc', mode='max', verbose=1, save_best_only=True)\n",
    "# compile\n",
    "model.compile(loss='categorical_crossentropy', optimizer='adam')"
   ]
  },
  {
   "cell_type": "code",
   "execution_count": 61,
   "id": "3139adfa",
   "metadata": {
    "scrolled": true
   },
   "outputs": [
    {
     "name": "stdout",
     "output_type": "stream",
     "text": [
      "Epoch 1/30\n",
      "57/57 [==============================] - 2s 17ms/step - loss: 2.7017 - val_loss: 2.3821\n",
      "Epoch 2/30\n",
      "57/57 [==============================] - 1s 9ms/step - loss: 2.1974 - val_loss: 2.1152\n",
      "Epoch 3/30\n",
      "57/57 [==============================] - 1s 9ms/step - loss: 2.0017 - val_loss: 1.9442\n",
      "Epoch 4/30\n",
      "57/57 [==============================] - 1s 9ms/step - loss: 1.8226 - val_loss: 1.8875\n",
      "Epoch 5/30\n",
      "57/57 [==============================] - 1s 9ms/step - loss: 1.7315 - val_loss: 1.7701\n",
      "Epoch 6/30\n",
      "57/57 [==============================] - 1s 9ms/step - loss: 1.6440 - val_loss: 1.6708\n",
      "Epoch 7/30\n",
      "57/57 [==============================] - 1s 9ms/step - loss: 1.5186 - val_loss: 1.5965\n",
      "Epoch 8/30\n",
      "57/57 [==============================] - 1s 9ms/step - loss: 1.3963 - val_loss: 1.5392\n",
      "Epoch 9/30\n",
      "57/57 [==============================] - 1s 9ms/step - loss: 1.2917 - val_loss: 1.4867\n",
      "Epoch 10/30\n",
      "57/57 [==============================] - 1s 9ms/step - loss: 1.2068 - val_loss: 1.4653\n",
      "Epoch 11/30\n",
      "57/57 [==============================] - 1s 9ms/step - loss: 1.1419 - val_loss: 1.4676\n",
      "Epoch 12/30\n",
      "57/57 [==============================] - 1s 9ms/step - loss: 1.0635 - val_loss: 1.4435\n",
      "Epoch 13/30\n",
      "57/57 [==============================] - 1s 9ms/step - loss: 1.0101 - val_loss: 1.4963\n",
      "Epoch 14/30\n",
      "57/57 [==============================] - 1s 9ms/step - loss: 0.9025 - val_loss: 1.4105\n",
      "Epoch 15/30\n",
      "57/57 [==============================] - 1s 9ms/step - loss: 0.8148 - val_loss: 1.4428\n",
      "Epoch 16/30\n",
      "57/57 [==============================] - 1s 9ms/step - loss: 0.7386 - val_loss: 1.4074\n",
      "Epoch 17/30\n",
      "57/57 [==============================] - 1s 9ms/step - loss: 0.6799 - val_loss: 1.4677\n",
      "Epoch 18/30\n",
      "57/57 [==============================] - 1s 9ms/step - loss: 0.6274 - val_loss: 1.4378\n",
      "Epoch 19/30\n",
      "57/57 [==============================] - 1s 9ms/step - loss: 0.5585 - val_loss: 1.4628\n",
      "Epoch 20/30\n",
      "57/57 [==============================] - 1s 9ms/step - loss: 0.4955 - val_loss: 1.5241\n",
      "Epoch 00020: early stopping\n"
     ]
    }
   ],
   "source": [
    "# fit\n",
    "history = model.fit(x_train, y_train, batch_size=128, epochs=30, callbacks=[es], validation_split=0.2)"
   ]
  },
  {
   "cell_type": "code",
   "execution_count": 64,
   "id": "f0de99c6",
   "metadata": {},
   "outputs": [
    {
     "ename": "TypeError",
     "evalue": "cannot unpack non-iterable float object",
     "output_type": "error",
     "traceback": [
      "\u001b[0;31m---------------------------------------------------------------------------\u001b[0m",
      "\u001b[0;31mTypeError\u001b[0m                                 Traceback (most recent call last)",
      "\u001b[0;32m/tmp/ipykernel_47/24576946.py\u001b[0m in \u001b[0;36m<module>\u001b[0;34m\u001b[0m\n\u001b[0;32m----> 1\u001b[0;31m \u001b[0mloss\u001b[0m\u001b[0;34m,\u001b[0m \u001b[0maccuracy\u001b[0m\u001b[0;34m,\u001b[0m \u001b[0mf1_score\u001b[0m\u001b[0;34m,\u001b[0m \u001b[0mprecision\u001b[0m\u001b[0;34m,\u001b[0m \u001b[0mrecall\u001b[0m \u001b[0;34m=\u001b[0m \u001b[0mmodel\u001b[0m\u001b[0;34m.\u001b[0m\u001b[0mevaluate\u001b[0m\u001b[0;34m(\u001b[0m\u001b[0mx_test\u001b[0m\u001b[0;34m,\u001b[0m \u001b[0my_test\u001b[0m\u001b[0;34m,\u001b[0m \u001b[0mverbose\u001b[0m\u001b[0;34m=\u001b[0m\u001b[0;36m0\u001b[0m\u001b[0;34m)\u001b[0m\u001b[0;34m\u001b[0m\u001b[0;34m\u001b[0m\u001b[0m\n\u001b[0m\u001b[1;32m      2\u001b[0m \u001b[0mprint\u001b[0m\u001b[0;34m(\u001b[0m\u001b[0;34m'accuracy:'\u001b[0m\u001b[0;34m,\u001b[0m \u001b[0maccuracy\u001b[0m\u001b[0;34m)\u001b[0m\u001b[0;34m\u001b[0m\u001b[0;34m\u001b[0m\u001b[0m\n\u001b[1;32m      3\u001b[0m \u001b[0mprint\u001b[0m\u001b[0;34m(\u001b[0m\u001b[0;34m'f1_score:'\u001b[0m\u001b[0;34m,\u001b[0m \u001b[0mf1_score\u001b[0m\u001b[0;34m)\u001b[0m\u001b[0;34m\u001b[0m\u001b[0;34m\u001b[0m\u001b[0m\n",
      "\u001b[0;31mTypeError\u001b[0m: cannot unpack non-iterable float object"
     ]
    }
   ],
   "source": [
    "loss, accuracy, f1_score, precision, recall = model.evaluate(x_test, y_test, verbose=0)\n",
    "print('accuracy:', accuracy)\n",
    "print('f1_score:', f1_score)"
   ]
  },
  {
   "cell_type": "code",
   "execution_count": null,
   "id": "ce76dffb",
   "metadata": {},
   "outputs": [],
   "source": []
  }
 ],
 "metadata": {
  "kernelspec": {
   "display_name": "Python 3 (ipykernel)",
   "language": "python",
   "name": "python3"
  },
  "language_info": {
   "codemirror_mode": {
    "name": "ipython",
    "version": 3
   },
   "file_extension": ".py",
   "mimetype": "text/x-python",
   "name": "python",
   "nbconvert_exporter": "python",
   "pygments_lexer": "ipython3",
   "version": "3.9.7"
  }
 },
 "nbformat": 4,
 "nbformat_minor": 5
}
